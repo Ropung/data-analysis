{
 "cells": [
  {
   "cell_type": "code",
   "execution_count": 87,
   "metadata": {},
   "outputs": [
    {
     "name": "stdout",
     "output_type": "stream",
     "text": [
      "200\n"
     ]
    }
   ],
   "source": [
    "import requests as req\n",
    "from bs4 import BeautifulSoup\n",
    "from datetime import datetime\n",
    "\n",
    "userAgent = 'Mozilla/5.0 (Macintosh; Intel Mac OS X 10_15_7) AppleWebKit/537.36 (KHTML, like Gecko) Chrome/112.0.0.0 Safari/537.36'\n",
    "headers = {'user-agent': userAgent}\n",
    "\n",
    "URL = 'https://search.naver.com/search.naver?query=날씨'\n",
    "res = req.get(URL,headers=headers)\n",
    "res.raise_for_status()\n",
    "print(res.status_code)\n",
    "soup = BeautifulSoup(res.text,'html.parser')"
   ]
  },
  {
   "cell_type": "code",
   "execution_count": 82,
   "metadata": {},
   "outputs": [
    {
     "name": "stdout",
     "output_type": "stream",
     "text": [
      "==============================\n",
      "날씨 확인 프로그램\n",
      "접속 시간:2023-05-17 10:14:40\n",
      "==============================\n",
      "접속 위치: 북구 문흥2동\n",
      "------------------------------\n",
      "1. 현재 날씨 및 온도 확인\n",
      "2. 최저/최고 온도 확인\n",
      "3. 미세먼지 확인\n",
      "0. 종료\n",
      "------------------------------\n"
     ]
    }
   ],
   "source": [
    "location = soup.select_one('#main_pack > section.sc_new.cs_weather_new._cs_weather > div._tab_flicking > div.top_wrap > div.title_area._area_panel > h2.title')\n",
    "temperature = soup.select_one('#main_pack > section.sc_new.cs_weather_new._cs_weather > div._tab_flicking > div.content_wrap > div.open > div:nth-child(1) > div > div.weather_info > div > div._today > div.weather_graphic > div.temperature_text > strong')\n",
    "weather = soup.select_one('#main_pack > section.sc_new.cs_weather_new._cs_weather > div._tab_flicking > div.content_wrap > div.open > div:nth-child(1) > div > div.weather_info > div > div._today > div.temperature_info > p > span.weather.before_slash')\n",
    "low_temper = soup.select_one('#main_pack > section.sc_new.cs_weather_new._cs_weather > div._tab_flicking > div.content_wrap > div.content_area > div.inner > div > div.list_box._weekly_weather > ul > li:nth-child(1) > div > div.cell_temperature > span > span.lowest')\n",
    "high_temper = soup.select_one('#main_pack > section.sc_new.cs_weather_new._cs_weather > div._tab_flicking > div.content_wrap > div.content_area > div.inner > div > div.list_box._weekly_weather > ul > li:nth-child(1) > div > div.cell_temperature > span > span.highest')\n",
    "fine_dust = soup.select_one('#main_pack > section.sc_new.cs_weather_new._cs_weather > div._tab_flicking > div.content_wrap > div.open > div:nth-child(1) > div > div.weather_info > div > div.report_card_wrap > ul > li:nth-child(1) > a > span')\n",
    "\n",
    "print('==============================')\n",
    "print('날씨 확인 프로그램')\n",
    "print(f\"접속 시간:{datetime.now().strftime('%Y-%m-%d %H:%M:%S')}\")\n",
    "print('==============================')\n",
    "print(f'접속 위치: {location.string}')\n",
    "print('------------------------------')\n",
    "print('1. 현재 날씨 및 온도 확인')\n",
    "print('2. 최저/최고 온도 확인')\n",
    "print('3. 미세먼지 확인')\n",
    "print('0. 종료')\n",
    "print('------------------------------')"
   ]
  },
  {
   "cell_type": "code",
   "execution_count": 83,
   "metadata": {},
   "outputs": [
    {
     "name": "stdout",
     "output_type": "stream",
     "text": [
      "번호를 입력하세요.\n",
      "1\n",
      "------------------------------\n",
      "구름많음 / 현재 온도25.9°\n",
      "------------------------------\n",
      "번호를 입력하세요.\n",
      "2\n",
      "------------------------------\n",
      "최저기온16°\n",
      "최고기온31°\n",
      "------------------------------\n",
      "번호를 입력하세요.\n",
      "3\n",
      "------------------------------\n",
      "미세먼지 확인\n",
      "좋음\n",
      "------------------------------\n",
      "번호를 입력하세요.\n",
      "\n"
     ]
    }
   ],
   "source": [
    "while True:\n",
    "\n",
    "    print('번호를 입력하세요.')\n",
    "    select = input(f'번호를 입력하세요.')\n",
    "    print(select)\n",
    "    if select == '1':\n",
    "        print('------------------------------')\n",
    "        print(weather.string,\"/\",temperature.get_text())\n",
    "        print('------------------------------')\n",
    "    elif select == '2':\n",
    "        print('------------------------------')\n",
    "        print(low_temper.get_text())\n",
    "        print(high_temper.get_text())\n",
    "        print('------------------------------')\n",
    "    elif select == '3':\n",
    "        print('------------------------------')\n",
    "        print('미세먼지 확인')\n",
    "        print(fine_dust.string)\n",
    "        print('------------------------------')\n",
    "    else:\n",
    "        break"
   ]
  },
  {
   "cell_type": "code",
   "execution_count": 99,
   "metadata": {},
   "outputs": [],
   "source": [
    "from selenium import webdriver\n",
    "from selenium.webdriver.chrome.service import Service\n",
    "from webdriver_manager.chrome import ChromeDriverManager\n",
    "from selenium.webdriver.common.by import By\n",
    "from selenium.webdriver.common.keys import Keys\n",
    "import time\n",
    "\n",
    "SCROLL_PAUSE_TIME = 1\n",
    "SEARCH_KEY_WORD =  'python'\n",
    "\n",
    "driver = webdriver.Chrome(service=Service(ChromeDriverManager().install()),\n",
    "                         options=webdriver.ChromeOptions())\n",
    "driver.get('http://www.yes24.com')\n",
    "\n",
    "element = driver.find_element(by=By.NAME, value='query')\n",
    "element.send_keys(SEARCH_KEY_WORD)\n",
    "element.submit()\n",
    "time.sleep(SCROLL_PAUSE_TIME)\n",
    "# CONT_CNT\n",
    "element = driver.find_element(by=By.LINK_TEXT,value='평점순')\n",
    "element.click()"
   ]
  },
  {
   "cell_type": "code",
   "execution_count": 177,
   "metadata": {},
   "outputs": [
    {
     "name": "stdout",
     "output_type": "stream",
     "text": [
      "Building Machine Learning Systems with Python 한국어판\n",
      "27,000원\n",
      "10.0\n",
      "--------------------------------------------------\n",
      "파이썬 Python 2학년\n",
      "15,300원\n",
      "10.0\n",
      "--------------------------------------------------\n",
      "Python(파이썬)과 Matplotlib, NumPy, Pandas\n",
      "10,000원\n",
      "10.0\n",
      "--------------------------------------------------\n",
      "2023 빅데이터분석기사 실기 한권완성 필답형+작업형 [파이썬(Python)]\n",
      "27,000원\n",
      "10.0\n",
      "--------------------------------------------------\n",
      "Python Standard Library\n",
      "18,000원\n",
      "10.0\n",
      "--------------------------------------------------\n",
      "데이터에듀 빅데이터 분석기사 실기 with Python\n",
      "28,800원\n",
      "10.0\n",
      "--------------------------------------------------\n",
      "Python을 이용한 개인화 추천 시스템\n",
      "20,000원\n",
      "10.0\n",
      "--------------------------------------------------\n",
      "파이썬 라이브러리를 활용한 데이터 분석\n",
      "35,100원\n",
      "10.0\n",
      "--------------------------------------------------\n",
      "알 스웨이가트의 파이썬 프로젝트\n",
      "25,200원\n",
      "10.0\n",
      "--------------------------------------------------\n",
      "파이썬 머신러닝 실무 테크닉 100\n",
      "22,500원\n",
      "10.0\n",
      "--------------------------------------------------\n",
      "한 권으로 다지는 머신러닝&딥러닝 with 파이썬\n",
      "32,000원\n",
      "10.0\n",
      "--------------------------------------------------\n",
      "스파르타! 파이썬 포렌식\n",
      "25,200원\n",
      "10.0\n",
      "--------------------------------------------------\n",
      "21개의 작고 재미난 파이썬 프로젝트\n",
      "27,000원\n",
      "10.0\n",
      "--------------------------------------------------\n",
      "파이썬 챌린지\n",
      "7,840원\n",
      "10.0\n",
      "--------------------------------------------------\n",
      "뚝딱뚝딱 파이썬 자동화\n",
      "29,700원\n",
      "10.0\n",
      "--------------------------------------------------\n",
      "파이썬을 이용한 알고리즘 트레이딩\n",
      "26,100원\n",
      "10.0\n",
      "--------------------------------------------------\n",
      "나의 첫 파이썬 (2판)\n",
      "24,000원\n",
      "10.0\n",
      "--------------------------------------------------\n",
      "예제로 배우는 파이썬 머신러닝\n",
      "29,700원\n",
      "10.0\n",
      "--------------------------------------------------\n",
      "RESTful 파이썬 웹 서비스 제작\n",
      "31,500원\n",
      "10.0\n",
      "--------------------------------------------------\n",
      "실전 파이썬 핸즈온 프로젝트\n",
      "25,200원\n",
      "10.0\n",
      "--------------------------------------------------\n",
      "파이썬으로 시작하는 캐글\n",
      "16,200원\n",
      "10.0\n",
      "--------------------------------------------------\n",
      "객체지향 파이썬 프로그래밍\n",
      "40,500원\n",
      "10.0\n",
      "--------------------------------------------------\n",
      "엔지니어를 위한 파이썬\n",
      "25,200원\n",
      "10.0\n",
      "--------------------------------------------------\n",
      "개념을 잡아주는 프로그래밍 정석\n",
      "22,500원\n",
      "10.0\n",
      "--------------------------------------------------\n"
     ]
    }
   ],
   "source": [
    "userAgent = 'Mozilla/5.0 (Macintosh; Intel Mac OS X 10_15_7) AppleWebKit/537.36 (KHTML, like Gecko) Chrome/112.0.0.0 Safari/537.36'\n",
    "headers = {'user-agent': userAgent}\n",
    "URL = 'http://www.yes24.com/Product/Search?query=python&domain=ALL&page=1&order=CONT_CNT'\n",
    "\n",
    "res = req.get(URL,headers=headers)\n",
    "res.raise_for_status()\n",
    "# print(res.status_code)\n",
    "soup = BeautifulSoup(res.text,'html.parser')\n",
    "\n",
    "books = soup.find_all('div', attrs={'class':'item_info'})\n",
    "titles = soup.find_all('div', attrs={'class':'info_row info_name'})\n",
    "prices = soup.find_all('div', attrs={'class':'info_row info_price'})\n",
    "ratings = soup.find_all('span', attrs={'class':'rating_grade'})\n",
    "\n",
    "\n",
    "for i, book in enumerate(ratings,0):\n",
    "  print(titles[i].a.text)\n",
    "  print(prices[i].strong.text)\n",
    "  print(ratings[i].em.text)\n",
    "  print('-'*50)\n"
   ]
  },
  {
   "cell_type": "code",
   "execution_count": 183,
   "metadata": {},
   "outputs": [
    {
     "ename": "ValueError",
     "evalue": "not enough values to unpack (expected 2, got 1)",
     "output_type": "error",
     "traceback": [
      "\u001b[0;31m---------------------------------------------------------------------------\u001b[0m",
      "\u001b[0;31mValueError\u001b[0m                                Traceback (most recent call last)",
      "Cell \u001b[0;32mIn[183], line 12\u001b[0m\n\u001b[1;32m      8\u001b[0m soup \u001b[39m=\u001b[39m BeautifulSoup(res\u001b[39m.\u001b[39mtext,\u001b[39m'\u001b[39m\u001b[39mhtml.parser\u001b[39m\u001b[39m'\u001b[39m)\n\u001b[1;32m     10\u001b[0m music \u001b[39m=\u001b[39m soup\u001b[39m.\u001b[39mfind_all(\u001b[39m'\u001b[39m\u001b[39mdiv\u001b[39m\u001b[39m'\u001b[39m, attrs\u001b[39m=\u001b[39m{\u001b[39m'\u001b[39m\u001b[39mclass\u001b[39m\u001b[39m'\u001b[39m:\u001b[39m'\u001b[39m\u001b[39mellipsis rank01\u001b[39m\u001b[39m'\u001b[39m})\n\u001b[0;32m---> 12\u001b[0m \u001b[39mfor\u001b[39;00m i, m \u001b[39min\u001b[39;00m music:\n\u001b[1;32m     13\u001b[0m   \u001b[39mprint\u001b[39m(music\u001b[39m.\u001b[39mspan\u001b[39m.\u001b[39ma\u001b[39m.\u001b[39mtext)\n\u001b[1;32m     15\u001b[0m index \u001b[39m=\u001b[39m []\n",
      "\u001b[0;31mValueError\u001b[0m: not enough values to unpack (expected 2, got 1)"
     ]
    }
   ],
   "source": [
    "import pandas as pd\n",
    "import numpy as np\n",
    "\n",
    "URL = 'https://www.melon.com/new/index.htm'\n",
    "res = req.get(URL,headers=headers)\n",
    "res.raise_for_status()\n",
    "# print(res.status_code)\n",
    "soup = BeautifulSoup(res.text,'html.parser')\n",
    "\n",
    "\n",
    "곡명 = soup.find_all('div', attrs={'class':'ellipsis rank01'})\n",
    "가수 = soup.find_all('div', attrs={'class':'ellipsis rank02'})\n",
    "앨범 = soup.find_all('div', attrs={'class':'ellipsis rank03'})\n",
    "\n",
    "\n",
    "index = []\n",
    "곡목 = []\n",
    "가수 = []\n",
    "앨범 = []\n",
    "\n",
    "for i, m in range(len(10)):\n",
    "  print(곡명.span.a.text)\n",
    "  print(가수.span.a.text)\n",
    "  print(앨범.span.a.text)\n",
    "\n",
    "\n",
    "\n",
    "\n",
    "\n",
    "\n",
    "\n"
   ]
  },
  {
   "cell_type": "code",
   "execution_count": 29,
   "metadata": {},
   "outputs": [],
   "source": [
    "import matplotlib.pyplot as plt\n",
    "import matplotlib\n",
    "import numpy as np\n",
    "\n",
    "matplotlib.rcParams['font.family'] = 'D2Coding ligature'"
   ]
  },
  {
   "cell_type": "code",
   "execution_count": 33,
   "metadata": {},
   "outputs": [
    {
     "data": {
      "image/png": "[encoded data removed]",
      "text/plain": [
       "<Figure size 640x480 with 1 Axes>"
      ]
     },
     "metadata": {},
     "output_type": "display_data"
    }
   ],
   "source": [
    "import numpy as np\n",
    "\n",
    "y = np.random.randn(1000)\n",
    "x = np.arange(len(y))\n",
    "\n",
    "plt.hist(y,bins=10)\n",
    "plt.title('Histogram')\n",
    "plt.show()"
   ]
  },
  {
   "cell_type": "code",
   "execution_count": 22,
   "metadata": {},
   "outputs": [
    {
     "data": {
      "image/png": "[encoded data removed]",
      "text/plain": [
       "<Figure size 640x480 with 1 Axes>"
      ]
     },
     "metadata": {},
     "output_type": "display_data"
    }
   ],
   "source": [
    "\n",
    "plt.plot([5,3,2,3,4],'o-b')\n",
    "plt.xticks([0,1,2,3,4],['2015','2016','2017','2018','2019'],rotation=0)\n",
    "plt.ylim(6,1)\n",
    "\n",
    "plt.title(\"Rankings 2015-2019\")\n",
    "plt.xlabel('year')\n",
    "plt.ylabel('rank')\n",
    "\n",
    "plt.show()"
   ]
  },
  {
   "cell_type": "code",
   "execution_count": 11,
   "metadata": {},
   "outputs": [
    {
     "data": {
      "image/png": "[encoded data removed]",
      "text/plain": [
       "<Figure size 640x480 with 1 Axes>"
      ]
     },
     "metadata": {},
     "output_type": "display_data"
    }
   ],
   "source": [
    "height = [170, 168, 177, 181 ,172, 171, 169, 175, 174, 178, 170, 167, 177, 182 ,173, 171, 170, 179, 175, 177, 186, 166, 183, 168]\n",
    "weight = [70, 66, 73, 77, 74, 73, 69, 79, 77, 80, 74, 68, 71, 76, 78, 72, 68, 79, 77, 81, 84, 73, 78, 69]\n",
    "\n",
    "plt.scatter(weight,height,label='data')\n",
    "plt.title(\"데이터 시각화 3번문제\")\n",
    "plt.xlabel('weight')\n",
    "plt.ylabel('height')\n",
    "plt.legend(loc='best') \n",
    "plt.show()"
   ]
  }
 ],
 "metadata": {
  "kernelspec": {
   "display_name": "Python 3",
   "language": "python",
   "name": "python3"
  },
  "language_info": {
   "codemirror_mode": {
    "name": "ipython",
    "version": 3
   },
   "file_extension": ".py",
   "mimetype": "text/x-python",
   "name": "python",
   "nbconvert_exporter": "python",
   "pygments_lexer": "ipython3",
   "version": "3.11.3"
  },
  "orig_nbformat": 4
 },
 "nbformat": 4,
 "nbformat_minor": 2
}
