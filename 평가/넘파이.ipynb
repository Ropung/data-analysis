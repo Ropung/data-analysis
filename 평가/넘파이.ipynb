{
 "cells": [
  {
   "cell_type": "code",
   "execution_count": 6,
   "metadata": {},
   "outputs": [],
   "source": [
    "import numpy as np\n",
    "import pandas as pd"
   ]
  },
  {
   "attachments": {},
   "cell_type": "markdown",
   "metadata": {},
   "source": [
    "# Numpy"
   ]
  },
  {
   "cell_type": "code",
   "execution_count": 22,
   "metadata": {},
   "outputs": [
    {
     "name": "stdout",
     "output_type": "stream",
     "text": [
      "[[5 1 7]\n",
      " [2 8 2]\n",
      " [8 9 8]]\n",
      "[[2 8 2]\n",
      " [5 1 7]\n",
      " [8 9 8]]\n"
     ]
    }
   ],
   "source": [
    "#1. 다음 보기와 같이 0이상 10미만의 3x3 모양의 정수 난수를 생성\n",
    "# 각 행의 첫 번째 값으로 정렬하시오. (5점)\n",
    "a = np.round(np.random.randint(0,10,(3,3)))\n",
    "print(a)\n",
    "print(a[a[:,0].argsort()])\n",
    "# a.sort(axis=0)\n",
    "# print(a)\n"
   ]
  },
  {
   "cell_type": "code",
   "execution_count": 23,
   "metadata": {},
   "outputs": [
    {
     "data": {
      "text/plain": [
       "array([[0, 1, 0, 1, 0, 1, 0, 1],\n",
       "       [1, 0, 1, 0, 1, 0, 1, 0],\n",
       "       [0, 1, 0, 1, 0, 1, 0, 1],\n",
       "       [1, 0, 1, 0, 1, 0, 1, 0],\n",
       "       [0, 1, 0, 1, 0, 1, 0, 1],\n",
       "       [1, 0, 1, 0, 1, 0, 1, 0],\n",
       "       [0, 1, 0, 1, 0, 1, 0, 1],\n",
       "       [1, 0, 1, 0, 1, 0, 1, 0]])"
      ]
     },
     "execution_count": 23,
     "metadata": {},
     "output_type": "execute_result"
    }
   ],
   "source": [
    "# 2. 8x8 모양의 정수 0으로 채워진 행렬을 만들고\n",
    "# 인덱싱과 슬라이싱을 이용하여 체크보드 패턴을만드시오. (10점)\n",
    "a = np.zeros((8,8), dtype=int)\n",
    "a[::2, 1::2] = 1\n",
    "a[1::2, ::2] = 1\n",
    "a\n",
    "\n"
   ]
  },
  {
   "cell_type": "code",
   "execution_count": 24,
   "metadata": {},
   "outputs": [
    {
     "name": "stdout",
     "output_type": "stream",
     "text": [
      "[0.         0.81472218 0.68020774 0.6555207  0.52412752 0.29907352\n",
      " 0.25587433 0.25205799 0.24409754 0.20395769]\n",
      "[0.33629168 0.61233237 0.41553834 0.23775307 0.         0.38386899\n",
      " 0.02721374 0.61972468 0.11208017 0.55806378]\n"
     ]
    }
   ],
   "source": [
    "# 3. [0,1) 사이의 값을 갖는 크기 10의 랜덤 벡터를 만들고\n",
    "# 최대값을 0으로 바꾸는 코드를 만드시오. (5점)\n",
    "a = np.random.rand(10)\n",
    "a = np.sort(a)[::-1]\n",
    "\n",
    "a[np.argmax(a)] = 0\n",
    "print(a)\n",
    "\n",
    "# 다른방법\n",
    "r= np.random.rand(10)\n",
    "r[r.max() == r] = 0\n",
    "print(r)\n"
   ]
  },
  {
   "attachments": {},
   "cell_type": "markdown",
   "metadata": {},
   "source": [
    "# Pandas\n",
    "# 월드컵 출전선수 골 기록 데이터 분석 (30점)"
   ]
  },
  {
   "cell_type": "code",
   "execution_count": 25,
   "metadata": {},
   "outputs": [
    {
     "name": "stdout",
     "output_type": "stream",
     "text": [
      "(1295, 4)\n"
     ]
    },
    {
     "data": {
      "text/html": [
       "<div>\n",
       "<style scoped>\n",
       "    .dataframe tbody tr th:only-of-type {\n",
       "        vertical-align: middle;\n",
       "    }\n",
       "\n",
       "    .dataframe tbody tr th {\n",
       "        vertical-align: top;\n",
       "    }\n",
       "\n",
       "    .dataframe thead th {\n",
       "        text-align: right;\n",
       "    }\n",
       "</style>\n",
       "<table border=\"1\" class=\"dataframe\">\n",
       "  <thead>\n",
       "    <tr style=\"text-align: right;\">\n",
       "      <th></th>\n",
       "      <th>Player</th>\n",
       "      <th>Goals</th>\n",
       "      <th>Years</th>\n",
       "      <th>Country</th>\n",
       "    </tr>\n",
       "  </thead>\n",
       "  <tbody>\n",
       "    <tr>\n",
       "      <th>0</th>\n",
       "      <td>Miroslav Klose</td>\n",
       "      <td>16</td>\n",
       "      <td>2002-2006-2010-2014</td>\n",
       "      <td>Germany</td>\n",
       "    </tr>\n",
       "    <tr>\n",
       "      <th>1</th>\n",
       "      <td>Ronaldo</td>\n",
       "      <td>15</td>\n",
       "      <td>1998-2002-2006</td>\n",
       "      <td>Brazil</td>\n",
       "    </tr>\n",
       "    <tr>\n",
       "      <th>2</th>\n",
       "      <td>Gerd Muller</td>\n",
       "      <td>14</td>\n",
       "      <td>1970-1974</td>\n",
       "      <td>Germany</td>\n",
       "    </tr>\n",
       "    <tr>\n",
       "      <th>3</th>\n",
       "      <td>Just Fontaine</td>\n",
       "      <td>13</td>\n",
       "      <td>1958</td>\n",
       "      <td>France</td>\n",
       "    </tr>\n",
       "    <tr>\n",
       "      <th>4</th>\n",
       "      <td>Pele</td>\n",
       "      <td>12</td>\n",
       "      <td>1958-1962-1966-1970</td>\n",
       "      <td>Brazil</td>\n",
       "    </tr>\n",
       "  </tbody>\n",
       "</table>\n",
       "</div>"
      ],
      "text/plain": [
       "           Player  Goals                Years  Country\n",
       "0  Miroslav Klose     16  2002-2006-2010-2014  Germany\n",
       "1         Ronaldo     15       1998-2002-2006   Brazil\n",
       "2     Gerd Muller     14            1970-1974  Germany\n",
       "3   Just Fontaine     13                 1958   France\n",
       "4            Pele     12  1958-1962-1966-1970   Brazil"
      ]
     },
     "execution_count": 25,
     "metadata": {},
     "output_type": "execute_result"
    }
   ],
   "source": [
    "import pandas as pd\n",
    "df = pd.read_csv('worldcupgoals.csv')\n",
    "print(df.shape)\n",
    "df.head()"
   ]
  },
  {
   "cell_type": "code",
   "execution_count": 28,
   "metadata": {},
   "outputs": [
    {
     "name": "stdout",
     "output_type": "stream",
     "text": [
      "Country\n",
      "Brazil       228\n",
      "Germany      226\n",
      "Argentina    135\n",
      "Italy        123\n",
      "France       115\n",
      "Name: Goals, dtype: int64\n"
     ]
    }
   ],
   "source": [
    "#1 주어진 전체 기간의 각 나라별 골 득점수 상위 5개 국가와\n",
    "# 그 득점수를 출력하시오\n",
    "grouped = df.groupby('Country')['Goals'].sum().sort_values(ascending=False)\n",
    "\n",
    "\n",
    "# grouped = df.groupby('Country')[['Goals']].sum().sort_values('Goals',ascending=False)\n",
    "# print(grouped.unique())\n",
    "print(grouped.head(5))\n",
    "\n"
   ]
  },
  {
   "cell_type": "code",
   "execution_count": 29,
   "metadata": {},
   "outputs": [
    {
     "name": "stdout",
     "output_type": "stream",
     "text": [
      "[81 78 60 59 58 48 46 42 39 38 37 36 30 28 24 23 22 20 19 18 17 16 14 13\n",
      " 12 11 10  9  8  7  6  5  4  3  2  1]\n",
      "['Miroslav Klose' 'Ronaldo' 'Gerd Muller' ... 'Aleksandar Tirnanic'\n",
      " 'Djordje Vujadinovic' 'Branko Zebec']\n",
      "Country\n",
      "Brazil       81\n",
      "Germany      78\n",
      "Italy        60\n",
      "Argentina    59\n",
      "France       58\n",
      "Name: Player, dtype: int64\n"
     ]
    }
   ],
   "source": [
    "# 2 주어진 전체기간동안 골득점을 한 선수가 가장 많은 나라\n",
    "# 상위 5개 국가와 그 선수 숫자를 출력하시오.\n",
    "grouped = df.groupby('Country')['Player'].count().sort_values(ascending=False)\n",
    "print(grouped.unique())\n",
    "print(df['Player'].unique())\n",
    "print(grouped.head(5))\n",
    "\n",
    "# grouped = df.groupby('Country').count().sort_values('Player',ascending=False).head()"
   ]
  },
  {
   "cell_type": "code",
   "execution_count": 44,
   "metadata": {},
   "outputs": [
    {
     "data": {
      "text/plain": [
       "Player     45\n",
       "Goals      45\n",
       "Years      45\n",
       "Country    45\n",
       "dtype: int64"
      ]
     },
     "execution_count": 44,
     "metadata": {},
     "output_type": "execute_result"
    }
   ],
   "source": [
    "df[df['Years'] == '0'].count()"
   ]
  },
  {
   "cell_type": "code",
   "execution_count": 46,
   "metadata": {},
   "outputs": [
    {
     "name": "stdout",
     "output_type": "stream",
     "text": [
      "45\n"
     ]
    }
   ],
   "source": [
    "# 3. Years 컬럼은 년도 -년도 형식으로 구성 되어있고,\n",
    "# 각 년도는 4자리 숫자이다.\n",
    "# \n",
    "# \n",
    "# 2006-2010\n",
    "# 2010\n",
    "# 0\n",
    "#  years = 2002-2006-2010-2014\n",
    "# years.split('-') = [2002,2006,2010,2014]\n",
    "# year = 2002\n",
    "# year = 2006\n",
    "# year = 2010\n",
    "# year = 2014\n",
    "count = 0\n",
    "for years in df['Years']:\n",
    "  for year in years.split('-'):\n",
    "    if len(year) != 4:\n",
    "      count += 1\n",
    "print(count)\n"
   ]
  },
  {
   "cell_type": "code",
   "execution_count": 62,
   "metadata": {},
   "outputs": [
    {
     "name": "stdout",
     "output_type": "stream",
     "text": [
      "45\n"
     ]
    },
    {
     "data": {
      "text/plain": [
       "(1250, 5)"
      ]
     },
     "execution_count": 62,
     "metadata": {},
     "output_type": "execute_result"
    }
   ],
   "source": [
    "# 4 3번 문제에서 발생한 예외 케이스(년도 표기가 4자리 숫자가 아닌 경우)\n",
    "# 를 제외한 새로운 데이터 프레임을 생성하고 전체 데이터 행의 숫자를 출력하시오.\n",
    "def chaeckYearFormat(years):\n",
    "  for year in years.split('-'):\n",
    "    if len(year) != 4:\n",
    "      return False\n",
    "  return True\n",
    "\n",
    "df['year_check'] =  df['Years'].apply(lambda x: chaeckYearFormat(x))\n",
    "check = df['year_check'] == False\n",
    "print(check.sum())\n",
    "\n",
    "df_new = df[df['year_check']]\n",
    "df_new.shape"
   ]
  },
  {
   "cell_type": "code",
   "execution_count": 66,
   "metadata": {},
   "outputs": [
    {
     "data": {
      "text/plain": [
       "16"
      ]
     },
     "execution_count": 66,
     "metadata": {},
     "output_type": "execute_result"
    }
   ],
   "source": [
    "# 5. 월드컵 출전횟수를 나타내는 ‘LenCup’ 컬럼을 추가하고 4회 출전한 선수의 숫자를 구하시오.\n",
    "import warnings\n",
    "warnings.filterwarnings(action='ignore')\n",
    "df_new['LenCup'] = [len(years.split('-')) for years in df_new['Years']]\n",
    "len(df_new[df_new['LenCup'] == 4])\n",
    "# df['LenCup'] =  df[df['Player'].unique() == df['Player']].count()\n",
    "# df"
   ]
  },
  {
   "cell_type": "code",
   "execution_count": 67,
   "metadata": {},
   "outputs": [
    {
     "data": {
      "text/plain": [
       "7"
      ]
     },
     "execution_count": 67,
     "metadata": {},
     "output_type": "execute_result"
    }
   ],
   "source": [
    "# 유고슬라비아 국가의 월드컵 출전횟수가 2회인 선수들의 숫자\n",
    "len(df_new[df_new['Country']== 'Yugoslavia'][df_new['LenCup'] == 2])"
   ]
  },
  {
   "cell_type": "code",
   "execution_count": 69,
   "metadata": {},
   "outputs": [
    {
     "data": {
      "text/plain": [
       "156"
      ]
     },
     "execution_count": 69,
     "metadata": {},
     "output_type": "execute_result"
    }
   ],
   "source": [
    "# 2002년도에 출전한 전체 선수 수를 구하시오.\n",
    "len(df_new[df_new['Years'].str.contains('2002')])"
   ]
  },
  {
   "cell_type": "code",
   "execution_count": 70,
   "metadata": {},
   "outputs": [
    {
     "data": {
      "text/html": [
       "<div>\n",
       "<style scoped>\n",
       "    .dataframe tbody tr th:only-of-type {\n",
       "        vertical-align: middle;\n",
       "    }\n",
       "\n",
       "    .dataframe tbody tr th {\n",
       "        vertical-align: top;\n",
       "    }\n",
       "\n",
       "    .dataframe thead th {\n",
       "        text-align: right;\n",
       "    }\n",
       "</style>\n",
       "<table border=\"1\" class=\"dataframe\">\n",
       "  <thead>\n",
       "    <tr style=\"text-align: right;\">\n",
       "      <th></th>\n",
       "      <th>Player</th>\n",
       "      <th>Goals</th>\n",
       "      <th>Years</th>\n",
       "      <th>Country</th>\n",
       "      <th>year_check</th>\n",
       "      <th>LenCup</th>\n",
       "    </tr>\n",
       "  </thead>\n",
       "  <tbody>\n",
       "    <tr>\n",
       "      <th>3</th>\n",
       "      <td>Just Fontaine</td>\n",
       "      <td>13</td>\n",
       "      <td>1958</td>\n",
       "      <td>France</td>\n",
       "      <td>True</td>\n",
       "      <td>1</td>\n",
       "    </tr>\n",
       "    <tr>\n",
       "      <th>6</th>\n",
       "      <td>Sandor Kocsis</td>\n",
       "      <td>11</td>\n",
       "      <td>1954</td>\n",
       "      <td>Hungary</td>\n",
       "      <td>True</td>\n",
       "      <td>1</td>\n",
       "    </tr>\n",
       "    <tr>\n",
       "      <th>13</th>\n",
       "      <td>Ademir</td>\n",
       "      <td>9</td>\n",
       "      <td>1950</td>\n",
       "      <td>Brazil</td>\n",
       "      <td>True</td>\n",
       "      <td>1</td>\n",
       "    </tr>\n",
       "    <tr>\n",
       "      <th>21</th>\n",
       "      <td>Eusebio</td>\n",
       "      <td>9</td>\n",
       "      <td>1966</td>\n",
       "      <td>Portugal</td>\n",
       "      <td>True</td>\n",
       "      <td>1</td>\n",
       "    </tr>\n",
       "    <tr>\n",
       "      <th>24</th>\n",
       "      <td>Guillermo Stabile</td>\n",
       "      <td>8</td>\n",
       "      <td>1930</td>\n",
       "      <td>Argentina</td>\n",
       "      <td>True</td>\n",
       "      <td>1</td>\n",
       "    </tr>\n",
       "    <tr>\n",
       "      <th>39</th>\n",
       "      <td>Erich Probst</td>\n",
       "      <td>6</td>\n",
       "      <td>1954</td>\n",
       "      <td>Austria</td>\n",
       "      <td>True</td>\n",
       "      <td>1</td>\n",
       "    </tr>\n",
       "    <tr>\n",
       "      <th>44</th>\n",
       "      <td>James Rodriguez</td>\n",
       "      <td>6</td>\n",
       "      <td>2014</td>\n",
       "      <td>Colombia</td>\n",
       "      <td>True</td>\n",
       "      <td>1</td>\n",
       "    </tr>\n",
       "    <tr>\n",
       "      <th>46</th>\n",
       "      <td>Harry Kane</td>\n",
       "      <td>6</td>\n",
       "      <td>2018</td>\n",
       "      <td>England</td>\n",
       "      <td>True</td>\n",
       "      <td>1</td>\n",
       "    </tr>\n",
       "    <tr>\n",
       "      <th>50</th>\n",
       "      <td>Max Morlock</td>\n",
       "      <td>6</td>\n",
       "      <td>1954</td>\n",
       "      <td>Germany</td>\n",
       "      <td>True</td>\n",
       "      <td>1</td>\n",
       "    </tr>\n",
       "    <tr>\n",
       "      <th>53</th>\n",
       "      <td>Salvatore Schillaci</td>\n",
       "      <td>6</td>\n",
       "      <td>1990</td>\n",
       "      <td>Italy</td>\n",
       "      <td>True</td>\n",
       "      <td>1</td>\n",
       "    </tr>\n",
       "  </tbody>\n",
       "</table>\n",
       "</div>"
      ],
      "text/plain": [
       "                 Player  Goals Years    Country  year_check  LenCup\n",
       "3         Just Fontaine     13  1958     France        True       1\n",
       "6         Sandor Kocsis     11  1954    Hungary        True       1\n",
       "13               Ademir      9  1950     Brazil        True       1\n",
       "21              Eusebio      9  1966   Portugal        True       1\n",
       "24    Guillermo Stabile      8  1930  Argentina        True       1\n",
       "39         Erich Probst      6  1954    Austria        True       1\n",
       "44      James Rodriguez      6  2014   Colombia        True       1\n",
       "46           Harry Kane      6  2018    England        True       1\n",
       "50          Max Morlock      6  1954    Germany        True       1\n",
       "53  Salvatore Schillaci      6  1990      Italy        True       1"
      ]
     },
     "execution_count": 70,
     "metadata": {},
     "output_type": "execute_result"
    }
   ],
   "source": [
    "# 11 월드컵 출전횟수가 1회 뿐인 선수들 중에서 가장 많은 득점을 올렸던 선수는 누구이며 몇 골을 넣었는지 구하시오.\n",
    "df_new[df_new['LenCup'] ==1].sort_values('Goals',ascending=False).head(10)\n",
    "# [['Player','Goals']]"
   ]
  },
  {
   "attachments": {},
   "cell_type": "markdown",
   "metadata": {},
   "source": [
    "# 전 세계 행복도 지수 데이터 분석 (30점)"
   ]
  },
  {
   "cell_type": "code",
   "execution_count": 71,
   "metadata": {},
   "outputs": [
    {
     "data": {
      "text/plain": [
       "(312, 10)"
      ]
     },
     "execution_count": 71,
     "metadata": {},
     "output_type": "execute_result"
    }
   ],
   "source": [
    "df = pd.read_csv('happiness.csv')\n",
    "df.shape\n"
   ]
  },
  {
   "cell_type": "code",
   "execution_count": 72,
   "metadata": {},
   "outputs": [
    {
     "data": {
      "text/html": [
       "<div>\n",
       "<style scoped>\n",
       "    .dataframe tbody tr th:only-of-type {\n",
       "        vertical-align: middle;\n",
       "    }\n",
       "\n",
       "    .dataframe tbody tr th {\n",
       "        vertical-align: top;\n",
       "    }\n",
       "\n",
       "    .dataframe thead th {\n",
       "        text-align: right;\n",
       "    }\n",
       "</style>\n",
       "<table border=\"1\" class=\"dataframe\">\n",
       "  <thead>\n",
       "    <tr style=\"text-align: right;\">\n",
       "      <th></th>\n",
       "      <th>행복랭킹</th>\n",
       "      <th>나라명</th>\n",
       "      <th>점수</th>\n",
       "      <th>상대GDP</th>\n",
       "      <th>사회적지원</th>\n",
       "      <th>행복기대치</th>\n",
       "      <th>선택의 자유도</th>\n",
       "      <th>관대함</th>\n",
       "      <th>부패에 대한인식</th>\n",
       "      <th>년도</th>\n",
       "    </tr>\n",
       "  </thead>\n",
       "  <tbody>\n",
       "    <tr>\n",
       "      <th>0</th>\n",
       "      <td>1</td>\n",
       "      <td>Finland</td>\n",
       "      <td>7.769</td>\n",
       "      <td>1.340</td>\n",
       "      <td>1.587</td>\n",
       "      <td>0.986</td>\n",
       "      <td>0.596</td>\n",
       "      <td>0.153</td>\n",
       "      <td>0.393</td>\n",
       "      <td>2019</td>\n",
       "    </tr>\n",
       "    <tr>\n",
       "      <th>1</th>\n",
       "      <td>2</td>\n",
       "      <td>Denmark</td>\n",
       "      <td>7.600</td>\n",
       "      <td>1.383</td>\n",
       "      <td>1.573</td>\n",
       "      <td>0.996</td>\n",
       "      <td>0.592</td>\n",
       "      <td>0.252</td>\n",
       "      <td>0.410</td>\n",
       "      <td>2019</td>\n",
       "    </tr>\n",
       "    <tr>\n",
       "      <th>2</th>\n",
       "      <td>3</td>\n",
       "      <td>Norway</td>\n",
       "      <td>7.554</td>\n",
       "      <td>1.488</td>\n",
       "      <td>1.582</td>\n",
       "      <td>1.028</td>\n",
       "      <td>0.603</td>\n",
       "      <td>0.271</td>\n",
       "      <td>0.341</td>\n",
       "      <td>2019</td>\n",
       "    </tr>\n",
       "    <tr>\n",
       "      <th>3</th>\n",
       "      <td>4</td>\n",
       "      <td>Iceland</td>\n",
       "      <td>7.494</td>\n",
       "      <td>1.380</td>\n",
       "      <td>1.624</td>\n",
       "      <td>1.026</td>\n",
       "      <td>0.591</td>\n",
       "      <td>0.354</td>\n",
       "      <td>0.118</td>\n",
       "      <td>2019</td>\n",
       "    </tr>\n",
       "    <tr>\n",
       "      <th>4</th>\n",
       "      <td>5</td>\n",
       "      <td>Netherlands</td>\n",
       "      <td>7.488</td>\n",
       "      <td>1.396</td>\n",
       "      <td>1.522</td>\n",
       "      <td>0.999</td>\n",
       "      <td>0.557</td>\n",
       "      <td>0.322</td>\n",
       "      <td>0.298</td>\n",
       "      <td>2019</td>\n",
       "    </tr>\n",
       "  </tbody>\n",
       "</table>\n",
       "</div>"
      ],
      "text/plain": [
       "   행복랭킹          나라명     점수  상대GDP  사회적지원  행복기대치  선택의 자유도    관대함  부패에 대한인식   \n",
       "0     1      Finland  7.769  1.340  1.587  0.986    0.596  0.153     0.393  \\\n",
       "1     2      Denmark  7.600  1.383  1.573  0.996    0.592  0.252     0.410   \n",
       "2     3       Norway  7.554  1.488  1.582  1.028    0.603  0.271     0.341   \n",
       "3     4      Iceland  7.494  1.380  1.624  1.026    0.591  0.354     0.118   \n",
       "4     5  Netherlands  7.488  1.396  1.522  0.999    0.557  0.322     0.298   \n",
       "\n",
       "     년도  \n",
       "0  2019  \n",
       "1  2019  \n",
       "2  2019  \n",
       "3  2019  \n",
       "4  2019  "
      ]
     },
     "execution_count": 72,
     "metadata": {},
     "output_type": "execute_result"
    }
   ],
   "source": [
    "df.head()"
   ]
  },
  {
   "cell_type": "code",
   "execution_count": 73,
   "metadata": {},
   "outputs": [
    {
     "data": {
      "text/plain": [
       "array([2019, 2018])"
      ]
     },
     "execution_count": 73,
     "metadata": {},
     "output_type": "execute_result"
    }
   ],
   "source": [
    "df['년도'].unique()"
   ]
  },
  {
   "cell_type": "code",
   "execution_count": 77,
   "metadata": {},
   "outputs": [
    {
     "data": {
      "text/html": [
       "<div>\n",
       "<style scoped>\n",
       "    .dataframe tbody tr th:only-of-type {\n",
       "        vertical-align: middle;\n",
       "    }\n",
       "\n",
       "    .dataframe tbody tr th {\n",
       "        vertical-align: top;\n",
       "    }\n",
       "\n",
       "    .dataframe thead th {\n",
       "        text-align: right;\n",
       "    }\n",
       "</style>\n",
       "<table border=\"1\" class=\"dataframe\">\n",
       "  <thead>\n",
       "    <tr style=\"text-align: right;\">\n",
       "      <th></th>\n",
       "      <th>행복랭킹</th>\n",
       "    </tr>\n",
       "    <tr>\n",
       "      <th>년도</th>\n",
       "      <th></th>\n",
       "    </tr>\n",
       "  </thead>\n",
       "  <tbody>\n",
       "    <tr>\n",
       "      <th>2018</th>\n",
       "      <td>78.5</td>\n",
       "    </tr>\n",
       "    <tr>\n",
       "      <th>2019</th>\n",
       "      <td>78.5</td>\n",
       "    </tr>\n",
       "  </tbody>\n",
       "</table>\n",
       "</div>"
      ],
      "text/plain": [
       "      행복랭킹\n",
       "년도        \n",
       "2018  78.5\n",
       "2019  78.5"
      ]
     },
     "execution_count": 77,
     "metadata": {},
     "output_type": "execute_result"
    }
   ],
   "source": [
    "#각 연도별 행복랭킹 10위안에 드는 나라의 행복점수의 평균을 구하시오.\n",
    "grouped =  df.groupby('년도')[['행복랭킹']].mean().head(10)\n",
    "grouped\n"
   ]
  },
  {
   "cell_type": "code",
   "execution_count": 75,
   "metadata": {},
   "outputs": [
    {
     "data": {
      "text/plain": [
       "년도\n",
       "2018    7.4442\n",
       "2019    7.4559\n",
       "Name: 점수, dtype: float64"
      ]
     },
     "execution_count": 75,
     "metadata": {},
     "output_type": "execute_result"
    }
   ],
   "source": [
    "df[df['행복랭킹'] <= 10].groupby('년도')['점수'].mean()"
   ]
  },
  {
   "cell_type": "code",
   "execution_count": null,
   "metadata": {},
   "outputs": [],
   "source": [
    "# 각 연도의 행복랭킹 50위 이내의 나라들의 각각의 행복점수 평균을 데이터프레임으로 표시하시오.\n",
    "# mean()\n",
    "# groupby()\n",
    "# pd.DataFrame()"
   ]
  },
  {
   "cell_type": "code",
   "execution_count": 76,
   "metadata": {},
   "outputs": [
    {
     "data": {
      "text/plain": [
       "나라명\n",
       "South Sudan                 3.0535\n",
       "Central African Republic    3.0830\n",
       "Tanzania                    3.2670\n",
       "Burundi                     3.3400\n",
       "Yemen                       3.3675\n",
       "Name: 점수, dtype: float64"
      ]
     },
     "execution_count": 76,
     "metadata": {},
     "output_type": "execute_result"
    }
   ],
   "source": [
    "# 각 년도별 하위 행복점수의 하위 5개 국가의 평균 행복점수를 구하시오.\n",
    "grouped =  df.groupby('나라명')['점수'].mean().sort_values(axis=0, ascending=True).head(5)\n",
    "grouped"
   ]
  },
  {
   "cell_type": "code",
   "execution_count": 293,
   "metadata": {},
   "outputs": [
    {
     "data": {
      "text/html": [
       "<div>\n",
       "<style scoped>\n",
       "    .dataframe tbody tr th:only-of-type {\n",
       "        vertical-align: middle;\n",
       "    }\n",
       "\n",
       "    .dataframe tbody tr th {\n",
       "        vertical-align: top;\n",
       "    }\n",
       "\n",
       "    .dataframe thead th {\n",
       "        text-align: right;\n",
       "    }\n",
       "</style>\n",
       "<table border=\"1\" class=\"dataframe\">\n",
       "  <thead>\n",
       "    <tr style=\"text-align: right;\">\n",
       "      <th></th>\n",
       "      <th>행복랭킹</th>\n",
       "      <th>나라명</th>\n",
       "      <th>점수</th>\n",
       "      <th>상대GDP</th>\n",
       "      <th>사회적지원</th>\n",
       "      <th>행복기대치</th>\n",
       "      <th>선택의 자유도</th>\n",
       "      <th>관대함</th>\n",
       "      <th>부패에 대한인식</th>\n",
       "      <th>년도</th>\n",
       "    </tr>\n",
       "  </thead>\n",
       "  <tbody>\n",
       "    <tr>\n",
       "      <th>2</th>\n",
       "      <td>NaN</td>\n",
       "      <td>NaN</td>\n",
       "      <td>NaN</td>\n",
       "      <td>NaN</td>\n",
       "      <td>NaN</td>\n",
       "      <td>NaN</td>\n",
       "      <td>NaN</td>\n",
       "      <td>NaN</td>\n",
       "      <td>NaN</td>\n",
       "      <td>NaN</td>\n",
       "    </tr>\n",
       "    <tr>\n",
       "      <th>5</th>\n",
       "      <td>NaN</td>\n",
       "      <td>NaN</td>\n",
       "      <td>NaN</td>\n",
       "      <td>NaN</td>\n",
       "      <td>NaN</td>\n",
       "      <td>NaN</td>\n",
       "      <td>NaN</td>\n",
       "      <td>NaN</td>\n",
       "      <td>NaN</td>\n",
       "      <td>NaN</td>\n",
       "    </tr>\n",
       "    <tr>\n",
       "      <th>13</th>\n",
       "      <td>NaN</td>\n",
       "      <td>NaN</td>\n",
       "      <td>NaN</td>\n",
       "      <td>NaN</td>\n",
       "      <td>NaN</td>\n",
       "      <td>NaN</td>\n",
       "      <td>NaN</td>\n",
       "      <td>NaN</td>\n",
       "      <td>NaN</td>\n",
       "      <td>NaN</td>\n",
       "    </tr>\n",
       "    <tr>\n",
       "      <th>15</th>\n",
       "      <td>NaN</td>\n",
       "      <td>NaN</td>\n",
       "      <td>NaN</td>\n",
       "      <td>NaN</td>\n",
       "      <td>NaN</td>\n",
       "      <td>NaN</td>\n",
       "      <td>NaN</td>\n",
       "      <td>NaN</td>\n",
       "      <td>NaN</td>\n",
       "      <td>NaN</td>\n",
       "    </tr>\n",
       "    <tr>\n",
       "      <th>20</th>\n",
       "      <td>NaN</td>\n",
       "      <td>NaN</td>\n",
       "      <td>NaN</td>\n",
       "      <td>NaN</td>\n",
       "      <td>NaN</td>\n",
       "      <td>NaN</td>\n",
       "      <td>NaN</td>\n",
       "      <td>NaN</td>\n",
       "      <td>NaN</td>\n",
       "      <td>NaN</td>\n",
       "    </tr>\n",
       "    <tr>\n",
       "      <th>28</th>\n",
       "      <td>NaN</td>\n",
       "      <td>NaN</td>\n",
       "      <td>NaN</td>\n",
       "      <td>NaN</td>\n",
       "      <td>NaN</td>\n",
       "      <td>NaN</td>\n",
       "      <td>NaN</td>\n",
       "      <td>NaN</td>\n",
       "      <td>NaN</td>\n",
       "      <td>NaN</td>\n",
       "    </tr>\n",
       "    <tr>\n",
       "      <th>33</th>\n",
       "      <td>NaN</td>\n",
       "      <td>NaN</td>\n",
       "      <td>NaN</td>\n",
       "      <td>NaN</td>\n",
       "      <td>NaN</td>\n",
       "      <td>NaN</td>\n",
       "      <td>NaN</td>\n",
       "      <td>NaN</td>\n",
       "      <td>NaN</td>\n",
       "      <td>NaN</td>\n",
       "    </tr>\n",
       "    <tr>\n",
       "      <th>50</th>\n",
       "      <td>NaN</td>\n",
       "      <td>NaN</td>\n",
       "      <td>NaN</td>\n",
       "      <td>NaN</td>\n",
       "      <td>NaN</td>\n",
       "      <td>NaN</td>\n",
       "      <td>NaN</td>\n",
       "      <td>NaN</td>\n",
       "      <td>NaN</td>\n",
       "      <td>NaN</td>\n",
       "    </tr>\n",
       "  </tbody>\n",
       "</table>\n",
       "</div>"
      ],
      "text/plain": [
       "    행복랭킹  나라명  점수  상대GDP  사회적지원  행복기대치  선택의 자유도  관대함  부패에 대한인식  년도\n",
       "2    NaN  NaN NaN    NaN    NaN    NaN      NaN  NaN       NaN NaN\n",
       "5    NaN  NaN NaN    NaN    NaN    NaN      NaN  NaN       NaN NaN\n",
       "13   NaN  NaN NaN    NaN    NaN    NaN      NaN  NaN       NaN NaN\n",
       "15   NaN  NaN NaN    NaN    NaN    NaN      NaN  NaN       NaN NaN\n",
       "20   NaN  NaN NaN    NaN    NaN    NaN      NaN  NaN       NaN NaN\n",
       "28   NaN  NaN NaN    NaN    NaN    NaN      NaN  NaN       NaN NaN\n",
       "33   NaN  NaN NaN    NaN    NaN    NaN      NaN  NaN       NaN NaN\n",
       "50   NaN  NaN NaN    NaN    NaN    NaN      NaN  NaN       NaN NaN"
      ]
     },
     "execution_count": 293,
     "metadata": {},
     "output_type": "execute_result"
    }
   ],
   "source": [
    "# 2019년 데이터를 추출하고 해당 데이터의 상대 GDP 평균 이상의 나라들과 평균 이하의 나라들의 행복점수 평균을\n",
    "# 각각 구하고 그 차이 값을 출력하시오\n",
    "df = df[df['년도'] == 2019]\n",
    "df_up = df[df['상대GDP'] >= df['상대GDP'].mean()]\n",
    "df_down = df[df['상대GDP'] <= df['상대GDP'].mean()]\n",
    "\n",
    "df = df_up - df_down\n",
    "df\n"
   ]
  },
  {
   "cell_type": "code",
   "execution_count": null,
   "metadata": {},
   "outputs": [],
   "source": [
    "# 각 년도의 부패에 대한인식을 내림차순 정렬했을 때\n",
    "# 상위 20개 국가의 부패에 대한인식의 평균을 구하시오.\n",
    "# mean() , groupby(), sort_values(), head(20)"
   ]
  },
  {
   "cell_type": "code",
   "execution_count": null,
   "metadata": {},
   "outputs": [],
   "source": [
    "# 2018년도 행복랭킹 50위 이내에 포함됐다가 2019년 50위 밖으로 밀려난 국가의 숫자를 구하시오.\n"
   ]
  },
  {
   "cell_type": "code",
   "execution_count": null,
   "metadata": {},
   "outputs": [],
   "source": [
    "# 2018년,2019년 모두 기록이 있는 나라들 중 년도별 행복점수가 가장 증가한 나라와 그 증가 수치는?"
   ]
  },
  {
   "attachments": {},
   "cell_type": "markdown",
   "metadata": {},
   "source": [
    "# 유튜브 데이터 분석 (20점)"
   ]
  },
  {
   "cell_type": "code",
   "execution_count": 97,
   "metadata": {},
   "outputs": [
    {
     "name": "stdout",
     "output_type": "stream",
     "text": [
      "<class 'pandas.core.frame.DataFrame'>\n",
      "RangeIndex: 1000 entries, 0 to 999\n",
      "Data columns (total 5 columns):\n",
      " #   Column      Non-Null Count  Dtype \n",
      "---  ------      --------------  ----- \n",
      " 0   title       1000 non-null   object\n",
      " 1   category    1000 non-null   object\n",
      " 2   subscriber  1000 non-null   object\n",
      " 3   view        1000 non-null   object\n",
      " 4   video       1000 non-null   object\n",
      "dtypes: object(5)\n",
      "memory usage: 39.2+ KB\n"
     ]
    },
    {
     "data": {
      "text/html": [
       "<div>\n",
       "<style scoped>\n",
       "    .dataframe tbody tr th:only-of-type {\n",
       "        vertical-align: middle;\n",
       "    }\n",
       "\n",
       "    .dataframe tbody tr th {\n",
       "        vertical-align: top;\n",
       "    }\n",
       "\n",
       "    .dataframe thead th {\n",
       "        text-align: right;\n",
       "    }\n",
       "</style>\n",
       "<table border=\"1\" class=\"dataframe\">\n",
       "  <thead>\n",
       "    <tr style=\"text-align: right;\">\n",
       "      <th></th>\n",
       "      <th>title</th>\n",
       "      <th>category</th>\n",
       "      <th>subscriber</th>\n",
       "      <th>view</th>\n",
       "      <th>video</th>\n",
       "    </tr>\n",
       "  </thead>\n",
       "  <tbody>\n",
       "    <tr>\n",
       "      <th>0</th>\n",
       "      <td>BLACKPINK</td>\n",
       "      <td>[음악/댄스/가수]</td>\n",
       "      <td>5140만</td>\n",
       "      <td>128억5130만</td>\n",
       "      <td>319개</td>\n",
       "    </tr>\n",
       "    <tr>\n",
       "      <th>1</th>\n",
       "      <td>Big Hit Labels</td>\n",
       "      <td>[음악/댄스/가수]</td>\n",
       "      <td>4550만</td>\n",
       "      <td>120억8966만</td>\n",
       "      <td>433개</td>\n",
       "    </tr>\n",
       "    <tr>\n",
       "      <th>2</th>\n",
       "      <td>BANGTANTV</td>\n",
       "      <td>[음악/댄스/가수]</td>\n",
       "      <td>3870만</td>\n",
       "      <td>54억7598만</td>\n",
       "      <td>1,319개</td>\n",
       "    </tr>\n",
       "    <tr>\n",
       "      <th>3</th>\n",
       "      <td>Boram Tube Vlog [보람튜브 브이로그]</td>\n",
       "      <td>[키즈/어린이]</td>\n",
       "      <td>2650만</td>\n",
       "      <td>110억5288만</td>\n",
       "      <td>223개</td>\n",
       "    </tr>\n",
       "    <tr>\n",
       "      <th>4</th>\n",
       "      <td>SMTOWN</td>\n",
       "      <td>[음악/댄스/가수]</td>\n",
       "      <td>2450만</td>\n",
       "      <td>180억7532만</td>\n",
       "      <td>3,583개</td>\n",
       "    </tr>\n",
       "  </tbody>\n",
       "</table>\n",
       "</div>"
      ],
      "text/plain": [
       "                         title    category subscriber       view   video\n",
       "0                    BLACKPINK  [음악/댄스/가수]      5140만  128억5130만    319개\n",
       "1               Big Hit Labels  [음악/댄스/가수]      4550만  120억8966만    433개\n",
       "2                    BANGTANTV  [음악/댄스/가수]      3870만   54억7598만  1,319개\n",
       "3  Boram Tube Vlog [보람튜브 브이로그]    [키즈/어린이]      2650만  110억5288만    223개\n",
       "4                       SMTOWN  [음악/댄스/가수]      2450만  180억7532만  3,583개"
      ]
     },
     "execution_count": 97,
     "metadata": {},
     "output_type": "execute_result"
    }
   ],
   "source": [
    "data = pd.read_csv('youtube_rank.csv')\n",
    "data.info()\n",
    "data.shape\n",
    "data.head()"
   ]
  },
  {
   "cell_type": "code",
   "execution_count": 98,
   "metadata": {},
   "outputs": [
    {
     "data": {
      "text/html": [
       "<div>\n",
       "<style scoped>\n",
       "    .dataframe tbody tr th:only-of-type {\n",
       "        vertical-align: middle;\n",
       "    }\n",
       "\n",
       "    .dataframe tbody tr th {\n",
       "        vertical-align: top;\n",
       "    }\n",
       "\n",
       "    .dataframe thead th {\n",
       "        text-align: right;\n",
       "    }\n",
       "</style>\n",
       "<table border=\"1\" class=\"dataframe\">\n",
       "  <thead>\n",
       "    <tr style=\"text-align: right;\">\n",
       "      <th></th>\n",
       "      <th>채널명</th>\n",
       "      <th>카테고리</th>\n",
       "      <th>구독자수</th>\n",
       "      <th>조회수</th>\n",
       "      <th>영상개수</th>\n",
       "    </tr>\n",
       "  </thead>\n",
       "  <tbody>\n",
       "    <tr>\n",
       "      <th>0</th>\n",
       "      <td>BLACKPINK</td>\n",
       "      <td>[음악/댄스/가수]</td>\n",
       "      <td>5140만</td>\n",
       "      <td>128억5130만</td>\n",
       "      <td>319개</td>\n",
       "    </tr>\n",
       "    <tr>\n",
       "      <th>1</th>\n",
       "      <td>Big Hit Labels</td>\n",
       "      <td>[음악/댄스/가수]</td>\n",
       "      <td>4550만</td>\n",
       "      <td>120억8966만</td>\n",
       "      <td>433개</td>\n",
       "    </tr>\n",
       "    <tr>\n",
       "      <th>2</th>\n",
       "      <td>BANGTANTV</td>\n",
       "      <td>[음악/댄스/가수]</td>\n",
       "      <td>3870만</td>\n",
       "      <td>54억7598만</td>\n",
       "      <td>1,319개</td>\n",
       "    </tr>\n",
       "    <tr>\n",
       "      <th>3</th>\n",
       "      <td>Boram Tube Vlog [보람튜브 브이로그]</td>\n",
       "      <td>[키즈/어린이]</td>\n",
       "      <td>2650만</td>\n",
       "      <td>110억5288만</td>\n",
       "      <td>223개</td>\n",
       "    </tr>\n",
       "    <tr>\n",
       "      <th>4</th>\n",
       "      <td>SMTOWN</td>\n",
       "      <td>[음악/댄스/가수]</td>\n",
       "      <td>2450만</td>\n",
       "      <td>180억7532만</td>\n",
       "      <td>3,583개</td>\n",
       "    </tr>\n",
       "  </tbody>\n",
       "</table>\n",
       "</div>"
      ],
      "text/plain": [
       "                           채널명        카테고리   구독자수        조회수    영상개수\n",
       "0                    BLACKPINK  [음악/댄스/가수]  5140만  128억5130만    319개\n",
       "1               Big Hit Labels  [음악/댄스/가수]  4550만  120억8966만    433개\n",
       "2                    BANGTANTV  [음악/댄스/가수]  3870만   54억7598만  1,319개\n",
       "3  Boram Tube Vlog [보람튜브 브이로그]    [키즈/어린이]  2650만  110억5288만    223개\n",
       "4                       SMTOWN  [음악/댄스/가수]  2450만  180억7532만  3,583개"
      ]
     },
     "execution_count": 98,
     "metadata": {},
     "output_type": "execute_result"
    }
   ],
   "source": [
    "# 컬럼의 이름을 다음과 같이 변경하시오\n",
    "# ◼title : 채널명, category : 카테고리, subscriber : 구독자수, view : 조회수, video : 영상개수\n",
    "data.rename(columns = {'title':'채널명',\n",
    "              'category':'카테고리',\n",
    "              'subscriber':'구독자수',\n",
    "              'view':'조회수',\n",
    "              'video':'영상개수'}, inplace=True)\n",
    "data.head(5)"
   ]
  },
  {
   "cell_type": "code",
   "execution_count": 99,
   "metadata": {},
   "outputs": [
    {
     "name": "stdout",
     "output_type": "stream",
     "text": [
      "<class 'pandas.core.frame.DataFrame'>\n",
      "RangeIndex: 1000 entries, 0 to 999\n",
      "Data columns (total 5 columns):\n",
      " #   Column  Non-Null Count  Dtype \n",
      "---  ------  --------------  ----- \n",
      " 0   채널명     1000 non-null   object\n",
      " 1   카테고리    1000 non-null   object\n",
      " 2   구독자수    1000 non-null   object\n",
      " 3   조회수     1000 non-null   object\n",
      " 4   영상개수    1000 non-null   object\n",
      "dtypes: object(5)\n",
      "memory usage: 39.2+ KB\n"
     ]
    }
   ],
   "source": [
    "# ‘구독자수’ 컬럼과 ‘조회수’ 컬럼의 타입을 정수형(int64)로 변경하시오 (‘억’,’만’ 한글을 삭제 후 숫자로 변경)\n",
    "data.info()\n",
    "data['구독자수'] = data['구독자수'].str.replace('만',\"0000\").astype(np.int64)\n",
    "data['조회수'] = data['조회수'].str.replace('억',\"\")\n",
    "data['조회수'] = data['조회수'].str.replace('만',\"0000\").astype(np.int64)\n",
    "# data['구독자수'] = data['구독자수'].str.replace('만',\"0000\").astype(np.int64)\n",
    "# data['조회수'] = data['조회수'].replace(['억','만'],['','0000']).astype(np.int64)"
   ]
  },
  {
   "cell_type": "code",
   "execution_count": 100,
   "metadata": {},
   "outputs": [
    {
     "name": "stdout",
     "output_type": "stream",
     "text": [
      "<class 'pandas.core.frame.DataFrame'>\n",
      "RangeIndex: 1000 entries, 0 to 999\n",
      "Data columns (total 5 columns):\n",
      " #   Column  Non-Null Count  Dtype \n",
      "---  ------  --------------  ----- \n",
      " 0   채널명     1000 non-null   object\n",
      " 1   카테고리    1000 non-null   object\n",
      " 2   구독자수    1000 non-null   int64 \n",
      " 3   조회수     1000 non-null   int64 \n",
      " 4   영상개수    1000 non-null   object\n",
      "dtypes: int64(2), object(3)\n",
      "memory usage: 39.2+ KB\n"
     ]
    },
    {
     "data": {
      "text/html": [
       "<div>\n",
       "<style scoped>\n",
       "    .dataframe tbody tr th:only-of-type {\n",
       "        vertical-align: middle;\n",
       "    }\n",
       "\n",
       "    .dataframe tbody tr th {\n",
       "        vertical-align: top;\n",
       "    }\n",
       "\n",
       "    .dataframe thead th {\n",
       "        text-align: right;\n",
       "    }\n",
       "</style>\n",
       "<table border=\"1\" class=\"dataframe\">\n",
       "  <thead>\n",
       "    <tr style=\"text-align: right;\">\n",
       "      <th></th>\n",
       "      <th>채널명</th>\n",
       "      <th>카테고리</th>\n",
       "      <th>구독자수</th>\n",
       "      <th>조회수</th>\n",
       "      <th>영상개수</th>\n",
       "    </tr>\n",
       "  </thead>\n",
       "  <tbody>\n",
       "    <tr>\n",
       "      <th>0</th>\n",
       "      <td>BLACKPINK</td>\n",
       "      <td>[음악/댄스/가수]</td>\n",
       "      <td>51400000</td>\n",
       "      <td>12851300000</td>\n",
       "      <td>319개</td>\n",
       "    </tr>\n",
       "    <tr>\n",
       "      <th>1</th>\n",
       "      <td>Big Hit Labels</td>\n",
       "      <td>[음악/댄스/가수]</td>\n",
       "      <td>45500000</td>\n",
       "      <td>12089660000</td>\n",
       "      <td>433개</td>\n",
       "    </tr>\n",
       "    <tr>\n",
       "      <th>2</th>\n",
       "      <td>BANGTANTV</td>\n",
       "      <td>[음악/댄스/가수]</td>\n",
       "      <td>38700000</td>\n",
       "      <td>5475980000</td>\n",
       "      <td>1,319개</td>\n",
       "    </tr>\n",
       "    <tr>\n",
       "      <th>3</th>\n",
       "      <td>Boram Tube Vlog [보람튜브 브이로그]</td>\n",
       "      <td>[키즈/어린이]</td>\n",
       "      <td>26500000</td>\n",
       "      <td>11052880000</td>\n",
       "      <td>223개</td>\n",
       "    </tr>\n",
       "    <tr>\n",
       "      <th>4</th>\n",
       "      <td>SMTOWN</td>\n",
       "      <td>[음악/댄스/가수]</td>\n",
       "      <td>24500000</td>\n",
       "      <td>18075320000</td>\n",
       "      <td>3,583개</td>\n",
       "    </tr>\n",
       "    <tr>\n",
       "      <th>...</th>\n",
       "      <td>...</td>\n",
       "      <td>...</td>\n",
       "      <td>...</td>\n",
       "      <td>...</td>\n",
       "      <td>...</td>\n",
       "    </tr>\n",
       "    <tr>\n",
       "      <th>995</th>\n",
       "      <td>Ranking World</td>\n",
       "      <td>[미분류]</td>\n",
       "      <td>400000</td>\n",
       "      <td>127520000</td>\n",
       "      <td>503개</td>\n",
       "    </tr>\n",
       "    <tr>\n",
       "      <th>996</th>\n",
       "      <td>급식걸즈</td>\n",
       "      <td>[취미/라이프]</td>\n",
       "      <td>400000</td>\n",
       "      <td>239010000</td>\n",
       "      <td>226개</td>\n",
       "    </tr>\n",
       "    <tr>\n",
       "      <th>997</th>\n",
       "      <td>OCN</td>\n",
       "      <td>[TV/방송]</td>\n",
       "      <td>400000</td>\n",
       "      <td>345830000</td>\n",
       "      <td>10,071개</td>\n",
       "    </tr>\n",
       "    <tr>\n",
       "      <th>998</th>\n",
       "      <td>Bravo jamoasi</td>\n",
       "      <td>[미분류]</td>\n",
       "      <td>400000</td>\n",
       "      <td>61930000</td>\n",
       "      <td>25개</td>\n",
       "    </tr>\n",
       "    <tr>\n",
       "      <th>999</th>\n",
       "      <td>덕출 : DCTVGO</td>\n",
       "      <td>[TV/방송]</td>\n",
       "      <td>400000</td>\n",
       "      <td>82490000</td>\n",
       "      <td>202개</td>\n",
       "    </tr>\n",
       "  </tbody>\n",
       "</table>\n",
       "<p>1000 rows × 5 columns</p>\n",
       "</div>"
      ],
      "text/plain": [
       "                             채널명        카테고리      구독자수          조회수     영상개수\n",
       "0                      BLACKPINK  [음악/댄스/가수]  51400000  12851300000     319개\n",
       "1                 Big Hit Labels  [음악/댄스/가수]  45500000  12089660000     433개\n",
       "2                      BANGTANTV  [음악/댄스/가수]  38700000   5475980000   1,319개\n",
       "3    Boram Tube Vlog [보람튜브 브이로그]    [키즈/어린이]  26500000  11052880000     223개\n",
       "4                         SMTOWN  [음악/댄스/가수]  24500000  18075320000   3,583개\n",
       "..                           ...         ...       ...          ...      ...\n",
       "995                Ranking World       [미분류]    400000    127520000     503개\n",
       "996                         급식걸즈    [취미/라이프]    400000    239010000     226개\n",
       "997                          OCN     [TV/방송]    400000    345830000  10,071개\n",
       "998                Bravo jamoasi       [미분류]    400000     61930000      25개\n",
       "999                  덕출 : DCTVGO     [TV/방송]    400000     82490000     202개\n",
       "\n",
       "[1000 rows x 5 columns]"
      ]
     },
     "execution_count": 100,
     "metadata": {},
     "output_type": "execute_result"
    }
   ],
   "source": [
    "data.info()\n",
    "data"
   ]
  },
  {
   "cell_type": "code",
   "execution_count": 101,
   "metadata": {},
   "outputs": [],
   "source": [
    "# ‘영상개수’ 컬럼의 ‘,’와 ‘개’문자를 제거하고 정수형(int32)로 변경하시오.\n",
    "data['영상개수'] = data['영상개수'].str.replace('개',\"\")"
   ]
  },
  {
   "cell_type": "code",
   "execution_count": 102,
   "metadata": {},
   "outputs": [],
   "source": [
    "data['영상개수'] = data['영상개수'].str.replace(',',\"\").astype(np.int32)"
   ]
  },
  {
   "cell_type": "code",
   "execution_count": 105,
   "metadata": {},
   "outputs": [
    {
     "name": "stdout",
     "output_type": "stream",
     "text": [
      "<class 'pandas.core.frame.DataFrame'>\n",
      "RangeIndex: 1000 entries, 0 to 999\n",
      "Data columns (total 5 columns):\n",
      " #   Column  Non-Null Count  Dtype \n",
      "---  ------  --------------  ----- \n",
      " 0   채널명     1000 non-null   object\n",
      " 1   카테고리    1000 non-null   object\n",
      " 2   구독자수    1000 non-null   int64 \n",
      " 3   조회수     1000 non-null   int64 \n",
      " 4   영상개수    1000 non-null   int32 \n",
      "dtypes: int32(1), int64(2), object(2)\n",
      "memory usage: 35.3+ KB\n"
     ]
    }
   ],
   "source": [
    "data.info()"
   ]
  },
  {
   "cell_type": "code",
   "execution_count": 119,
   "metadata": {},
   "outputs": [
    {
     "data": {
      "text/html": [
       "<div>\n",
       "<style scoped>\n",
       "    .dataframe tbody tr th:only-of-type {\n",
       "        vertical-align: middle;\n",
       "    }\n",
       "\n",
       "    .dataframe tbody tr th {\n",
       "        vertical-align: top;\n",
       "    }\n",
       "\n",
       "    .dataframe thead th {\n",
       "        text-align: right;\n",
       "    }\n",
       "</style>\n",
       "<table border=\"1\" class=\"dataframe\">\n",
       "  <thead>\n",
       "    <tr style=\"text-align: right;\">\n",
       "      <th></th>\n",
       "      <th>카테고리</th>\n",
       "      <th>구독자수</th>\n",
       "      <th>조회수</th>\n",
       "      <th>영상개수</th>\n",
       "    </tr>\n",
       "    <tr>\n",
       "      <th>채널명</th>\n",
       "      <th></th>\n",
       "      <th></th>\n",
       "      <th></th>\n",
       "      <th></th>\n",
       "    </tr>\n",
       "  </thead>\n",
       "  <tbody>\n",
       "    <tr>\n",
       "      <th>BLACKPINK</th>\n",
       "      <td>[음악/댄스/가수]</td>\n",
       "      <td>51400000</td>\n",
       "      <td>12851300000</td>\n",
       "      <td>319</td>\n",
       "    </tr>\n",
       "    <tr>\n",
       "      <th>Big Hit Labels</th>\n",
       "      <td>[음악/댄스/가수]</td>\n",
       "      <td>45500000</td>\n",
       "      <td>12089660000</td>\n",
       "      <td>433</td>\n",
       "    </tr>\n",
       "    <tr>\n",
       "      <th>BANGTANTV</th>\n",
       "      <td>[음악/댄스/가수]</td>\n",
       "      <td>38700000</td>\n",
       "      <td>5475980000</td>\n",
       "      <td>1319</td>\n",
       "    </tr>\n",
       "    <tr>\n",
       "      <th>Boram Tube Vlog [보람튜브 브이로그]</th>\n",
       "      <td>[키즈/어린이]</td>\n",
       "      <td>26500000</td>\n",
       "      <td>11052880000</td>\n",
       "      <td>223</td>\n",
       "    </tr>\n",
       "    <tr>\n",
       "      <th>SMTOWN</th>\n",
       "      <td>[음악/댄스/가수]</td>\n",
       "      <td>24500000</td>\n",
       "      <td>18075320000</td>\n",
       "      <td>3583</td>\n",
       "    </tr>\n",
       "    <tr>\n",
       "      <th>...</th>\n",
       "      <td>...</td>\n",
       "      <td>...</td>\n",
       "      <td>...</td>\n",
       "      <td>...</td>\n",
       "    </tr>\n",
       "    <tr>\n",
       "      <th>Ranking World</th>\n",
       "      <td>[미분류]</td>\n",
       "      <td>400000</td>\n",
       "      <td>127520000</td>\n",
       "      <td>503</td>\n",
       "    </tr>\n",
       "    <tr>\n",
       "      <th>급식걸즈</th>\n",
       "      <td>[취미/라이프]</td>\n",
       "      <td>400000</td>\n",
       "      <td>239010000</td>\n",
       "      <td>226</td>\n",
       "    </tr>\n",
       "    <tr>\n",
       "      <th>OCN</th>\n",
       "      <td>[TV/방송]</td>\n",
       "      <td>400000</td>\n",
       "      <td>345830000</td>\n",
       "      <td>10071</td>\n",
       "    </tr>\n",
       "    <tr>\n",
       "      <th>Bravo jamoasi</th>\n",
       "      <td>[미분류]</td>\n",
       "      <td>400000</td>\n",
       "      <td>61930000</td>\n",
       "      <td>25</td>\n",
       "    </tr>\n",
       "    <tr>\n",
       "      <th>덕출 : DCTVGO</th>\n",
       "      <td>[TV/방송]</td>\n",
       "      <td>400000</td>\n",
       "      <td>82490000</td>\n",
       "      <td>202</td>\n",
       "    </tr>\n",
       "  </tbody>\n",
       "</table>\n",
       "<p>1000 rows × 4 columns</p>\n",
       "</div>"
      ],
      "text/plain": [
       "                                   카테고리      구독자수          조회수   영상개수\n",
       "채널명                                                                  \n",
       "BLACKPINK                    [음악/댄스/가수]  51400000  12851300000    319\n",
       "Big Hit Labels               [음악/댄스/가수]  45500000  12089660000    433\n",
       "BANGTANTV                    [음악/댄스/가수]  38700000   5475980000   1319\n",
       "Boram Tube Vlog [보람튜브 브이로그]    [키즈/어린이]  26500000  11052880000    223\n",
       "SMTOWN                       [음악/댄스/가수]  24500000  18075320000   3583\n",
       "...                                 ...       ...          ...    ...\n",
       "Ranking World                     [미분류]    400000    127520000    503\n",
       "급식걸즈                           [취미/라이프]    400000    239010000    226\n",
       "OCN                             [TV/방송]    400000    345830000  10071\n",
       "Bravo jamoasi                     [미분류]    400000     61930000     25\n",
       "덕출 : DCTVGO                     [TV/방송]    400000     82490000    202\n",
       "\n",
       "[1000 rows x 4 columns]"
      ]
     },
     "execution_count": 119,
     "metadata": {},
     "output_type": "execute_result"
    }
   ],
   "source": [
    "# 4 인기 채널 확인하기\n",
    "# ◼’구독자수’와 ‘조회수’가 많은 5개의 채널을 각각 출력하시오.\n",
    "# data['구독자수'].sort_values(ascending=False).head()\n",
    "# data['조회수'].sort_values(ascending=False).head()\n",
    "\n",
    "data.sort_values(['구독자수','조회수'],ascending=False).head()[['채널명','구독자수','조회수']]\n",
    "asdf = data.set_index('채널명')\n",
    "asdf\n"
   ]
  },
  {
   "cell_type": "code",
   "execution_count": 122,
   "metadata": {},
   "outputs": [
    {
     "data": {
      "text/plain": [
       "0    51400000\n",
       "1    45500000\n",
       "2    38700000\n",
       "4    24500000\n",
       "5    22300000\n",
       "Name: 구독자수, dtype: int64"
      ]
     },
     "execution_count": 122,
     "metadata": {},
     "output_type": "execute_result"
    }
   ],
   "source": [
    "# 5 ‘카테고리’가 [음악/댄스/가수]인 채널의 ‘구독자수’ 상위 5개를 출력하시오.\n",
    "data[data['카테고리'] == '[음악/댄스/가수]']['구독자수'].head(5)"
   ]
  },
  {
   "cell_type": "code",
   "execution_count": 125,
   "metadata": {},
   "outputs": [
    {
     "data": {
      "text/plain": [
       "채널명     262\n",
       "카테고리    262\n",
       "구독자수    262\n",
       "조회수     262\n",
       "영상개수    262\n",
       "dtype: int64"
      ]
     },
     "execution_count": 125,
     "metadata": {},
     "output_type": "execute_result"
    }
   ],
   "source": [
    "# 6 ‘카테고리가’ [TV/방송]이거나 [게임]인 채널의 개수를 출력하시오.\n",
    "# data[np.logical_or(data['카테고리'] == '[TV/방송]',data['카테고리'] ==  '[게임]' )].count()\n",
    "data[data['카테고리'].isin(['[TV/방송]','[게임]'])].count()"
   ]
  },
  {
   "cell_type": "code",
   "execution_count": 127,
   "metadata": {},
   "outputs": [
    {
     "data": {
      "text/html": [
       "<div>\n",
       "<style scoped>\n",
       "    .dataframe tbody tr th:only-of-type {\n",
       "        vertical-align: middle;\n",
       "    }\n",
       "\n",
       "    .dataframe tbody tr th {\n",
       "        vertical-align: top;\n",
       "    }\n",
       "\n",
       "    .dataframe thead th {\n",
       "        text-align: right;\n",
       "    }\n",
       "</style>\n",
       "<table border=\"1\" class=\"dataframe\">\n",
       "  <thead>\n",
       "    <tr style=\"text-align: right;\">\n",
       "      <th></th>\n",
       "      <th>채널명</th>\n",
       "      <th>카테고리</th>\n",
       "      <th>구독자수</th>\n",
       "      <th>조회수</th>\n",
       "      <th>영상개수</th>\n",
       "    </tr>\n",
       "  </thead>\n",
       "  <tbody>\n",
       "    <tr>\n",
       "      <th>12</th>\n",
       "      <td>KBS World</td>\n",
       "      <td>[TV/방송]</td>\n",
       "      <td>14300000</td>\n",
       "      <td>10158060000</td>\n",
       "      <td>46830</td>\n",
       "    </tr>\n",
       "    <tr>\n",
       "      <th>46</th>\n",
       "      <td>KBS Kpop</td>\n",
       "      <td>[TV/방송]</td>\n",
       "      <td>5260000</td>\n",
       "      <td>3411260000</td>\n",
       "      <td>24389</td>\n",
       "    </tr>\n",
       "    <tr>\n",
       "      <th>76</th>\n",
       "      <td>KBS Entertain</td>\n",
       "      <td>[TV/방송]</td>\n",
       "      <td>3930000</td>\n",
       "      <td>5340910000</td>\n",
       "      <td>91783</td>\n",
       "    </tr>\n",
       "    <tr>\n",
       "      <th>101</th>\n",
       "      <td>KBS Drama</td>\n",
       "      <td>[TV/방송]</td>\n",
       "      <td>3040000</td>\n",
       "      <td>3538510000</td>\n",
       "      <td>105922</td>\n",
       "    </tr>\n",
       "    <tr>\n",
       "      <th>290</th>\n",
       "      <td>KBS 한국방송</td>\n",
       "      <td>[TV/방송]</td>\n",
       "      <td>1220000</td>\n",
       "      <td>1128510000</td>\n",
       "      <td>25993</td>\n",
       "    </tr>\n",
       "    <tr>\n",
       "      <th>292</th>\n",
       "      <td>KBS Drama Classic</td>\n",
       "      <td>[뉴스/정치/사회]</td>\n",
       "      <td>1210000</td>\n",
       "      <td>1084400000</td>\n",
       "      <td>8783</td>\n",
       "    </tr>\n",
       "    <tr>\n",
       "      <th>308</th>\n",
       "      <td>KBS HUMAN: 뭉클티비</td>\n",
       "      <td>[TV/방송]</td>\n",
       "      <td>1170000</td>\n",
       "      <td>495680000</td>\n",
       "      <td>1593</td>\n",
       "    </tr>\n",
       "    <tr>\n",
       "      <th>389</th>\n",
       "      <td>KBS News</td>\n",
       "      <td>[뉴스/정치/사회]</td>\n",
       "      <td>960000</td>\n",
       "      <td>1017410000</td>\n",
       "      <td>145515</td>\n",
       "    </tr>\n",
       "    <tr>\n",
       "      <th>457</th>\n",
       "      <td>KBS CoolFM</td>\n",
       "      <td>[TV/방송]</td>\n",
       "      <td>840000</td>\n",
       "      <td>429520000</td>\n",
       "      <td>6981</td>\n",
       "    </tr>\n",
       "    <tr>\n",
       "      <th>716</th>\n",
       "      <td>KBS N</td>\n",
       "      <td>[TV/방송]</td>\n",
       "      <td>560000</td>\n",
       "      <td>747830000</td>\n",
       "      <td>12470</td>\n",
       "    </tr>\n",
       "    <tr>\n",
       "      <th>777</th>\n",
       "      <td>KBS KONG</td>\n",
       "      <td>[뉴스/정치/사회]</td>\n",
       "      <td>520000</td>\n",
       "      <td>191610000</td>\n",
       "      <td>6639</td>\n",
       "    </tr>\n",
       "    <tr>\n",
       "      <th>991</th>\n",
       "      <td>KBS Documentary [KBS 다큐]</td>\n",
       "      <td>[뉴스/정치/사회]</td>\n",
       "      <td>400000</td>\n",
       "      <td>245060000</td>\n",
       "      <td>48383</td>\n",
       "    </tr>\n",
       "    <tr>\n",
       "      <th>992</th>\n",
       "      <td>KBS 교양</td>\n",
       "      <td>[뉴스/정치/사회]</td>\n",
       "      <td>400000</td>\n",
       "      <td>297960000</td>\n",
       "      <td>64694</td>\n",
       "    </tr>\n",
       "  </tbody>\n",
       "</table>\n",
       "</div>"
      ],
      "text/plain": [
       "                          채널명        카테고리      구독자수          조회수    영상개수\n",
       "12                  KBS World     [TV/방송]  14300000  10158060000   46830\n",
       "46                   KBS Kpop     [TV/방송]   5260000   3411260000   24389\n",
       "76              KBS Entertain     [TV/방송]   3930000   5340910000   91783\n",
       "101                 KBS Drama     [TV/방송]   3040000   3538510000  105922\n",
       "290                  KBS 한국방송     [TV/방송]   1220000   1128510000   25993\n",
       "292         KBS Drama Classic  [뉴스/정치/사회]   1210000   1084400000    8783\n",
       "308           KBS HUMAN: 뭉클티비     [TV/방송]   1170000    495680000    1593\n",
       "389                  KBS News  [뉴스/정치/사회]    960000   1017410000  145515\n",
       "457                KBS CoolFM     [TV/방송]    840000    429520000    6981\n",
       "716                     KBS N     [TV/방송]    560000    747830000   12470\n",
       "777                  KBS KONG  [뉴스/정치/사회]    520000    191610000    6639\n",
       "991  KBS Documentary [KBS 다큐]  [뉴스/정치/사회]    400000    245060000   48383\n",
       "992                    KBS 교양  [뉴스/정치/사회]    400000    297960000   64694"
      ]
     },
     "execution_count": 127,
     "metadata": {},
     "output_type": "execute_result"
    }
   ],
   "source": [
    "# 7 ‘채널명’에 ‘KBS’가 포함된 채널 명을 출력하시오.\n",
    "data[data['채널명'].str.contains('KBS')]"
   ]
  },
  {
   "cell_type": "code",
   "execution_count": 129,
   "metadata": {},
   "outputs": [
    {
     "data": {
      "text/html": [
       "<div>\n",
       "<style scoped>\n",
       "    .dataframe tbody tr th:only-of-type {\n",
       "        vertical-align: middle;\n",
       "    }\n",
       "\n",
       "    .dataframe tbody tr th {\n",
       "        vertical-align: top;\n",
       "    }\n",
       "\n",
       "    .dataframe thead th {\n",
       "        text-align: right;\n",
       "    }\n",
       "</style>\n",
       "<table border=\"1\" class=\"dataframe\">\n",
       "  <thead>\n",
       "    <tr style=\"text-align: right;\">\n",
       "      <th></th>\n",
       "      <th>구독자수</th>\n",
       "      <th>조회수</th>\n",
       "      <th>영상개수</th>\n",
       "    </tr>\n",
       "    <tr>\n",
       "      <th>카테고리</th>\n",
       "      <th></th>\n",
       "      <th></th>\n",
       "      <th></th>\n",
       "    </tr>\n",
       "  </thead>\n",
       "  <tbody>\n",
       "    <tr>\n",
       "      <th>[BJ/인물/연예인]</th>\n",
       "      <td>1.274412e+06</td>\n",
       "      <td>4.101549e+08</td>\n",
       "      <td>837.735294</td>\n",
       "    </tr>\n",
       "    <tr>\n",
       "      <th>[IT/기술/컴퓨터]</th>\n",
       "      <td>8.062500e+05</td>\n",
       "      <td>1.766100e+08</td>\n",
       "      <td>1200.125000</td>\n",
       "    </tr>\n",
       "    <tr>\n",
       "      <th>[TV/방송]</th>\n",
       "      <td>1.219876e+06</td>\n",
       "      <td>7.184834e+08</td>\n",
       "      <td>9025.130435</td>\n",
       "    </tr>\n",
       "    <tr>\n",
       "      <th>[게임]</th>\n",
       "      <td>7.435644e+05</td>\n",
       "      <td>4.542535e+08</td>\n",
       "      <td>2527.009901</td>\n",
       "    </tr>\n",
       "    <tr>\n",
       "      <th>[교육/강의]</th>\n",
       "      <td>8.513043e+05</td>\n",
       "      <td>1.772183e+08</td>\n",
       "      <td>837.913043</td>\n",
       "    </tr>\n",
       "    <tr>\n",
       "      <th>[국내/해외/여행]</th>\n",
       "      <td>6.260000e+05</td>\n",
       "      <td>1.866240e+08</td>\n",
       "      <td>830.200000</td>\n",
       "    </tr>\n",
       "    <tr>\n",
       "      <th>[뉴스/정치/사회]</th>\n",
       "      <td>1.226964e+06</td>\n",
       "      <td>1.199936e+09</td>\n",
       "      <td>42048.089286</td>\n",
       "    </tr>\n",
       "    <tr>\n",
       "      <th>[미분류]</th>\n",
       "      <td>1.429500e+06</td>\n",
       "      <td>4.090340e+08</td>\n",
       "      <td>778.050000</td>\n",
       "    </tr>\n",
       "    <tr>\n",
       "      <th>[스포츠/운동]</th>\n",
       "      <td>9.325000e+05</td>\n",
       "      <td>2.791892e+08</td>\n",
       "      <td>3954.916667</td>\n",
       "    </tr>\n",
       "    <tr>\n",
       "      <th>[애완/반려동물]</th>\n",
       "      <td>1.161000e+06</td>\n",
       "      <td>4.213170e+08</td>\n",
       "      <td>786.250000</td>\n",
       "    </tr>\n",
       "    <tr>\n",
       "      <th>[영화/만화/애니]</th>\n",
       "      <td>8.527273e+05</td>\n",
       "      <td>3.185870e+08</td>\n",
       "      <td>770.181818</td>\n",
       "    </tr>\n",
       "    <tr>\n",
       "      <th>[음식/요리/레시피]</th>\n",
       "      <td>1.612045e+06</td>\n",
       "      <td>4.073819e+08</td>\n",
       "      <td>830.022727</td>\n",
       "    </tr>\n",
       "    <tr>\n",
       "      <th>[음악/댄스/가수]</th>\n",
       "      <td>3.195200e+06</td>\n",
       "      <td>1.091668e+09</td>\n",
       "      <td>1382.051429</td>\n",
       "    </tr>\n",
       "    <tr>\n",
       "      <th>[자동차]</th>\n",
       "      <td>4.900000e+05</td>\n",
       "      <td>1.856150e+08</td>\n",
       "      <td>670.000000</td>\n",
       "    </tr>\n",
       "    <tr>\n",
       "      <th>[주식/경제/부동산]</th>\n",
       "      <td>6.260000e+05</td>\n",
       "      <td>6.800000e+07</td>\n",
       "      <td>1026.400000</td>\n",
       "    </tr>\n",
       "    <tr>\n",
       "      <th>[취미/라이프]</th>\n",
       "      <td>9.745000e+05</td>\n",
       "      <td>2.043118e+08</td>\n",
       "      <td>359.325000</td>\n",
       "    </tr>\n",
       "    <tr>\n",
       "      <th>[취미]</th>\n",
       "      <td>5.600000e+05</td>\n",
       "      <td>1.061500e+08</td>\n",
       "      <td>237.000000</td>\n",
       "    </tr>\n",
       "    <tr>\n",
       "      <th>[키즈/어린이]</th>\n",
       "      <td>2.729158e+06</td>\n",
       "      <td>1.281384e+09</td>\n",
       "      <td>1069.157895</td>\n",
       "    </tr>\n",
       "    <tr>\n",
       "      <th>[패션/미용]</th>\n",
       "      <td>8.238596e+05</td>\n",
       "      <td>1.043774e+08</td>\n",
       "      <td>313.157895</td>\n",
       "    </tr>\n",
       "    <tr>\n",
       "      <th>[해외]</th>\n",
       "      <td>1.595000e+06</td>\n",
       "      <td>8.382533e+08</td>\n",
       "      <td>5043.500000</td>\n",
       "    </tr>\n",
       "    <tr>\n",
       "      <th>[회사/오피셜]</th>\n",
       "      <td>2.202500e+06</td>\n",
       "      <td>4.966125e+08</td>\n",
       "      <td>2084.250000</td>\n",
       "    </tr>\n",
       "  </tbody>\n",
       "</table>\n",
       "</div>"
      ],
      "text/plain": [
       "                     구독자수           조회수          영상개수\n",
       "카테고리                                                 \n",
       "[BJ/인물/연예인]  1.274412e+06  4.101549e+08    837.735294\n",
       "[IT/기술/컴퓨터]  8.062500e+05  1.766100e+08   1200.125000\n",
       "[TV/방송]      1.219876e+06  7.184834e+08   9025.130435\n",
       "[게임]         7.435644e+05  4.542535e+08   2527.009901\n",
       "[교육/강의]      8.513043e+05  1.772183e+08    837.913043\n",
       "[국내/해외/여행]   6.260000e+05  1.866240e+08    830.200000\n",
       "[뉴스/정치/사회]   1.226964e+06  1.199936e+09  42048.089286\n",
       "[미분류]        1.429500e+06  4.090340e+08    778.050000\n",
       "[스포츠/운동]     9.325000e+05  2.791892e+08   3954.916667\n",
       "[애완/반려동물]    1.161000e+06  4.213170e+08    786.250000\n",
       "[영화/만화/애니]   8.527273e+05  3.185870e+08    770.181818\n",
       "[음식/요리/레시피]  1.612045e+06  4.073819e+08    830.022727\n",
       "[음악/댄스/가수]   3.195200e+06  1.091668e+09   1382.051429\n",
       "[자동차]        4.900000e+05  1.856150e+08    670.000000\n",
       "[주식/경제/부동산]  6.260000e+05  6.800000e+07   1026.400000\n",
       "[취미/라이프]     9.745000e+05  2.043118e+08    359.325000\n",
       "[취미]         5.600000e+05  1.061500e+08    237.000000\n",
       "[키즈/어린이]     2.729158e+06  1.281384e+09   1069.157895\n",
       "[패션/미용]      8.238596e+05  1.043774e+08    313.157895\n",
       "[해외]         1.595000e+06  8.382533e+08   5043.500000\n",
       "[회사/오피셜]     2.202500e+06  4.966125e+08   2084.250000"
      ]
     },
     "execution_count": 129,
     "metadata": {},
     "output_type": "execute_result"
    }
   ],
   "source": [
    "# 8 ‘카테고리’별 ‘구독자수’, ‘조회수’, ‘영상개수’의 평균을 출력하시오.\n",
    "grouped = data.groupby('카테고리')[['구독자수','조회수','영상개수']].mean()\n",
    "grouped\n"
   ]
  }
 ],
 "metadata": {
  "kernelspec": {
   "display_name": "Python 3",
   "language": "python",
   "name": "python3"
  },
  "language_info": {
   "codemirror_mode": {
    "name": "ipython",
    "version": 3
   },
   "file_extension": ".py",
   "mimetype": "text/x-python",
   "name": "python",
   "nbconvert_exporter": "python",
   "pygments_lexer": "ipython3",
   "version": "3.11.3"
  },
  "orig_nbformat": 4
 },
 "nbformat": 4,
 "nbformat_minor": 2
}
