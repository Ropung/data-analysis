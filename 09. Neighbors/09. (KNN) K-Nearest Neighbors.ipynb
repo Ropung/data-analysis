{
 "cells": [
  {
   "attachments": {},
   "cell_type": "markdown",
   "id": "6c3ac99c",
   "metadata": {},
   "source": [
    "# 붓꽃 품종 분류"
   ]
  },
  {
   "attachments": {},
   "cell_type": "markdown",
   "id": "82f12473",
   "metadata": {},
   "source": [
    "## 패키지 로딩"
   ]
  },
  {
   "cell_type": "code",
   "execution_count": null,
   "id": "d55326f3",
   "metadata": {},
   "outputs": [],
   "source": [
    "from sklearn.datasets import load_iris\n",
    "from sklearn.model_selection import train_test_split\n",
    "from sklearn.neighbors import KNeighborsClassifier\n",
    "from sklearn import metrics\n",
    "\n",
    "import numpy as np\n",
    "import pandas as pd\n",
    "import matplotlib.pyplot as plt\n",
    "import seaborn as sns"
   ]
  },
  {
   "attachments": {},
   "cell_type": "markdown",
   "id": "a6fa0173",
   "metadata": {},
   "source": [
    "## 데이터 로딩"
   ]
  },
  {
   "cell_type": "code",
   "execution_count": null,
   "id": "676bc6a7",
   "metadata": {},
   "outputs": [],
   "source": [
    "X,y = load_iris(return_X_y=True)"
   ]
  },
  {
   "attachments": {},
   "cell_type": "markdown",
   "id": "08593d8b",
   "metadata": {},
   "source": [
    "## 학습/평가 데이터 분할"
   ]
  },
  {
   "cell_type": "code",
   "execution_count": null,
   "id": "478e2617",
   "metadata": {},
   "outputs": [],
   "source": [
    "X_train, X_test, y_train, y_test = train_test_split(X, y, test_size = 0.2, random_state = 10, stratify = y)"
   ]
  },
  {
   "attachments": {},
   "cell_type": "markdown",
   "id": "241c534d",
   "metadata": {},
   "source": [
    "## 변수간 관계 확인"
   ]
  },
  {
   "cell_type": "code",
   "execution_count": null,
   "id": "4f201540",
   "metadata": {},
   "outputs": [],
   "source": [
    "df = pd.DataFrame(X, columns=load_iris().feature_names)\n",
    "df['class'] = y\n",
    "df.head()"
   ]
  },
  {
   "cell_type": "code",
   "execution_count": null,
   "id": "86e08160",
   "metadata": {
    "scrolled": false
   },
   "outputs": [],
   "source": [
    "sns.pairplot(df, hue = 'class')"
   ]
  },
  {
   "attachments": {},
   "cell_type": "markdown",
   "id": "52748b59",
   "metadata": {},
   "source": [
    "## 모델 생성 및 학습"
   ]
  },
  {
   "cell_type": "code",
   "execution_count": null,
   "id": "ddbe78fe",
   "metadata": {},
   "outputs": [],
   "source": [
    "knn = KNeighborsClassifier(n_neighbors=3)\n",
    "knn.fit(X_train,y_train)"
   ]
  },
  {
   "attachments": {},
   "cell_type": "markdown",
   "id": "1b0dc0bb",
   "metadata": {},
   "source": [
    "## 예측 및 평가"
   ]
  },
  {
   "cell_type": "code",
   "execution_count": null,
   "id": "fe106043",
   "metadata": {
    "scrolled": true
   },
   "outputs": [],
   "source": [
    "y_hat = knn.predict(X_test)\n",
    "cf_mat = metrics.confusion_matrix(y_test,y_hat)\n",
    "print(cf_mat)"
   ]
  },
  {
   "cell_type": "code",
   "execution_count": null,
   "id": "bd2d3cc2",
   "metadata": {},
   "outputs": [],
   "source": [
    "print(f'정확도 : {metrics.accuracy_score(y_test,y_hat):.3f}')"
   ]
  },
  {
   "attachments": {},
   "cell_type": "markdown",
   "id": "510cd239",
   "metadata": {},
   "source": [
    "## 최적의 K찾기"
   ]
  },
  {
   "cell_type": "code",
   "execution_count": null,
   "id": "70af5f57",
   "metadata": {},
   "outputs": [],
   "source": [
    "import warnings\n",
    "warnings.filterwarnings(action='ignore') # action='default'"
   ]
  },
  {
   "cell_type": "code",
   "execution_count": null,
   "id": "3535670c",
   "metadata": {},
   "outputs": [],
   "source": [
    "k = 10\n",
    "acc_score = np.zeros(k)\n",
    "for k in range(1, k+1):\n",
    "    # n_neighbors 파라미터는 k값에서 근접한 값이 몇개인지 \n",
    "    model = KNeighborsClassifier(n_neighbors=k).fit(X_train,y_train)\n",
    "    y_hat = model.predict(X_test)\n",
    "    acc = metrics.accuracy_score(y_test,y_hat)\n",
    "    acc_score[k-1] = acc\n",
    "\n",
    "max_index = np.argmax(acc_score)\n",
    "print(f'최적의 K: {max_index+1}이며 이때의 정확도는 {acc_score[max_index]:.3f}이다.')"
   ]
  },
  {
   "cell_type": "code",
   "execution_count": null,
   "id": "6bb37e77",
   "metadata": {},
   "outputs": [],
   "source": []
  },
  {
   "cell_type": "code",
   "execution_count": null,
   "id": "c2bd227d",
   "metadata": {},
   "outputs": [],
   "source": []
  },
  {
   "attachments": {},
   "cell_type": "markdown",
   "id": "a3eb40ac",
   "metadata": {},
   "source": [
    "# MNIST 손글씨 분류\n",
    "- MNIST: 손으로 쓴 숫자들로 이루어진 데이터베이스"
   ]
  },
  {
   "attachments": {},
   "cell_type": "markdown",
   "id": "46ce18e8",
   "metadata": {},
   "source": [
    "## 패키지 로딩"
   ]
  },
  {
   "cell_type": "code",
   "execution_count": null,
   "id": "2960adab",
   "metadata": {},
   "outputs": [],
   "source": [
    "from sklearn.datasets import fetch_openml\n",
    "from sklearn.model_selection import train_test_split\n",
    "from sklearn.neighbors import KNeighborsClassifier\n",
    "from sklearn import metrics\n",
    "\n",
    "import numpy as np\n",
    "import pandas as pd\n",
    "import matplotlib.pyplot as plt\n",
    "import seaborn as sns"
   ]
  },
  {
   "attachments": {},
   "cell_type": "markdown",
   "id": "891b1711",
   "metadata": {},
   "source": [
    "## 데이터 로딩"
   ]
  },
  {
   "cell_type": "code",
   "execution_count": null,
   "id": "db81b184",
   "metadata": {},
   "outputs": [],
   "source": [
    "mnist = fetch_openml('mnist_784', version = 1)\n",
    "mnist.keys()"
   ]
  },
  {
   "cell_type": "code",
   "execution_count": null,
   "id": "8196eaad",
   "metadata": {},
   "outputs": [],
   "source": [
    "X,y = load_iris(return_X_y=True)"
   ]
  },
  {
   "attachments": {},
   "cell_type": "markdown",
   "id": "8cdeea88",
   "metadata": {},
   "source": [
    "### 데이터 모양 확인\n",
    "- 전체 70,000개의 이미지와 784개의 특성값(28X28 크기)\n",
    "- 각 특성 값은 0~255 사이의 픽셀 강도 값을 갖는다."
   ]
  },
  {
   "cell_type": "code",
   "execution_count": null,
   "id": "4644d44b",
   "metadata": {
    "scrolled": true
   },
   "outputs": [],
   "source": [
    "X = mnist.data\n",
    "y = mnist.target\n",
    "print(X.shape,y.shape)\n",
    "# print(X)\n",
    "print(X.iloc[0])"
   ]
  },
  {
   "attachments": {},
   "cell_type": "markdown",
   "id": "d83acf85",
   "metadata": {},
   "source": [
    "## 숫자 데이터 이미지화"
   ]
  },
  {
   "cell_type": "code",
   "execution_count": null,
   "id": "388a4113",
   "metadata": {},
   "outputs": [],
   "source": [
    "import matplotlib.pyplot as plt\n",
    "digit_data = X.iloc[3].values.reshape(28,28)\n",
    "plt.imshow(digit_data, cmap='binary')\n",
    "plt.show()"
   ]
  },
  {
   "cell_type": "code",
   "execution_count": null,
   "id": "608dc919",
   "metadata": {},
   "outputs": [],
   "source": [
    "# 정답 레이블 확인\n",
    "y[0]"
   ]
  },
  {
   "attachments": {},
   "cell_type": "markdown",
   "id": "8d779341",
   "metadata": {},
   "source": [
    "## 학습/평가 데이터 분리\n",
    "- MNIST 데이터셋은 이미 학습 데이터(앞졲 60,000개와) 평가 데이터(뒤쪽 10,000)로 나뉘어 있다."
   ]
  },
  {
   "cell_type": "code",
   "execution_count": null,
   "id": "3138e2f2",
   "metadata": {},
   "outputs": [],
   "source": [
    "X_train,X_test,y_train,y_test = X[:60000], X[60000:],y[:60000],y[60000:]"
   ]
  },
  {
   "attachments": {},
   "cell_type": "markdown",
   "id": "dcd05400",
   "metadata": {},
   "source": [
    "## 모델 생성 및 학습"
   ]
  },
  {
   "cell_type": "code",
   "execution_count": null,
   "id": "e9fe9b38",
   "metadata": {},
   "outputs": [],
   "source": [
    "from sklearn.neighbors import KNeighborsClassifier\n",
    "\n",
    "knn = KNeighborsClassifier(n_neighbors=5)\n",
    "knn.fit(X_train, y_train)"
   ]
  },
  {
   "attachments": {},
   "cell_type": "markdown",
   "id": "78556c5f",
   "metadata": {},
   "source": [
    "## 예측 및 평가"
   ]
  },
  {
   "cell_type": "code",
   "execution_count": null,
   "id": "0d62a0a9",
   "metadata": {
    "scrolled": true
   },
   "outputs": [],
   "source": [
    "from sklearn.metrics import accuracy_score, roc_auc_score\n",
    "\n",
    "y_hat = knn.predict(X_test)\n",
    "accuracy = accuracy_score(y_test,y_hat)\n",
    "print(f'정확도 : {accuracy:.3f}')"
   ]
  },
  {
   "cell_type": "code",
   "execution_count": null,
   "id": "5b6bc1f9",
   "metadata": {},
   "outputs": [],
   "source": [
    "pred_proba = knn.predict_proba(X_test)\n",
    "auc = roc_auc_score(y_test, pred_proba, multi_class='ovr')\n",
    "print(f'AUC: {auc:.3f}')"
   ]
  },
  {
   "cell_type": "code",
   "execution_count": null,
   "id": "4011590c",
   "metadata": {},
   "outputs": [],
   "source": [
    "test_data = X_test.iloc[0]\n",
    "print('정답: ',y_test.iloc[0])\n",
    "print('예측값:',knn.predict(test_data.values.reshape(1,-1)))"
   ]
  },
  {
   "attachments": {},
   "cell_type": "markdown",
   "id": "fe53114c",
   "metadata": {},
   "source": [
    "## 최적의 K찾기"
   ]
  },
  {
   "cell_type": "code",
   "execution_count": 42,
   "id": "25708dc3",
   "metadata": {},
   "outputs": [
    {
     "name": "stdout",
     "output_type": "stream",
     "text": [
      "최적의 K: 3이며 이때의 정확도는 0.971이다.\n"
     ]
    }
   ],
   "source": [
    "k = 10\n",
    "acc_score = np.zeros(k)\n",
    "for k in range(1, k+1):\n",
    "    # n_neighbors 파라미터는 k값에서 근접한 값이 몇개인지 \n",
    "    model = KNeighborsClassifier(n_neighbors=k).fit(X_train,y_train)\n",
    "    y_hat = model.predict(X_test)\n",
    "    acc = metrics.accuracy_score(y_test,y_hat)\n",
    "    acc_score[k-1] = acc\n",
    "\n",
    "max_index = np.argmax(acc_score)\n",
    "print(f'최적의 K: {max_index+1}이며 이때의 정확도는 {acc_score[max_index]:.3f}이다.')"
   ]
  }
 ],
 "metadata": {
  "kernelspec": {
   "display_name": "Python 3 (ipykernel)",
   "language": "python",
   "name": "python3"
  },
  "language_info": {
   "codemirror_mode": {
    "name": "ipython",
    "version": 3
   },
   "file_extension": ".py",
   "mimetype": "text/x-python",
   "name": "python",
   "nbconvert_exporter": "python",
   "pygments_lexer": "ipython3",
   "version": "3.9.13"
  },
  "toc": {
   "base_numbering": 1,
   "nav_menu": {},
   "number_sections": true,
   "sideBar": true,
   "skip_h1_title": false,
   "title_cell": "Table of Contents",
   "title_sidebar": "Contents",
   "toc_cell": false,
   "toc_position": {},
   "toc_section_display": true,
   "toc_window_display": false
  }
 },
 "nbformat": 4,
 "nbformat_minor": 5
}
