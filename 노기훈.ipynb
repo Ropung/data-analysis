{
 "cells": [
  {
   "attachments": {},
   "cell_type": "markdown",
   "id": "6946c05e",
   "metadata": {},
   "source": [
    "<font size=5> **[넷플릭스 데이터를 활용한 추천 시스템 개발]** </font>\n",
    "- netflix_titles.csv 데이터를 활용하여 주요 데이터 시각화 및 추천 시스템을 개발하시오\n",
    "- 각 마크다운 셀의 내용을 참고하여 비어있는 코드 셀에 코드를 작성한다.\n",
    "- 제시된 아웃풋은 참고이며 반드시 동일할 필요는 없다."
   ]
  },
  {
   "attachments": {},
   "cell_type": "markdown",
   "id": "45441074",
   "metadata": {},
   "source": [
    "# 데이터 로딩"
   ]
  },
  {
   "cell_type": "code",
   "execution_count": 100,
   "id": "44e7155a",
   "metadata": {
    "scrolled": true
   },
   "outputs": [
    {
     "name": "stdout",
     "output_type": "stream",
     "text": [
      "(7787, 12)\n"
     ]
    },
    {
     "data": {
      "text/html": [
       "<div>\n",
       "<style scoped>\n",
       "    .dataframe tbody tr th:only-of-type {\n",
       "        vertical-align: middle;\n",
       "    }\n",
       "\n",
       "    .dataframe tbody tr th {\n",
       "        vertical-align: top;\n",
       "    }\n",
       "\n",
       "    .dataframe thead th {\n",
       "        text-align: right;\n",
       "    }\n",
       "</style>\n",
       "<table border=\"1\" class=\"dataframe\">\n",
       "  <thead>\n",
       "    <tr style=\"text-align: right;\">\n",
       "      <th></th>\n",
       "      <th>show_id</th>\n",
       "      <th>type</th>\n",
       "      <th>title</th>\n",
       "      <th>director</th>\n",
       "      <th>cast</th>\n",
       "      <th>country</th>\n",
       "      <th>date_added</th>\n",
       "      <th>release_year</th>\n",
       "      <th>rating</th>\n",
       "      <th>duration</th>\n",
       "      <th>listed_in</th>\n",
       "      <th>description</th>\n",
       "    </tr>\n",
       "  </thead>\n",
       "  <tbody>\n",
       "    <tr>\n",
       "      <th>0</th>\n",
       "      <td>s1</td>\n",
       "      <td>TV Show</td>\n",
       "      <td>3%</td>\n",
       "      <td>NaN</td>\n",
       "      <td>João Miguel, Bianca Comparato, Michel Gomes, R...</td>\n",
       "      <td>Brazil</td>\n",
       "      <td>August 14, 2020</td>\n",
       "      <td>2020</td>\n",
       "      <td>TV-MA</td>\n",
       "      <td>4 Seasons</td>\n",
       "      <td>International TV Shows, TV Dramas, TV Sci-Fi &amp;...</td>\n",
       "      <td>In a future where the elite inhabit an island ...</td>\n",
       "    </tr>\n",
       "    <tr>\n",
       "      <th>1</th>\n",
       "      <td>s2</td>\n",
       "      <td>Movie</td>\n",
       "      <td>7:19</td>\n",
       "      <td>Jorge Michel Grau</td>\n",
       "      <td>Demián Bichir, Héctor Bonilla, Oscar Serrano, ...</td>\n",
       "      <td>Mexico</td>\n",
       "      <td>December 23, 2016</td>\n",
       "      <td>2016</td>\n",
       "      <td>TV-MA</td>\n",
       "      <td>93 min</td>\n",
       "      <td>Dramas, International Movies</td>\n",
       "      <td>After a devastating earthquake hits Mexico Cit...</td>\n",
       "    </tr>\n",
       "  </tbody>\n",
       "</table>\n",
       "</div>"
      ],
      "text/plain": [
       "  show_id     type title           director   \n",
       "0      s1  TV Show    3%                NaN  \\\n",
       "1      s2    Movie  7:19  Jorge Michel Grau   \n",
       "\n",
       "                                                cast country   \n",
       "0  João Miguel, Bianca Comparato, Michel Gomes, R...  Brazil  \\\n",
       "1  Demián Bichir, Héctor Bonilla, Oscar Serrano, ...  Mexico   \n",
       "\n",
       "          date_added  release_year rating   duration   \n",
       "0    August 14, 2020          2020  TV-MA  4 Seasons  \\\n",
       "1  December 23, 2016          2016  TV-MA     93 min   \n",
       "\n",
       "                                           listed_in   \n",
       "0  International TV Shows, TV Dramas, TV Sci-Fi &...  \\\n",
       "1                       Dramas, International Movies   \n",
       "\n",
       "                                         description  \n",
       "0  In a future where the elite inhabit an island ...  \n",
       "1  After a devastating earthquake hits Mexico Cit...  "
      ]
     },
     "metadata": {},
     "output_type": "display_data"
    },
    {
     "name": "stdout",
     "output_type": "stream",
     "text": [
      "2\n"
     ]
    }
   ],
   "source": [
    "import pandas as pd\n",
    "import numpy as np\n",
    "import warnings\n",
    "warnings.filterwarnings(action='ignore')\n",
    "\n",
    "netflix = pd.read_csv('./평가/netflix_titles.csv')\n",
    "print(netflix.shape)\n",
    "display(netflix.head(2))\n",
    "\n",
    "print(len(netflix['type'].unique()))"
   ]
  },
  {
   "attachments": {},
   "cell_type": "markdown",
   "id": "6d7c2520",
   "metadata": {},
   "source": [
    "# 주요 데이터 시각화"
   ]
  },
  {
   "attachments": {},
   "cell_type": "markdown",
   "id": "f0ff083a",
   "metadata": {},
   "source": [
    "## TV Show vs Movies (콘텐츠 타입) 막대 그래프"
   ]
  },
  {
   "cell_type": "code",
   "execution_count": 101,
   "id": "a2fcc143",
   "metadata": {
    "scrolled": true
   },
   "outputs": [
    {
     "name": "stderr",
     "output_type": "stream",
     "text": [
      "No artists with labels found to put in legend.  Note that artists whose label start with an underscore are ignored when legend() is called with no argument.\n"
     ]
    },
    {
     "data": {
      "image/png": "[encoded data removed]",
      "text/plain": [
       "<Figure size 640x480 with 1 Axes>"
      ]
     },
     "metadata": {},
     "output_type": "display_data"
    }
   ],
   "source": [
    "import numpy as np\n",
    "import pandas as pd\n",
    "import matplotlib.pyplot as plt\n",
    "import matplotlib\n",
    "\n",
    "matplotlib.rcParams['font.family'] = 'D2Coding ligature'\n",
    "matplotlib.rcParams['font.size'] = 12\n",
    "matplotlib.rcParams['axes.unicode_minus'] = False\n",
    "\n",
    "plt.style.use('default')\n",
    "\n",
    "labels = ['TV Show','Movie']\n",
    "x = np.arange(len(netflix['type'].unique()))\n",
    "y = netflix['type'].count()\n",
    "\n",
    "plt.bar([labels[0],labels[1]],y,color='b') \n",
    "plt.xlabel('type')\n",
    "plt.ylabel('count')\n",
    "plt.xticks(x,labels)\n",
    "# plt.yticks(0,6000,1000)\n",
    "plt.legend()\n",
    "plt.show()"
   ]
  },
  {
   "attachments": {},
   "cell_type": "markdown",
   "id": "142daff0",
   "metadata": {},
   "source": [
    "## 제작 국가별 수평 막대 그래프\n",
    "- 결측 값 확인 및 결측 값을 포함한 레코드 삭제\n",
    "- 2개 이상의 제작국가 값을 가지고 있는 레코드는 ‘,’를 기준으로 분류하여 카운팅 한다.\n",
    "- 상위 10개국에 대한 막대그래프를 그린다."
   ]
  },
  {
   "cell_type": "code",
   "execution_count": 102,
   "id": "41de6b52",
   "metadata": {
    "scrolled": false
   },
   "outputs": [
    {
     "name": "stdout",
     "output_type": "stream",
     "text": [
      "없니? Empty DataFrame\n",
      "Columns: [show_id, type, title, director, cast, country, date_added, release_year, rating, duration, listed_in, description]\n",
      "Index: []\n"
     ]
    },
    {
     "data": {
      "text/plain": [
       "show_id         0\n",
       "type            0\n",
       "title           0\n",
       "director        0\n",
       "cast            0\n",
       "country         0\n",
       "date_added      0\n",
       "release_year    0\n",
       "rating          0\n",
       "duration        0\n",
       "listed_in       0\n",
       "description     0\n",
       "dtype: int64"
      ]
     },
     "execution_count": 102,
     "metadata": {},
     "output_type": "execute_result"
    }
   ],
   "source": [
    "#- 결측 값 확인 및 결측 값을 포함한 레코드 삭제\n",
    "netflix = netflix.dropna()\n",
    "print(\"없니?\",netflix[netflix['country'].isna()])\n",
    "netflix.head()\n",
    "\n",
    "checked_netflix = netflix.isna().sum()\n",
    "checked_netflix"
   ]
  },
  {
   "cell_type": "code",
   "execution_count": 103,
   "id": "327c77c5",
   "metadata": {},
   "outputs": [
    {
     "name": "stdout",
     "output_type": "stream",
     "text": [
      "1                                                [Mexico]\n",
      "2                                             [Singapore]\n",
      "3                                         [United States]\n",
      "4                                         [United States]\n",
      "5                                                [Turkey]\n",
      "                              ...                        \n",
      "7778                                      [United States]\n",
      "7780                                              [India]\n",
      "7781                                      [United States]\n",
      "7782    [Sweden,  Czech Republic,  United Kingdom,  De...\n",
      "7783                                              [India]\n",
      "Name: country, Length: 4808, dtype: object\n",
      "country\n",
      "[United States]                                                       1653\n",
      "[India]                                                                832\n",
      "[United Kingdom]                                                       174\n",
      "[Canada]                                                               104\n",
      "[Egypt]                                                                 87\n",
      "                                                                      ... \n",
      "[United Kingdom,  Canada,  United States,  Cayman Islands]               1\n",
      "[Netherlands,  Belgium]                                                  1\n",
      "[United Kingdom,  Denmark,  Canada,  Croatia]                            1\n",
      "[Thailand,  United States]                                               1\n",
      "[Sweden,  Czech Republic,  United Kingdom,  Denmark,  Netherlands]       1\n",
      "Name: count, Length: 544, dtype: int64\n"
     ]
    }
   ],
   "source": [
    "# - 2개 이상의 제작국가 값을 가지고 있는 레코드는 ‘,’를 기준으로 분류하여 카운팅 한다.\n",
    "netflix['country'] = netflix['country'].apply(lambda x : x.split(','))\n",
    "print(netflix['country'])\n",
    "print(netflix['country'].value_counts())"
   ]
  },
  {
   "cell_type": "code",
   "execution_count": 110,
   "id": "f5502c87",
   "metadata": {},
   "outputs": [
    {
     "data": {
      "text/html": [
       "<div>\n",
       "<style scoped>\n",
       "    .dataframe tbody tr th:only-of-type {\n",
       "        vertical-align: middle;\n",
       "    }\n",
       "\n",
       "    .dataframe tbody tr th {\n",
       "        vertical-align: top;\n",
       "    }\n",
       "\n",
       "    .dataframe thead th {\n",
       "        text-align: right;\n",
       "    }\n",
       "</style>\n",
       "<table border=\"1\" class=\"dataframe\">\n",
       "  <thead>\n",
       "    <tr style=\"text-align: right;\">\n",
       "      <th></th>\n",
       "      <th>show_id</th>\n",
       "      <th>type</th>\n",
       "      <th>title</th>\n",
       "      <th>director</th>\n",
       "      <th>cast</th>\n",
       "      <th>country</th>\n",
       "      <th>date_added</th>\n",
       "      <th>release_year</th>\n",
       "      <th>rating</th>\n",
       "      <th>duration</th>\n",
       "      <th>listed_in</th>\n",
       "      <th>description</th>\n",
       "    </tr>\n",
       "  </thead>\n",
       "  <tbody>\n",
       "    <tr>\n",
       "      <th>1493</th>\n",
       "      <td>s1494</td>\n",
       "      <td>Movie</td>\n",
       "      <td>Cook Off</td>\n",
       "      <td>Tomas Brickhill</td>\n",
       "      <td>Tendaiishe Chitima, Tendai Nguni, Jesese Mungo...</td>\n",
       "      <td>[Zimbabwe]</td>\n",
       "      <td>June 1, 2020</td>\n",
       "      <td>2017</td>\n",
       "      <td>TV-G</td>\n",
       "      <td>100 min</td>\n",
       "      <td>Comedies, International Movies, Romantic Movies</td>\n",
       "      <td>Yearning for a better life, a single mother wi...</td>\n",
       "    </tr>\n",
       "    <tr>\n",
       "      <th>2318</th>\n",
       "      <td>s2319</td>\n",
       "      <td>Movie</td>\n",
       "      <td>Furie</td>\n",
       "      <td>Le Van Kiet</td>\n",
       "      <td>Ngo Thanh Van, Phan Thanh Nhien, Mai Cat Vi, T...</td>\n",
       "      <td>[Vietnam]</td>\n",
       "      <td>September 25, 2019</td>\n",
       "      <td>2019</td>\n",
       "      <td>TV-MA</td>\n",
       "      <td>97 min</td>\n",
       "      <td>Action &amp; Adventure, Dramas, International Movies</td>\n",
       "      <td>When traffickers kidnap her daughter from thei...</td>\n",
       "    </tr>\n",
       "    <tr>\n",
       "      <th>3105</th>\n",
       "      <td>s3106</td>\n",
       "      <td>Movie</td>\n",
       "      <td>Jackpot</td>\n",
       "      <td>Dustin Nguyen</td>\n",
       "      <td>Chi Tai, Lan Ngoc, Dustin Nguyen, Thu Trang</td>\n",
       "      <td>[Vietnam]</td>\n",
       "      <td>October 6, 2018</td>\n",
       "      <td>2015</td>\n",
       "      <td>TV-14</td>\n",
       "      <td>92 min</td>\n",
       "      <td>Comedies, Dramas, International Movies</td>\n",
       "      <td>A lottery ticket salesperson faces an ethical ...</td>\n",
       "    </tr>\n",
       "    <tr>\n",
       "      <th>5654</th>\n",
       "      <td>s5655</td>\n",
       "      <td>Movie</td>\n",
       "      <td>Sky Tour: The Movie</td>\n",
       "      <td>Nguyen Thanh Tung</td>\n",
       "      <td>Son Tung M-TP</td>\n",
       "      <td>[Vietnam]</td>\n",
       "      <td>September 2, 2020</td>\n",
       "      <td>2020</td>\n",
       "      <td>TV-G</td>\n",
       "      <td>93 min</td>\n",
       "      <td>Documentaries, International Movies, Music &amp; M...</td>\n",
       "      <td>From the preparations to the performances, thi...</td>\n",
       "    </tr>\n",
       "    <tr>\n",
       "      <th>1482</th>\n",
       "      <td>s1483</td>\n",
       "      <td>Movie</td>\n",
       "      <td>Conjuring Spirit</td>\n",
       "      <td>Van M. Pham</td>\n",
       "      <td>Phuong Mai, Quang Su, Hoang Phuc Nguyen, Chi P...</td>\n",
       "      <td>[Vietnam]</td>\n",
       "      <td>August 28, 2018</td>\n",
       "      <td>2014</td>\n",
       "      <td>TV-MA</td>\n",
       "      <td>112 min</td>\n",
       "      <td>Horror Movies, International Movies, Thrillers</td>\n",
       "      <td>In the wake of her husband's betrayal, a novel...</td>\n",
       "    </tr>\n",
       "    <tr>\n",
       "      <th>939</th>\n",
       "      <td>s940</td>\n",
       "      <td>Movie</td>\n",
       "      <td>Bitcoin Heist</td>\n",
       "      <td>Ham Tran</td>\n",
       "      <td>Kate Nhung, Thanh Pham, Petey Majik Nguyen, Su...</td>\n",
       "      <td>[Vietnam]</td>\n",
       "      <td>September 2, 2017</td>\n",
       "      <td>2016</td>\n",
       "      <td>TV-14</td>\n",
       "      <td>116 min</td>\n",
       "      <td>Action &amp; Adventure, Comedies, International Mo...</td>\n",
       "      <td>A unconventional, efficient Interpol special a...</td>\n",
       "    </tr>\n",
       "    <tr>\n",
       "      <th>1950</th>\n",
       "      <td>s1951</td>\n",
       "      <td>Movie</td>\n",
       "      <td>El Che</td>\n",
       "      <td>Matías Gueilburt</td>\n",
       "      <td>Paco Ignacio Taibo II</td>\n",
       "      <td>[Venezuela]</td>\n",
       "      <td>October 15, 2017</td>\n",
       "      <td>2017</td>\n",
       "      <td>TV-14</td>\n",
       "      <td>119 min</td>\n",
       "      <td>Documentaries, International Movies</td>\n",
       "      <td>Spanish-Mexican writer Paco Ignacio Taibo II h...</td>\n",
       "    </tr>\n",
       "    <tr>\n",
       "      <th>826</th>\n",
       "      <td>s827</td>\n",
       "      <td>Movie</td>\n",
       "      <td>Belmonte</td>\n",
       "      <td>Federico Veiroj</td>\n",
       "      <td>Gonzalo Delgado, Olivia Molinaro Eijo, Jeannet...</td>\n",
       "      <td>[Uruguay,  Spain,  Mexico]</td>\n",
       "      <td>June 7, 2019</td>\n",
       "      <td>2018</td>\n",
       "      <td>TV-MA</td>\n",
       "      <td>74 min</td>\n",
       "      <td>Dramas, Independent Movies, International Movies</td>\n",
       "      <td>An artist muddles through a midlife crisis whi...</td>\n",
       "    </tr>\n",
       "    <tr>\n",
       "      <th>2546</th>\n",
       "      <td>s2547</td>\n",
       "      <td>Movie</td>\n",
       "      <td>Guatemala: Heart of the Mayan World</td>\n",
       "      <td>Luis Ara, Ignacio Jaunsolo</td>\n",
       "      <td>Christian Morales</td>\n",
       "      <td>[Uruguay,  Guatemala]</td>\n",
       "      <td>November 30, 2019</td>\n",
       "      <td>2019</td>\n",
       "      <td>TV-G</td>\n",
       "      <td>67 min</td>\n",
       "      <td>Documentaries, International Movies</td>\n",
       "      <td>From Sierra de las Minas to Esquipulas, explor...</td>\n",
       "    </tr>\n",
       "    <tr>\n",
       "      <th>245</th>\n",
       "      <td>s246</td>\n",
       "      <td>Movie</td>\n",
       "      <td>A Twelve Year Night</td>\n",
       "      <td>Álvaro Brechner</td>\n",
       "      <td>Antonio de la Torre, Chino Darín, Alfonso Tort...</td>\n",
       "      <td>[Uruguay,  Argentina,  Spain]</td>\n",
       "      <td>December 28, 2018</td>\n",
       "      <td>2018</td>\n",
       "      <td>TV-MA</td>\n",
       "      <td>122 min</td>\n",
       "      <td>Dramas, International Movies</td>\n",
       "      <td>Future Uruguayan president José Mujica and his...</td>\n",
       "    </tr>\n",
       "  </tbody>\n",
       "</table>\n",
       "</div>"
      ],
      "text/plain": [
       "     show_id   type                                title   \n",
       "1493   s1494  Movie                             Cook Off  \\\n",
       "2318   s2319  Movie                                Furie   \n",
       "3105   s3106  Movie                              Jackpot   \n",
       "5654   s5655  Movie                  Sky Tour: The Movie   \n",
       "1482   s1483  Movie                     Conjuring Spirit   \n",
       "939     s940  Movie                        Bitcoin Heist   \n",
       "1950   s1951  Movie                               El Che   \n",
       "826     s827  Movie                             Belmonte   \n",
       "2546   s2547  Movie  Guatemala: Heart of the Mayan World   \n",
       "245     s246  Movie                  A Twelve Year Night   \n",
       "\n",
       "                        director   \n",
       "1493             Tomas Brickhill  \\\n",
       "2318                 Le Van Kiet   \n",
       "3105               Dustin Nguyen   \n",
       "5654           Nguyen Thanh Tung   \n",
       "1482                 Van M. Pham   \n",
       "939                     Ham Tran   \n",
       "1950            Matías Gueilburt   \n",
       "826              Federico Veiroj   \n",
       "2546  Luis Ara, Ignacio Jaunsolo   \n",
       "245              Álvaro Brechner   \n",
       "\n",
       "                                                   cast   \n",
       "1493  Tendaiishe Chitima, Tendai Nguni, Jesese Mungo...  \\\n",
       "2318  Ngo Thanh Van, Phan Thanh Nhien, Mai Cat Vi, T...   \n",
       "3105        Chi Tai, Lan Ngoc, Dustin Nguyen, Thu Trang   \n",
       "5654                                      Son Tung M-TP   \n",
       "1482  Phuong Mai, Quang Su, Hoang Phuc Nguyen, Chi P...   \n",
       "939   Kate Nhung, Thanh Pham, Petey Majik Nguyen, Su...   \n",
       "1950                              Paco Ignacio Taibo II   \n",
       "826   Gonzalo Delgado, Olivia Molinaro Eijo, Jeannet...   \n",
       "2546                                  Christian Morales   \n",
       "245   Antonio de la Torre, Chino Darín, Alfonso Tort...   \n",
       "\n",
       "                            country          date_added  release_year rating   \n",
       "1493                     [Zimbabwe]        June 1, 2020          2017   TV-G  \\\n",
       "2318                      [Vietnam]  September 25, 2019          2019  TV-MA   \n",
       "3105                      [Vietnam]     October 6, 2018          2015  TV-14   \n",
       "5654                      [Vietnam]   September 2, 2020          2020   TV-G   \n",
       "1482                      [Vietnam]     August 28, 2018          2014  TV-MA   \n",
       "939                       [Vietnam]   September 2, 2017          2016  TV-14   \n",
       "1950                    [Venezuela]    October 15, 2017          2017  TV-14   \n",
       "826      [Uruguay,  Spain,  Mexico]        June 7, 2019          2018  TV-MA   \n",
       "2546          [Uruguay,  Guatemala]   November 30, 2019          2019   TV-G   \n",
       "245   [Uruguay,  Argentina,  Spain]   December 28, 2018          2018  TV-MA   \n",
       "\n",
       "     duration                                          listed_in   \n",
       "1493  100 min    Comedies, International Movies, Romantic Movies  \\\n",
       "2318   97 min   Action & Adventure, Dramas, International Movies   \n",
       "3105   92 min             Comedies, Dramas, International Movies   \n",
       "5654   93 min  Documentaries, International Movies, Music & M...   \n",
       "1482  112 min     Horror Movies, International Movies, Thrillers   \n",
       "939   116 min  Action & Adventure, Comedies, International Mo...   \n",
       "1950  119 min                Documentaries, International Movies   \n",
       "826    74 min   Dramas, Independent Movies, International Movies   \n",
       "2546   67 min                Documentaries, International Movies   \n",
       "245   122 min                       Dramas, International Movies   \n",
       "\n",
       "                                            description  \n",
       "1493  Yearning for a better life, a single mother wi...  \n",
       "2318  When traffickers kidnap her daughter from thei...  \n",
       "3105  A lottery ticket salesperson faces an ethical ...  \n",
       "5654  From the preparations to the performances, thi...  \n",
       "1482  In the wake of her husband's betrayal, a novel...  \n",
       "939   A unconventional, efficient Interpol special a...  \n",
       "1950  Spanish-Mexican writer Paco Ignacio Taibo II h...  \n",
       "826   An artist muddles through a midlife crisis whi...  \n",
       "2546  From Sierra de las Minas to Esquipulas, explor...  \n",
       "245   Future Uruguayan president José Mujica and his...  "
      ]
     },
     "execution_count": 110,
     "metadata": {},
     "output_type": "execute_result"
    }
   ],
   "source": [
    "# - 상위 10개국에 대한 막대그래프를 그린다.\n",
    "top_10 = netflix.sort_values('country',ascending=False).head(10)\n",
    "top_10"
   ]
  },
  {
   "cell_type": "code",
   "execution_count": 123,
   "id": "2e0c93d9",
   "metadata": {},
   "outputs": [
    {
     "name": "stderr",
     "output_type": "stream",
     "text": [
      "No artists with labels found to put in legend.  Note that artists whose label start with an underscore are ignored when legend() is called with no argument.\n"
     ]
    },
    {
     "data": {
      "image/png": "[encoded data removed]",
      "text/plain": [
       "<Figure size 640x480 with 1 Axes>"
      ]
     },
     "metadata": {},
     "output_type": "display_data"
    }
   ],
   "source": [
    "\n",
    "y = np.arange(len(top_10))\n",
    "x = top_10['country'].count()\n",
    "y_label = top_10['country']\n",
    "x_label = top_10['country'].count()\n",
    "\n",
    "\n",
    "plt.barh(x, y, edgecolor='white')\n",
    "plt.yticks(y,y_label)\n",
    "# plt.xticks(x,x_label) \n",
    "plt.xlabel('Count')\n",
    "plt.ylabel('Country')\n",
    "plt.legend()\n",
    "plt.show()"
   ]
  },
  {
   "attachments": {},
   "cell_type": "markdown",
   "id": "618c8fe1",
   "metadata": {},
   "source": [
    "# 제목, 장르, 요약내용 특성 값을 기반으로 한 콘텐츠 기반 필터링 추천"
   ]
  },
  {
   "attachments": {},
   "cell_type": "markdown",
   "id": "61336c16",
   "metadata": {},
   "source": [
    "## 데이터 전처리"
   ]
  },
  {
   "attachments": {},
   "cell_type": "markdown",
   "id": "d63ba2dc",
   "metadata": {},
   "source": [
    "### 추천 알고리즘 분석과 관련한 컬럼만 추출\n",
    "- 추출 대상 컬럼: 'show_id', 'title', 'listed_in', 'description'    "
   ]
  },
  {
   "cell_type": "code",
   "execution_count": 125,
   "id": "a0747ba0",
   "metadata": {},
   "outputs": [
    {
     "data": {
      "text/html": [
       "<div>\n",
       "<style scoped>\n",
       "    .dataframe tbody tr th:only-of-type {\n",
       "        vertical-align: middle;\n",
       "    }\n",
       "\n",
       "    .dataframe tbody tr th {\n",
       "        vertical-align: top;\n",
       "    }\n",
       "\n",
       "    .dataframe thead th {\n",
       "        text-align: right;\n",
       "    }\n",
       "</style>\n",
       "<table border=\"1\" class=\"dataframe\">\n",
       "  <thead>\n",
       "    <tr style=\"text-align: right;\">\n",
       "      <th></th>\n",
       "      <th>show_id</th>\n",
       "      <th>title</th>\n",
       "      <th>listed_in</th>\n",
       "      <th>description</th>\n",
       "    </tr>\n",
       "  </thead>\n",
       "  <tbody>\n",
       "    <tr>\n",
       "      <th>1</th>\n",
       "      <td>s2</td>\n",
       "      <td>7:19</td>\n",
       "      <td>Dramas, International Movies</td>\n",
       "      <td>After a devastating earthquake hits Mexico Cit...</td>\n",
       "    </tr>\n",
       "    <tr>\n",
       "      <th>2</th>\n",
       "      <td>s3</td>\n",
       "      <td>23:59</td>\n",
       "      <td>Horror Movies, International Movies</td>\n",
       "      <td>When an army recruit is found dead, his fellow...</td>\n",
       "    </tr>\n",
       "    <tr>\n",
       "      <th>3</th>\n",
       "      <td>s4</td>\n",
       "      <td>9</td>\n",
       "      <td>Action &amp; Adventure, Independent Movies, Sci-Fi...</td>\n",
       "      <td>In a postapocalyptic world, rag-doll robots hi...</td>\n",
       "    </tr>\n",
       "    <tr>\n",
       "      <th>4</th>\n",
       "      <td>s5</td>\n",
       "      <td>21</td>\n",
       "      <td>Dramas</td>\n",
       "      <td>A brilliant group of students become card-coun...</td>\n",
       "    </tr>\n",
       "    <tr>\n",
       "      <th>5</th>\n",
       "      <td>s6</td>\n",
       "      <td>46</td>\n",
       "      <td>International TV Shows, TV Dramas, TV Mysteries</td>\n",
       "      <td>A genetics professor experiments with a treatm...</td>\n",
       "    </tr>\n",
       "    <tr>\n",
       "      <th>...</th>\n",
       "      <td>...</td>\n",
       "      <td>...</td>\n",
       "      <td>...</td>\n",
       "      <td>...</td>\n",
       "    </tr>\n",
       "    <tr>\n",
       "      <th>7778</th>\n",
       "      <td>s7779</td>\n",
       "      <td>Zombieland</td>\n",
       "      <td>Comedies, Horror Movies</td>\n",
       "      <td>Looking to survive in a world taken over by zo...</td>\n",
       "    </tr>\n",
       "    <tr>\n",
       "      <th>7780</th>\n",
       "      <td>s7781</td>\n",
       "      <td>Zoo</td>\n",
       "      <td>Dramas, Independent Movies, International Movies</td>\n",
       "      <td>A drug dealer starts having doubts about his t...</td>\n",
       "    </tr>\n",
       "    <tr>\n",
       "      <th>7781</th>\n",
       "      <td>s7782</td>\n",
       "      <td>Zoom</td>\n",
       "      <td>Children &amp; Family Movies, Comedies</td>\n",
       "      <td>Dragged from civilian life, a former superhero...</td>\n",
       "    </tr>\n",
       "    <tr>\n",
       "      <th>7782</th>\n",
       "      <td>s7783</td>\n",
       "      <td>Zozo</td>\n",
       "      <td>Dramas, International Movies</td>\n",
       "      <td>When Lebanon's Civil War deprives Zozo of his ...</td>\n",
       "    </tr>\n",
       "    <tr>\n",
       "      <th>7783</th>\n",
       "      <td>s7784</td>\n",
       "      <td>Zubaan</td>\n",
       "      <td>Dramas, International Movies, Music &amp; Musicals</td>\n",
       "      <td>A scrappy but poor boy worms his way into a ty...</td>\n",
       "    </tr>\n",
       "  </tbody>\n",
       "</table>\n",
       "<p>4808 rows × 4 columns</p>\n",
       "</div>"
      ],
      "text/plain": [
       "     show_id       title                                          listed_in   \n",
       "1         s2        7:19                       Dramas, International Movies  \\\n",
       "2         s3       23:59                Horror Movies, International Movies   \n",
       "3         s4           9  Action & Adventure, Independent Movies, Sci-Fi...   \n",
       "4         s5          21                                             Dramas   \n",
       "5         s6          46    International TV Shows, TV Dramas, TV Mysteries   \n",
       "...      ...         ...                                                ...   \n",
       "7778   s7779  Zombieland                            Comedies, Horror Movies   \n",
       "7780   s7781         Zoo   Dramas, Independent Movies, International Movies   \n",
       "7781   s7782        Zoom                 Children & Family Movies, Comedies   \n",
       "7782   s7783        Zozo                       Dramas, International Movies   \n",
       "7783   s7784      Zubaan     Dramas, International Movies, Music & Musicals   \n",
       "\n",
       "                                            description  \n",
       "1     After a devastating earthquake hits Mexico Cit...  \n",
       "2     When an army recruit is found dead, his fellow...  \n",
       "3     In a postapocalyptic world, rag-doll robots hi...  \n",
       "4     A brilliant group of students become card-coun...  \n",
       "5     A genetics professor experiments with a treatm...  \n",
       "...                                                 ...  \n",
       "7778  Looking to survive in a world taken over by zo...  \n",
       "7780  A drug dealer starts having doubts about his t...  \n",
       "7781  Dragged from civilian life, a former superhero...  \n",
       "7782  When Lebanon's Civil War deprives Zozo of his ...  \n",
       "7783  A scrappy but poor boy worms his way into a ty...  \n",
       "\n",
       "[4808 rows x 4 columns]"
      ]
     },
     "execution_count": 125,
     "metadata": {},
     "output_type": "execute_result"
    }
   ],
   "source": [
    "netflix_df = netflix[['show_id','title','listed_in','description']]\n",
    "netflix_df"
   ]
  },
  {
   "attachments": {},
   "cell_type": "markdown",
   "id": "24423a25",
   "metadata": {},
   "source": [
    "### DTM(Document Term Matrix) 생성\n",
    "- title, listed_in, description 컬럼에 대해 피쳐 카운터 백터를 생성한다.\n",
    "    - CounterVectorizer 또는 TfidfVectorizer 클래스를 이용한다.\n",
    "    - nltk 라이브러리의 stopwords 패키지와 string 패키지의 punctuation을 합쳐 불용어 목록을 만들어 구두점 및 불용어를 제거한다.\n",
    "    - title, listed_in, description 각 컬럼의 피처 벡터화한 결과를 **matrix_netflix_vocab = []** 리스트에 저장한다."
   ]
  },
  {
   "cell_type": "code",
   "execution_count": 126,
   "id": "ed4b9777",
   "metadata": {},
   "outputs": [
    {
     "data": {
      "text/plain": [
       "'!\"#$%&\\'()*+,-./:;<=>?@[\\\\]^_`{|}~'"
      ]
     },
     "execution_count": 126,
     "metadata": {},
     "output_type": "execute_result"
    }
   ],
   "source": [
    "import string\n",
    "string.punctuation"
   ]
  },
  {
   "cell_type": "code",
   "execution_count": 134,
   "id": "f4f117b7",
   "metadata": {},
   "outputs": [],
   "source": [
    "from sklearn.feature_extraction.text import CountVectorizer\n",
    "\n",
    "title_vect = CountVectorizer(min_df=0, ngram_range=(1,1))\n",
    "title_mat = title_vect.fit_transform(netflix['title'])\n",
    "listed_in_vect = CountVectorizer(min_df=0, ngram_range=(1,1))\n",
    "listed_in_mat = listed_in_vect.fit_transform(netflix['listed_in'])\n",
    "description_vect = CountVectorizer(min_df=0, ngram_range=(1,1))\n",
    "description_mat = description_vect.fit_transform(netflix['description'])"
   ]
  },
  {
   "attachments": {},
   "cell_type": "markdown",
   "id": "56195460",
   "metadata": {},
   "source": [
    "# 콘텐츠 유사도 측정"
   ]
  },
  {
   "attachments": {},
   "cell_type": "markdown",
   "id": "60df53ad",
   "metadata": {},
   "source": [
    "- title, listed_in, description 각 컬럼에 대해 피처 백터화 한 값을 이용하여 각각의 코사인 유사도를 산출하여 **matrix_netflix_sim = []** 리스트에 저장한다."
   ]
  },
  {
   "cell_type": "code",
   "execution_count": 138,
   "id": "4dac31e8",
   "metadata": {},
   "outputs": [],
   "source": [
    "from sklearn.metrics.pairwise import cosine_similarity\n",
    "\n",
    "title_sim = cosine_similarity(title_mat, title_mat).argsort()[:, ::-1]\n",
    "listed_in_sim = cosine_similarity(listed_in_mat, listed_in_mat).argsort()[:, ::-1]\n",
    "description_sim = cosine_similarity(description_mat, description_mat).argsort()[:, ::-1]\n",
    "\n",
    "matrix_netflix_sim = [title_sim,listed_in_sim,description_sim]"
   ]
  },
  {
   "attachments": {},
   "cell_type": "markdown",
   "id": "621230d4",
   "metadata": {},
   "source": [
    "- title, listed_in, description에 대해 각각 유사도가 높은 순으로 정렬한 콘텐츠의 인덱스를 **netflix_sim_sorted_ind = []** 리스트에 저장한다."
   ]
  },
  {
   "cell_type": "code",
   "execution_count": 140,
   "id": "491546db",
   "metadata": {},
   "outputs": [
    {
     "name": "stdout",
     "output_type": "stream",
     "text": [
      "[[   0 2054 1596 ... 3207 3208 2403]\n",
      " [   1 1980 4807 ... 3207 3208    0]\n",
      " [4807 1596 1598 ... 3207 3208    0]\n",
      " ...\n",
      " [   7 4807 1605 ... 3207 3208    0]\n",
      " [   8 1605 1598 ... 3207 3208    0]\n",
      " [   9 4807 1598 ... 3207 3208    0]]\n"
     ]
    }
   ],
   "source": [
    "netflix_sim_sorted_ind =matrix_netflix_sim\n",
    "print(matrix_netflix_sim[0][:10])"
   ]
  },
  {
   "attachments": {},
   "cell_type": "markdown",
   "id": "9c62bdd6",
   "metadata": {},
   "source": [
    "# 유사도 필터링을 이용한 넷플릭스 콘텐츠 추천"
   ]
  },
  {
   "cell_type": "code",
   "execution_count": 154,
   "id": "29518b1c",
   "metadata": {},
   "outputs": [],
   "source": [
    "# 완성된 함수가 아니며, 위 마크다운 셀의 내용을 참고하여 함수 안의 코드를 완성한다.\n",
    "\n",
    "def find_sim_netflix(df, sorted_ind_list, title_name, top_n=10):\n",
    "    target_netflix = df[df['title'] == title_name]\n",
    "    title_index = target_netflix.index.values\n",
    "    \n",
    "     # 각 컬럼별 유사도 순으로 top_n 개의 index를 추출한 행렬을 저장할 리스트\n",
    "    similar_indexes_list = []\n",
    "    \n",
    "    for sorted_ind_list in sorted_ind_list:\n",
    "        similar_indexes = sorted_ind_list[title_index, :top_n]\n",
    "        similar_indexes = similar_indexes.reshape(-1)\n",
    "        similar_indexes_list.append(similar_indexes)\n",
    "        \n",
    "    # 데이터 프레임의 인덱스 값으로 사용하기 위해 1차원 데이터로 변환한다.\n",
    "    return df.iloc[np.array(similar_indexes_list).flatten()]"
   ]
  },
  {
   "cell_type": "code",
   "execution_count": 155,
   "id": "70217d19",
   "metadata": {},
   "outputs": [],
   "source": [
    "# '응답하라 1988' 과 제목, 장르, 줄거리가 유사한 콘텐츠를 각각 10개씩 추천\n",
    "similar_netflix = find_sim_netflix(netflix_df, netflix_sim_sorted_ind, '응답하지마 1988',10)"
   ]
  },
  {
   "cell_type": "code",
   "execution_count": 146,
   "id": "d4cf5a3e",
   "metadata": {},
   "outputs": [],
   "source": [
    "similar_netflix[['title']]"
   ]
  }
 ],
 "metadata": {
  "kernelspec": {
   "display_name": "Python 3",
   "language": "python",
   "name": "python3"
  },
  "language_info": {
   "codemirror_mode": {
    "name": "ipython",
    "version": 3
   },
   "file_extension": ".py",
   "mimetype": "text/x-python",
   "name": "python",
   "nbconvert_exporter": "python",
   "pygments_lexer": "ipython3",
   "version": "3.11.3"
  },
  "toc": {
   "base_numbering": 1,
   "nav_menu": {},
   "number_sections": true,
   "sideBar": true,
   "skip_h1_title": false,
   "title_cell": "Table of Contents",
   "title_sidebar": "Contents",
   "toc_cell": false,
   "toc_position": {},
   "toc_section_display": true,
   "toc_window_display": true
  }
 },
 "nbformat": 4,
 "nbformat_minor": 5
}
