{
 "cells": [
  {
   "attachments": {},
   "cell_type": "markdown",
   "metadata": {},
   "source": [
    "# 선형대수 "
   ]
  },
  {
   "attachments": {},
   "cell_type": "markdown",
   "metadata": {},
   "source": [
    "### 벡터\n",
    "- 데이터 여러개를 한 줄에 담아낼 수 있게 만든것\n",
    "- 벡터에는 행벡터와 열벡터 두 종류가 있다.\n",
    "- 서로 대응하는 성분끼리 덧셈과 뺄셈을 한다.\n",
    "- 벡터의 모든 성분에 같은 수를 곱하는 것을 스칼라배라고 한다\n",
    "- 서로 다른 차원의 벡터끼리는 덧셈과 뺄셈을 할 수 없다"
   ]
  },
  {
   "attachments": {},
   "cell_type": "markdown",
   "metadata": {},
   "source": [
    "### 유향선분\n",
    "- 화살표 관점에서 벡터는 크기와 방향을 갖는 양이다.\n",
    "- 이러한 벡터에 대해 방향과 거리를 나타내는 화살표를 `유향선분`이라고 한다."
   ]
  },
  {
   "attachments": {},
   "cell_type": "markdown",
   "metadata": {},
   "source": [
    "### 내적\n",
    "- 벡터에서 서로 대응하는 성분끼리 곱한 다음, 그것들을 모두 더한 것이 내적이다.\n",
    "- 벡터와 벡터의 내적은 수 즉, 스칼라가 된다.\n",
    "- 서로 다른 차원의 벡터끼리는 계산을 할 수 없다.\n",
    "- 내적을 정의할 때는 기하학적인 특징으로 정의할 수도 있는데, 벡터a와 b가 이루는 가이 0일때 <a, b>는 다음과 같이 정의할 수 있다.\n",
    "  - ex) <a,b> = ||a||||b|| cos 0\n",
    "- 여기서 0는 두개의 벡터 a와 b의 시작점을 일치시켰을 때 생기는 벡터와 벡터 사이의 각을 말하고, ||a||는 벡터 a의 길이 즉, 유클리드 거리를 의미한다.\n",
    "\n",
    "a,b는 각각 a = {2,1}과 b= {1,3}과 0 = 45도 일때\n",
    "<a, b> = (2 * 1) + ( 1 + 3 ) = 5\n",
    "<a, b> = ||a|| ||b|| cos45도 = (루트5) * (루트10) * (루트2/2) = 5 \n",
    "\n",
    "- 벡터 a, b가 서로 직교할 때 다음 식이 성립한다.\n",
    "  - <a, b> = 0\n",
    "  - ex) a = (2,1)과 b = (-1,2)의 내적을 구해보면 <a, b> = 2 * (-1) + (-1) * 2 = 0"
   ]
  },
  {
   "attachments": {},
   "cell_type": "markdown",
   "metadata": {},
   "source": [
    "### 벡터의 노름\n",
    "- 벡터를 기하학적으로 시각화하여 방향과 거리를 가진 화살표로 그렸을 때 벡터의 이동 거리를 노름(`norm`)이라고 한다.\n",
    "- L1 노름은 벡터 성분의 절대값을 모두 더하면 구할 수 있다.\n",
    "- L1 노름은 맨해튼 거리라고도 부른다.\n",
    "- L2 노름은 벡터의 유클리드 거리로 구할 수 있다."
   ]
  },
  {
   "attachments": {},
   "cell_type": "markdown",
   "metadata": {},
   "source": [
    "### 코사인 유사도"
   ]
  },
  {
   "attachments": {},
   "cell_type": "markdown",
   "metadata": {},
   "source": [
    "- 유사도 값은 -1 <= cos<a,b> <= ~ 1 구간의 값을 갖는다\n",
    "- 벡터와 벡터 사이의 cos0 항을 코사인 유사도(cosine similarity)라 하고 cos<a,b>로 표현한다.\n",
    "- 코사인 유사도가 높다는 말은 벡터가 비슷하다는 의미이다.\n",
    "\n",
    "  - 인공지능이 텍스트를 분석할 때는 내부 적으로 단어나 문장을 벡터로 처리한다.\n",
    "  - 코사인 유사도 계산:\n",
    "cosine_similarity = (a · b) / (||a|| * ||b||) = 28 / (3.7417 * 8.7749) ≈ 0.8321"
   ]
  },
  {
   "attachments": {},
   "cell_type": "markdown",
   "metadata": {},
   "source": [
    "### 행렬의 덧셈과 뺄셈\n",
    "- 행렬은 같은 차원의 벡터를 모아서 사각형 모형으로 나열한 것이다.(사실상 벡터의 개념이 확장된것)"
   ]
  },
  {
   "attachments": {},
   "cell_type": "markdown",
   "metadata": {},
   "source": [
    "### 행렬 규칙\n",
    "- A행렬의 열의 개수와 행렬 B의 행의 개수가 같아야한다\n",
    "- AB != BA 교환볍칙이 성립하지 않는다."
   ]
  },
  {
   "attachments": {},
   "cell_type": "markdown",
   "metadata": {},
   "source": [
    "### 역행렬\n",
    "- 행렬에는 나눗셈 대신 역행렬을 사용한다.\n",
    "- 역행렬은 정방향렬(행과 열의 개수가 같은 행렬)로만 정의된다.\n",
    "- 행렬 A와 여행렬 A^-1 를 곱하면 단위행렬 E가 나온다."
   ]
  },
  {
   "attachments": {},
   "cell_type": "markdown",
   "metadata": {},
   "source": [
    "## 선형변환\n",
    "- 벡터 공간에서 또 다른 벡터 공간으로 벡터의 특징을 유지한 채 변환하는 방법\n",
    "- 선이 선으로 남아 있어야 한다\n",
    "- 원점이 고정된 채로 유지되어야 한다"
   ]
  },
  {
   "attachments": {},
   "cell_type": "markdown",
   "metadata": {},
   "source": [
    "### 고유값과 고유벡터\n",
    "- 선형변환(일차변환)으로 방향이 바뀌지 않는 벡터를 고유벡터(eigen vector)라고 한다.\n",
    "- 그리고 이 고유벡터의 변환 전과 후의 비율을 고유값이라고 한다.\n",
    "- 2 x 2 행렬은 반드시 두쌍의 고유값과 고유벡터를 가진다."
   ]
  }
 ],
 "metadata": {
  "kernelspec": {
   "display_name": "Python 3",
   "language": "python",
   "name": "python3"
  },
  "language_info": {
   "codemirror_mode": {
    "name": "ipython",
    "version": 3
   },
   "file_extension": ".py",
   "mimetype": "text/x-python",
   "name": "python",
   "nbconvert_exporter": "python",
   "pygments_lexer": "ipython3",
   "version": "3.11.3"
  },
  "orig_nbformat": 4
 },
 "nbformat": 4,
 "nbformat_minor": 2
}
