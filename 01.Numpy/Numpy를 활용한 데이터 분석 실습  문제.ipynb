{
 "cells": [
  {
   "cell_type": "markdown",
   "metadata": {},
   "source": [
    "# [문제] BMI 지수 계산 및 과체중 이상인 BMI 값 확인\n",
    "- 10명에 대한 키와 몸무게가 들어있는 'height_weight.txt'를 읽어 각 사람별 BMI 지수를 구하고 비만 전단계 이상인 BMI 값 확인하기\n",
    "\n",
    "<pre>\n",
    " BMI 지수 = 몸무게(kg) / 키(M)의 제곱\n",
    " 체질량지수의 범위 값에 따른 비만도 값 지정\n",
    " 18.5 미만 ▶ 저체중\n",
    " 18.5 ~ 22.9 ▶ 정상\n",
    " 23 ~ 24.9 ▶ 비만 전단계\n",
    " 25 ~ 29 ▶ 1단계 비만\n",
    " 30 ~ 34.9 ▶ 2단계 비만\n",
    " 35이상 ▶ 고도비만\n",
    "</pre>"
   ]
  },
  {
   "cell_type": "code",
   "execution_count": 1,
   "metadata": {},
   "outputs": [
    {
     "name": "stdout",
     "output_type": "stream",
     "text": [
      "[[175.2 180.3 175.  169.2 185.2 188.  177.6 178.2 177.  179. ]\n",
      " [ 65.6  88.   79.2  69.3  55.   71.2  73.   68.9  74.   82. ]]\n"
     ]
    }
   ],
   "source": [
    "import numpy as np\n",
    "\n",
    "data = np.loadtxt('height_weight.txt', delimiter=\",\",dtype=float)\n",
    "print(data)"
   ]
  },
  {
   "cell_type": "code",
   "execution_count": 7,
   "metadata": {},
   "outputs": [
    {
     "name": "stdout",
     "output_type": "stream",
     "text": [
      "[65.6 88.  79.2 69.3 55.  71.2 73.  68.9 74.  82. ]\n",
      "[3.069504 3.250809 3.0625   2.862864 3.429904 3.5344   3.154176 3.175524\n",
      " 3.1329   3.2041  ]\n",
      "[21.37153104 27.07018468 25.86122449 24.20652885 16.03543423 20.14486193\n",
      " 23.14392095 21.69720651 23.62028791 25.59220998]\n",
      "BMI 23이상인 사람들의 BMI\n",
      "[27.07 25.86 24.21 23.14 23.62 25.59]\n"
     ]
    }
   ],
   "source": [
    "weight = data[1]\n",
    "print(weight)\n",
    "squared_height_m = (data[0] / 100) **2\n",
    "print(squared_height_m)\n",
    "\n",
    "bmi = weight / squared_height_m\n",
    "print(bmi)\n",
    "\n",
    "np.set_printoptions(suppress=True, precision=2)\n",
    "\n",
    "print('BMI 23이상인 사람들의 BMI')\n",
    "print(bmi[bmi >= 23])\n"
   ]
  },
  {
   "cell_type": "markdown",
   "metadata": {},
   "source": [
    "# [문제] 국가건강검진 혈압혈당 데이터 분석\n",
    "\n",
    "* '국가건강검진_혈압혈당데이터.csv' 파일 내용을 읽기 <data = np.loadtxt(\"국가건강검진_혈압혈당데이터.csv\", delimiter=\",\", dtype=np.float, skiprows=1)>\n",
    "    - 성별: 1(남자), 2(여자)\n",
    "    - 연령그룹: 1(20-24), 2(25-26),...25-74세까지 2살 간격으로 1개 그룹으로 지정, 27(74세 이상)\n",
    "    - 고혈압 당뇨병 진료여부: 1(고혈압 및 당뇨진료내역 있음), 2(고혈압 진료내역 있음), 3(당뇨 진료내역 있음), 4(고혈압 및 당뇨 진료내역 없음)\n",
    "    - 정상혈압: 수축기 혈압 120nnHg 미만, 확장기 혈압 80mmHg 미만\n",
    "    - 공복혈당 수치: 126 mg/dL 이상 -> 당뇨병, 100mg/dL-> 정상\n",
    "* 전체 레코드 수와 상위 5개 데이터 확인\n",
    "* 데이터 모양 확인\n",
    "* 여성과 남성의 데이터 수 확인\n",
    "* 여성과 남성의 수축기혈압과 이완기혈압의 평균값 확인\n",
    "* 정상 혈압 남자 및 여자 수 확인\n",
    "* 당뇨병 질환(공복혈당 수치 126mg/dL 이상)을 가지고 있는 사람들의 평균 체질량지수"
   ]
  },
  {
   "cell_type": "code",
   "execution_count": 72,
   "metadata": {},
   "outputs": [
    {
     "name": "stdout",
     "output_type": "stream",
     "text": [
      "[[  1.    1.  116.   78.   94.    4.   16.6]\n",
      " [  1.    1.  100.   60.   79.    4.   22.3]\n",
      " [  1.    1.  100.   60.   87.    4.   21.9]]\n",
      "레코드 수1,000,000개\n"
     ]
    }
   ],
   "source": [
    "import numpy as np\n",
    "\n",
    "data = np.loadtxt(\"국가건강검진_혈압혈당데이터.csv\", delimiter=\",\", dtype=float, skiprows=1, encoding='cp949')\n",
    "\n",
    "# 성별 연령그룹 수축기혈압(120미만) 확장기혈압(80미만) 공복혈당(126>=당뇨, 나머지 정상) \n",
    "# 진료여부 체질량지수\n",
    "\n",
    "# 전체 레코드 수와 상위 5개 데이터 확인\n",
    "# TODO 분석초기단계때 데이터 파악을먼저 해야됨\n",
    "print(data[:3])\n",
    "#  데이터 모양 확인\n",
    "print(f'레코드 수{data.shape[0]:,}개')"
   ]
  },
  {
   "cell_type": "code",
   "execution_count": 78,
   "metadata": {},
   "outputs": [
    {
     "name": "stdout",
     "output_type": "stream",
     "text": [
      "510227\n",
      "489773\n"
     ]
    }
   ],
   "source": [
    "#  여성과 남성의 데이터 수 확인\n",
    "# boolean 인덱싱\n",
    "male = data[:,0] == 1\n",
    "female = data[:,0] == 2\n",
    "# print(f'남성데이터수:{len(data[data[:,0] == 1]):,}개')\n",
    "print(sum(male))\n",
    "print(sum(female))\n"
   ]
  },
  {
   "cell_type": "code",
   "execution_count": 80,
   "metadata": {},
   "outputs": [
    {
     "name": "stdout",
     "output_type": "stream",
     "text": [
      "남성 수축기혈압의 평균: nan\n",
      "여성 수축기혈압의 평균: nan\n",
      "남성 이완기혈압의 평균: nan\n",
      "여성 이완기혈압의 평균: nan\n",
      "nan\n"
     ]
    },
    {
     "name": "stderr",
     "output_type": "stream",
     "text": [
      "/Library/Frameworks/Python.framework/Versions/3.11/lib/python3.11/site-packages/numpy/core/fromnumeric.py:3464: RuntimeWarning: Mean of empty slice.\n",
      "  return _methods._mean(a, axis=axis, dtype=dtype,\n",
      "/Library/Frameworks/Python.framework/Versions/3.11/lib/python3.11/site-packages/numpy/core/_methods.py:194: RuntimeWarning: invalid value encountered in scalar divide\n",
      "  ret = ret / rcount\n"
     ]
    }
   ],
   "source": [
    "\n",
    "# 여성과 남성의 수축기혈압과 이완기혈압의 평균값 확인\n",
    "\n",
    "\n",
    "subset = data[:,:4]\n",
    "print(\"남성 수축기혈압의 평균:\",np.mean(subset[subset[:,0]==1][:,2]))\n",
    "print(\"여성 수축기혈압의 평균:\",np.mean(subset[subset[:,0]==2][:,2]))\n",
    "print(\"남성 이완기혈압의 평균:\",np.mean(subset[subset[:,0]==1][:,3]))\n",
    "print(\"여성 이완기혈압의 평균:\",np.mean(subset[subset[:,0]==2][:,3]))\n",
    "male_sbp_mean = np.mean(data[data[:,0]==1][:,2])\n",
    "print(male_sbp_mean)\n",
    "\n"
   ]
  },
  {
   "cell_type": "code",
   "execution_count": null,
   "metadata": {},
   "outputs": [],
   "source": [
    "#  정상 혈압 남자 및 여자 수 확인\n",
    "nbp_masking = np.logical_and(data[:,2] < 120,data[:,3] < 80)\n",
    "nbp_data = data[nbp_masking]\n",
    "print(f'정상혈압 남자 수: {sum(nbp_data[:,0]==1)}')\n",
    "print(f'정상혈압 여자 수: {sum(nbp_data[:,0]==2)}')\n",
    "\n",
    "#  당뇨병 질환(공복혈당 수치 126mg/dL 이상)을 가지고 있는 사람들의 평균 체질량지수\n",
    "diabetes = data[data[:,4] >= 126]\n",
    "print(f'당뇨병 질환 환자의 평균 BMI: {np.mean(diabetes[:,6]):.2f}')\n",
    "\n",
    "print(data[:,data[:,:6]])"
   ]
  },
  {
   "cell_type": "markdown",
   "metadata": {},
   "source": [
    "# [문제] 시에틀 강수량 데이터 분석\n",
    "- 'Seattle2014.csv' 파일 내용 읽기\n",
    "- 강수량('PRCP')이 많은 날 상위 10일 확인\n",
    "- 1월 강수량만 출력\n",
    "- 1월에 내린 강수량의 합, 평균강수량 확인\n",
    "- 1년동안 강수량이 40미만으로 내린 날이 몇일인가?"
   ]
  },
  {
   "cell_type": "code",
   "execution_count": 90,
   "metadata": {},
   "outputs": [
    {
     "name": "stdout",
     "output_type": "stream",
     "text": [
      "[['GHCND:USW00024233' 'SEATTLE TACOMA INTERNATIONAL AIRPORT WA US'\n",
      "  '20140101' '0' '0' '0' '72' '33' '12' '340' '310' '36' '40' '-9999'\n",
      "  '-9999' '-9999' '-9999']\n",
      " ['GHCND:USW00024233' 'SEATTLE TACOMA INTERNATIONAL AIRPORT WA US'\n",
      "  '20140102' '41' '0' '0' '106' '61' '32' '190' '200' '94' '116' '-9999'\n",
      "  '-9999' '-9999' '-9999']]\n"
     ]
    }
   ],
   "source": [
    "# - 'Seattle2014.csv' 파일 내용 읽기\n",
    "data = np.loadtxt('Seattle2014.csv',delimiter=',',dtype=object,skiprows=1)\n",
    "print(data[:2])\n",
    "\n"
   ]
  },
  {
   "cell_type": "code",
   "execution_count": 108,
   "metadata": {},
   "outputs": [
    {
     "name": "stdout",
     "output_type": "stream",
     "text": [
      "[467 343 333 323 320 277 264 254 221 216]\n",
      "[467 343 333 323 320 277 264 254 221 216]\n"
     ]
    }
   ],
   "source": [
    "# - 강수량('PRCP')이 많은 날 상위 10일 확인\n",
    "prcp = data[:,3].astype(int)\n",
    "top_10 = np.sort(prcp)[::-1][:10]\n",
    "print(top_10)\n",
    "subset = np.sort(data[:,3].astype(int))[::-1][:10]\n",
    "print(subset)\n"
   ]
  },
  {
   "cell_type": "code",
   "execution_count": 110,
   "metadata": {},
   "outputs": [
    {
     "name": "stdout",
     "output_type": "stream",
     "text": [
      "[[20140305      467]\n",
      " [20141128      343]\n",
      " [20140503      333]\n",
      " [20140308      323]\n",
      " [20141022      320]\n",
      " [20140316      277]\n",
      " [20140216      264]\n",
      " [20141030      254]\n",
      " [20140328      221]\n",
      " [20140129      216]]\n"
     ]
    }
   ],
   "source": [
    "#펜싱 인덱싱\n",
    "prcp = data[:,[2,3]].astype(int)\n",
    "prcp = prcp[prcp[:,1].argsort()][::-1][:10]\n",
    "\n",
    "print(prcp)\n"
   ]
  },
  {
   "cell_type": "code",
   "execution_count": 117,
   "metadata": {},
   "outputs": [
    {
     "name": "stdout",
     "output_type": "stream",
     "text": [
      "[  0  41  15   0   0   3 122  97  58  43 213  15   0   0   0   0   0   0\n",
      "   0   0   0   5   0   0   0   0   0  89 216   0  23]\n"
     ]
    }
   ],
   "source": [
    "# - 1월 강수량만 출력\n",
    "prcp = data[:,[2,3]]\n",
    "prcp_month = np.array([[data[4:6],prcp] for data, prcp in prcp])\n",
    "jan_prcp = prcp_month[prcp_month[:,0] == '01'][:,1].astype(int)\n",
    "print(jan_prcp)\n"
   ]
  },
  {
   "cell_type": "code",
   "execution_count": 118,
   "metadata": {},
   "outputs": [
    {
     "name": "stdout",
     "output_type": "stream",
     "text": [
      "940\n",
      "30.322580645161292\n"
     ]
    }
   ],
   "source": [
    "# - 1월에 내린 강수량의 합, 평균강수량 확인\n",
    "print(np.sum(jan_prcp))\n",
    "print(np.mean(jan_prcp))"
   ]
  },
  {
   "cell_type": "code",
   "execution_count": 119,
   "metadata": {},
   "outputs": [
    {
     "name": "stdout",
     "output_type": "stream",
     "text": [
      "277\n"
     ]
    }
   ],
   "source": [
    "# - 1년동안 강수량이 40미만으로 내린 날이 몇일인가?\n",
    "prcp = data[:,3].astype(int)\n",
    "under_40 =prcp[prcp < 40]\n",
    "print(len(under_40))"
   ]
  },
  {
   "cell_type": "markdown",
   "metadata": {},
   "source": [
    "# [문제] 영화 평점 분석\n",
    "- 'ratings.dat' 파일 내용 읽기 (데이터 형식: user_id::item_id::rating::timestamp)\n",
    "- 상위 10개 데이터 출력하기\n",
    "- 데이터 정보 확인(크기, 차원)\n",
    "- 전체 데이터 평점 구하기\n",
    "- 사용자 아이디 1인 데이터 출력하기\n",
    "- 사용자 아이디 1인 사람의 평점 평균 구하기\n",
    "- 각 사용자별 평점 구하기 (사용자 ID 수집: ID컬럼에 대한 np.unique() 함수 적용)\n",
    "- 각 사용자별 평균 평점이 4점 이상인 사용자 및 인원수 구하기"
   ]
  },
  {
   "cell_type": "code",
   "execution_count": 7,
   "metadata": {},
   "outputs": [
    {
     "name": "stdout",
     "output_type": "stream",
     "text": [
      "[[        1      1193         5 978300760]\n",
      " [        1       661         3 978302109]\n",
      " [        1       914         3 978301968]\n",
      " [        1      3408         4 978300275]\n",
      " [        1      2355         5 978824291]]\n"
     ]
    },
    {
     "data": {
      "text/plain": [
       "(1000209, 4)"
      ]
     },
     "execution_count": 7,
     "metadata": {},
     "output_type": "execute_result"
    }
   ],
   "source": [
    "import numpy as np\n",
    "# - 'ratings.dat' 파일 내용 읽기\n",
    "data = np.loadtxt('ratings.dat',delimiter=\":\", dtype=int)\n",
    "# - 상위 10개 데이터 출력하기\n",
    "print(data[:5])\n",
    "# - 데이터 정보 확인(크기, 차원)\n",
    "data.shape"
   ]
  },
  {
   "cell_type": "code",
   "execution_count": 46,
   "metadata": {},
   "outputs": [
    {
     "name": "stdout",
     "output_type": "stream",
     "text": [
      "3.581564453029317\n",
      "[[        1      1193         5 978300760]\n",
      " [        1       661         3 978302109]\n",
      " [        1       914         3 978301968]\n",
      " [        1      3408         4 978300275]\n",
      " [        1      2355         5 978824291]]\n",
      "4.0\n"
     ]
    }
   ],
   "source": [
    "# - 전체 데이터 평점 구하기\n",
    "avg_score = data[:,2].mean()\n",
    "print(avg_score)\n",
    "# - 사용자 아이디 1인 데이터 출력하기\n",
    "user_id = data[data[:,0] == 1][:5]\n",
    "print(user_id)\n",
    "# - 사용자 아이디 1인 사람의 평점 평균 구하기\n",
    "print(np.mean(user_id[:,2]))\n",
    "\n",
    "\n"
   ]
  },
  {
   "cell_type": "code",
   "execution_count": 50,
   "metadata": {},
   "outputs": [
    {
     "name": "stdout",
     "output_type": "stream",
     "text": [
      "6040 명\n",
      "1 : 4.19점\n",
      "2 : 3.71점\n",
      "3 : 3.90점\n",
      "4 : 4.19점\n",
      "5 : 3.15점\n",
      "6 : 3.90점\n",
      "7 : 4.32점\n",
      "8 : 3.88점\n",
      "9 : 3.74점\n",
      "10 : 4.11점\n"
     ]
    }
   ],
   "source": [
    "# - 각 사용자별 평균평점 구하기 (사용자 ID 수집: ID컬럼에 대한 np.unique() 함수 적용)\n",
    "user_ids = np.unique(data[:,0])\n",
    "print(len(user_ids),\"명\")\n",
    "user_mean_rating =[ [id,np.mean(data[data[:,0] == id][:,2])] for id in user_ids ]\n",
    "for id , avg_rating in user_mean_rating[:10]:\n",
    "    print(f'{id} : {avg_rating:.2f}점')\n",
    "\n",
    "\n",
    "# for id in user_ids:\n",
    "#     data_user = data[data[:,0] == id,:]\n",
    "#     value = data_user[:,2].mean()\n",
    "#     user_mean_rating.append([id,value])\n",
    "# print(\"결과\",user_mean_rating[:3])"
   ]
  },
  {
   "cell_type": "code",
   "execution_count": 52,
   "metadata": {},
   "outputs": [
    {
     "name": "stdout",
     "output_type": "stream",
     "text": [
      "평균 평점이 4점 이상인 유저 수:1544\n"
     ]
    }
   ],
   "source": [
    "# - 각 사용자별 평균 평점이 4점 이상인 사용자 및 인원수 구하기\n",
    "user_mean_rating = np.array(user_mean_rating)\n",
    "user_mean_rating[:10]\n",
    "print(f'평균 평점이 4점 이상인 유저 수:{sum(user_mean_rating[:,1] >= 4)}')\n",
    "\n",
    "# for user_id in unique_user_id:\n",
    "#     data_user = data[data[:,0] == user_id,:]\n",
    "#     value = np.mean(data_user[:,2])\n",
    "#     user_mean_value.append([user_id,value])\n",
    "# print(\"결과\",user_mean_value[:3])\n"
   ]
  }
 ],
 "metadata": {
  "kernelspec": {
   "display_name": "Python 3",
   "language": "python",
   "name": "python3"
  },
  "language_info": {
   "codemirror_mode": {
    "name": "ipython",
    "version": 3
   },
   "file_extension": ".py",
   "mimetype": "text/x-python",
   "name": "python",
   "nbconvert_exporter": "python",
   "pygments_lexer": "ipython3",
   "version": "3.11.3"
  },
  "toc": {
   "base_numbering": 1,
   "nav_menu": {},
   "number_sections": true,
   "sideBar": true,
   "skip_h1_title": false,
   "title_cell": "Table of Contents",
   "title_sidebar": "Contents",
   "toc_cell": false,
   "toc_position": {
    "height": "calc(100% - 180px)",
    "left": "10px",
    "top": "150px",
    "width": "236px"
   },
   "toc_section_display": true,
   "toc_window_display": false
  }
 },
 "nbformat": 4,
 "nbformat_minor": 4
}
