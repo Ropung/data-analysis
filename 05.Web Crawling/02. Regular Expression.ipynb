{
 "cells": [
  {
   "attachments": {},
   "cell_type": "markdown",
   "metadata": {},
   "source": [
    "# 정규식 사용 vs 비사용\n",
    "- 주민등록번호를 포함하고 있는 문자열에서 주민등록번호 뒷자리를 '*' 문자로 변경"
   ]
  },
  {
   "cell_type": "code",
   "execution_count": 1,
   "metadata": {},
   "outputs": [
    {
     "name": "stdout",
     "output_type": "stream",
     "text": [
      "\n",
      "park 800904-*******\n",
      "kim 841130-*******\n",
      "\n"
     ]
    }
   ],
   "source": [
    "data = \"\"\"\n",
    "park 800904-1234567\n",
    "kim 841130-1023451\n",
    "\"\"\"\n",
    "result= []\n",
    "for line in data.split('\\n'):\n",
    "  word_result=[]\n",
    "  for word in line.split():\n",
    "    if len(word) == 14 and word[:6].isdigit() and word[7].isdigit():\n",
    "      word = word[:6] + '-' + '*******'\n",
    "    word_result.append(word)\n",
    "  result.append(' '.join(word_result))\n",
    "print('\\n'.join(result))"
   ]
  },
  {
   "cell_type": "code",
   "execution_count": 2,
   "metadata": {},
   "outputs": [
    {
     "name": "stdout",
     "output_type": "stream",
     "text": [
      "\n",
      "park 800904-*******\n",
      "kim 841130-*******\n",
      "\n"
     ]
    }
   ],
   "source": [
    "import re\n",
    "data = \"\"\"\n",
    "park 800904-1234567\n",
    "kim 841130-1023451\n",
    "\"\"\"\n",
    "pat = re.compile('(\\d{6})[-]\\d{7}')\n",
    "# pat = re.compile('([0-9]{6})[-]\\d{7}')\n",
    "\n",
    "print(pat.sub(r'\\1-*******',data))"
   ]
  },
  {
   "attachments": {},
   "cell_type": "markdown",
   "metadata": {},
   "source": [
    "### 정규 표현식\n",
    "- 메타 문자\n",
    "  - 정규 표현식에 사용되어 지는 특별한 의미를 갖는 문자\n",
    "```. ^ $ \" + ? {} [] ₩ | ()```\n",
    "- 문자 클래스[]\n",
    "  - [] 안에 포함된 문자들 중 하나와 매치 여부를 확인한다.\n",
    "  - 문자 사이에 하이픈(-)을 사용하면 두 문자 사이의 범위(form-to)를 의미한다.\n",
    "  - 문자 클래스 안에 ^메타 문자가 사용되면 `not`의 의미를 갖는다.\n",
    "  - ^[0-9]는 숫자가 아닌 문자만 매치된다.\n",
    "  - ^ 메타 문자가 [] 밖에 사용되면 특정 문자로 시작하는지 판단"
   ]
  },
  {
   "attachments": {},
   "cell_type": "markdown",
   "metadata": {},
   "source": [
    "- 자주 사용하는 문자클래스\n",
    "  - ₩: 정규 표현식에서 사용하는 문자 그대로 표현하려면 앞에 ₩를 붙임 예) `₩+`, `₩\"`\n",
    "  - ₩d: 숫자와 매치 [0-9]와 동일한 표현식\n",
    "  - ₩D: 숫자가 아닌것과 매치, [^0-9]와 동일한 표현식\n",
    "  - ₩s: 공백문자(space, tab)와 매치, [₩t ₩n ₩r ₩f ₩v]와 동일한 표현식\n",
    "  - ₩S: 공백문자가 아닌것과 매치 [^ ₩t ₩n ₩r ₩f ₩v]와 동일한 표현식\n",
    "  - \\w: 문자+숫자와 매치, [a-zA-Z0-9]\n",
    "  - \\W: 문자+숫자가 아닌 문자와 매치, [a-zA-Z0-9]\n",
    "  - 한글 여부 : [ㄱ-힣]"
   ]
  },
  {
   "attachments": {},
   "cell_type": "markdown",
   "metadata": {},
   "source": [
    "- Dot(.)\n",
    "    - Dot(.) 메타 문자는 줄바꿈 문자인 **\\n을 제외한 모든 문자와 매치**됨을 의미한다.\n",
    "    - [] 사이에.을 사용할 경우 문자 원래의 의미인 마침표가 된다.\n",
    "- 반복(*)\n",
    "    - *은 *바로 앞에 있는 문자가 **0부터 무한대로 반복**될 수 있다는 의미이다."
   ]
  },
  {
   "attachments": {},
   "cell_type": "markdown",
   "metadata": {},
   "source": [
    "- 반복(+)\n",
    "    - +는 최소 1번 이상 반복될때 사용한다\n",
    "- 반복 횟수 지정({m,n})\n",
    "    - {} 메타 문자는 **반복 횟수를 지정**할 수 있다. {m,n} 정규식을 사용하면 반복횟수가 m부터 n까지 매치할 수 있다.\n",
    "    m 또는 n을 생략하거나 정수 한개 만 쓸 수도 있다. {m,}이면 반복횟수가 m이상인 경우이고, {n,}이면 반복 횟수가 n이하를 의미한다."
   ]
  },
  {
   "attachments": {},
   "cell_type": "markdown",
   "metadata": {},
   "source": [
    "- ? 앞에 문자가 `하나 있거나 없을 떄` 매치된다.\n",
    "- $ 앞에 있는 문자로 끝나면 매치된다. 여러줄의 문자열일 경우 마지막 줄만 적용된다.\n",
    "- ^ 다음에 있는 문자로 시작하면 매치된다.\n",
    "- [^]: 안에서 사용되면 not"
   ]
  },
  {
   "attachments": {},
   "cell_type": "markdown",
   "metadata": {},
   "source": [
    "### re 모듈 사용\n",
    "- re모듈의 compile 함수를 이용하여 정규 표현식을 컴파일 한다.\n",
    "```python\n",
    "import re\n",
    "p = re.compile(\"ab\")\n",
    "```\n",
    "- 정규식을 사용한 문자열 검색\n",
    "  - 컴파일 된 객체를 이용하여 다음의 함수를 이용하여 문자열 검색을 할 수 있다.\n",
    "    - match(): 문자열의 처음시작부터 검색하여 일치하지 않는 부분이 나올 떄까지 찾는다.\n",
    "    - search(): 문자열 전체를 검색하여 처음으로 매치되는 문자열을 찾는다.\n",
    "    - findall(): 정규식과 매치되는 모든 문자열을 찾아 리스트로 반환한다.\n",
    "    - finditer(): 정규식과 매치되는 모든 문자열을 반복 가능한 객체로 반환한다.\n",
    "- 컴파일과 매치의 동시 수행\n",
    "match(패턴,찾고싶은 문자열)\n",
    "```python\n",
    "m = re.match('[a-z]+','python')\n",
    "```"
   ]
  },
  {
   "attachments": {},
   "cell_type": "markdown",
   "metadata": {},
   "source": [
    "# 2. 문자열 검색"
   ]
  },
  {
   "cell_type": "code",
   "execution_count": 3,
   "metadata": {},
   "outputs": [],
   "source": [
    "import re\n",
    "# 알파벳 소문자가 1개 이상이면 매칭\n",
    "p = re.compile('[a-z]+')"
   ]
  },
  {
   "attachments": {},
   "cell_type": "markdown",
   "metadata": {},
   "source": [
    "### match()\n",
    "- 문자열의 처음부터 정규식과 매치되는지 조사"
   ]
  },
  {
   "cell_type": "code",
   "execution_count": 8,
   "metadata": {},
   "outputs": [
    {
     "name": "stdout",
     "output_type": "stream",
     "text": [
      "<re.Match object; span=(0, 6), match='python'>\n",
      "<re.Match object; span=(0, 1), match='p'>\n",
      "None\n",
      "Match Found: python\n"
     ]
    }
   ],
   "source": [
    "m1 = p.match('python')\n",
    "print(m1)\n",
    "\n",
    "m2 = p.match('pYthon')\n",
    "print(m2)\n",
    "\n",
    "m3 = p.match('3 python')\n",
    "print(m3)\n",
    "\n",
    "m = p.match('python')\n",
    "if m:\n",
    "  print('Match Found:',m.group())\n",
    "else:\n",
    "  print('Not Match')"
   ]
  },
  {
   "attachments": {},
   "cell_type": "markdown",
   "metadata": {},
   "source": [
    "### search()\n",
    "- 문자열 전체를 검색하여 처음으로 매치되는 문자열을 찾는다."
   ]
  },
  {
   "cell_type": "code",
   "execution_count": 9,
   "metadata": {},
   "outputs": [
    {
     "name": "stdout",
     "output_type": "stream",
     "text": [
      "<re.Match object; span=(2, 8), match='python'>\n"
     ]
    }
   ],
   "source": [
    "m = p.search('3 python')\n",
    "print(m)"
   ]
  },
  {
   "attachments": {},
   "cell_type": "markdown",
   "metadata": {},
   "source": [
    "## [문제] 전화번호 추출하기\n",
    "- 다음의 전화번호 데이터에서 전화번호만 추출하는 정규표현식을 작성하시오.\n",
    "- phone = ['홍길동:010-1111-1111','우리집:02-555-5555']"
   ]
  },
  {
   "cell_type": "code",
   "execution_count": null,
   "metadata": {},
   "outputs": [],
   "source": [
    "import re\n",
    "# 알파벳 소문자가 1개 이상이면 매칭\n",
    "p = re.compile('\\d{2,3}-\\d{3,4}-\\d{4}')"
   ]
  }
 ],
 "metadata": {
  "kernelspec": {
   "display_name": "Python 3",
   "language": "python",
   "name": "python3"
  },
  "language_info": {
   "codemirror_mode": {
    "name": "ipython",
    "version": 3
   },
   "file_extension": ".py",
   "mimetype": "text/x-python",
   "name": "python",
   "nbconvert_exporter": "python",
   "pygments_lexer": "ipython3",
   "version": "3.11.3"
  },
  "orig_nbformat": 4
 },
 "nbformat": 4,
 "nbformat_minor": 2
}
