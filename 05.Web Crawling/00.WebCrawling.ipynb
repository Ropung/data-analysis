{
 "cells": [
  {
   "attachments": {},
   "cell_type": "markdown",
   "metadata": {},
   "source": [
    "### Web Scraping과 Web Crawling\n",
    "- Web Crawling: 웹 페이지 내에서 허용된 부분을 허용된 부분을 링크를 따라가면서 다 가져 오는것\n",
    "- Web Scraping: 웹 페이지 내에서 원하는 정보를 추출하는 기술\n",
    "\n",
    "### 사전 지식\n",
    "- Web 구성요소 (html + CSS) 및 DOM 구조의 이해\n",
    "- 파이선 기본 문법\n",
    "- Database (Option)\n",
    "\n",
    "### Web Scraping의 방법\n",
    "    - 1. HTML 페이지를 가져와서 HTML/CSS 등을 파싱하고 필요한 데이터만 추출\n",
    "    - 2. Open API(Rest API)를 제공하는 서비스에 Open API를 호출해서 받은 데이터 중 필요한 데이터만 추출\n",
    "    - 3. 브라우저를 프로그래밍으로 조작해서 필요한 데이터만 추출"
   ]
  },
  {
   "attachments": {},
   "cell_type": "markdown",
   "metadata": {},
   "source": [
    "# Crawling 적법성 여부 확인\n",
    "### robots.txt carwling 적법성 여부 확인\n",
    "- 웹 사이트에 웹 크롤링 봇들의 접근에 제약을 두기 위한 규약\n",
    "- 검색엔진의 크롤링 봇들은 각 사이트에서 제공하는 텍스트 문서인 robots.txt 파일을 열어본 뒤 수집 여부를 결정.\n",
    "- 예) http://naver.com/robots.txt"
   ]
  },
  {
   "attachments": {},
   "cell_type": "markdown",
   "metadata": {},
   "source": [
    "# Web 구성 요소\n",
    "### HTTP 요청 매서드\n",
    "- HTTP 는 요청 메소드를 정의하여 주어진 리소스에 수행하길 원하는 행동을 나타낸다.\n",
    "- GET: 특정 리소스의 표시를 요청, GET을 사용하는 요청은 오직 데이ㅓ를 받기만 한다.\n",
    "- POST: POST 메서드는 특정 리소스에 엔티티를 제출할 때 사용. 서버의 상태의 변화를 일으킨다.\n",
    "- PUT: 목적 리소스 모든 현재 표시를 요청 payload로 수정한다.\n",
    "- DELETE: 특정 리소스를 삭제 "
   ]
  },
  {
   "attachments": {},
   "cell_type": "markdown",
   "metadata": {},
   "source": [
    "### 특정 사이트 접속\n",
    " - requests 객체를 import 한 후 get() 함수를 이용해 지정된 사이트에 접속\n",
    "    - url: 접속할 url\n",
    "    - params: 해당 url의 파라미터 문자열 정보 입력(dictionary 객체로 전달)\n",
    "    - **kwargs : 그 외 매개 변수\n",
    "    - verify: False = SSL 인증서를 사용하는 경우\n",
    "    - auth = (\"id\",\"password\"): 인증이 필요한 경우\n",
    "    - headers = { 'Content-Type': 'application/json; charset = utf-8' }\n",
    "    - cookies = { 'sessionKey': 'sessionValue' }\n",
    "    - timeout = 3"
   ]
  }
 ],
 "metadata": {
  "language_info": {
   "name": "python"
  },
  "orig_nbformat": 4
 },
 "nbformat": 4,
 "nbformat_minor": 2
}
