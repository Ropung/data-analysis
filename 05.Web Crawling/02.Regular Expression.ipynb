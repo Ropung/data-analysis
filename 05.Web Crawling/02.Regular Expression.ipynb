{
 "cells": [
  {
   "attachments": {},
   "cell_type": "markdown",
   "metadata": {},
   "source": [
    "# 정규식 사용 vs 비사용\n",
    "- 주민등록번호를 포함하고 있는 문자열에서 주민등록번호 뒷자리를 '*' 문자로 변경"
   ]
  },
  {
   "cell_type": "code",
   "execution_count": 1,
   "metadata": {},
   "outputs": [
    {
     "name": "stdout",
     "output_type": "stream",
     "text": [
      "\n",
      "park 800904-*******\n",
      "kim 841130-*******\n",
      "\n"
     ]
    }
   ],
   "source": [
    "data = \"\"\"\n",
    "park 800904-1234567\n",
    "kim 841130-1023451\n",
    "\"\"\"\n",
    "result= []\n",
    "for line in data.split('\\n'):\n",
    "  word_result=[]\n",
    "  for word in line.split():\n",
    "    if len(word) == 14 and word[:6].isdigit() and word[7].isdigit():\n",
    "      word = word[:6] + '-' + '*******'\n",
    "    word_result.append(word)\n",
    "  result.append(' '.join(word_result))\n",
    "print('\\n'.join(result))"
   ]
  },
  {
   "cell_type": "code",
   "execution_count": 2,
   "metadata": {},
   "outputs": [
    {
     "name": "stdout",
     "output_type": "stream",
     "text": [
      "\n",
      "park 800904-*******\n",
      "kim 841130-*******\n",
      "\n"
     ]
    }
   ],
   "source": [
    "import re\n",
    "data = \"\"\"\n",
    "park 800904-1234567\n",
    "kim 841130-1023451\n",
    "\"\"\"\n",
    "pat = re.compile('(\\d{6})[-]\\d{7}')\n",
    "# pat = re.compile('([0-9]{6})[-]\\d{7}')\n",
    "\n",
    "print(pat.sub(r'\\1-*******',data))"
   ]
  },
  {
   "attachments": {},
   "cell_type": "markdown",
   "metadata": {},
   "source": [
    "### 정규 표현식\n",
    "- 메타 문자\n",
    "  - 정규 표현식에 사용되어 지는 특별한 의미를 갖는 문자\n",
    "```. ^ $ \" + ? {} [] ₩ | ()```\n",
    "- 문자 클래스[]\n",
    "  - [] 안에 포함된 문자들 중 하나와 매치 여부를 확인한다.\n",
    "  - 문자 사이에 하이픈(-)을 사용하면 두 문자 사이의 범위(form-to)를 의미한다.\n",
    "  - 문자 클래스 안에 ^메타 문자가 사용되면 `not`의 의미를 갖는다.\n",
    "  - ^[0-9]는 숫자가 아닌 문자만 매치된다.\n",
    "  - ^ 메타 문자가 [] 밖에 사용되면 특정 문자로 시작하는지 판단"
   ]
  },
  {
   "attachments": {},
   "cell_type": "markdown",
   "metadata": {},
   "source": [
    "- 자주 사용하는 문자클래스\n",
    "  - ₩: 정규 표현식에서 사용하는 문자 그대로 표현하려면 앞에 ₩를 붙임 예) `₩+`, `₩\"`\n",
    "  - ₩d: 숫자와 매치 [0-9]와 동일한 표현식\n",
    "  - ₩D: 숫자가 아닌것과 매치, [^0-9]와 동일한 표현식\n",
    "  - ₩s: 공백문자(space, tab)와 매치, [₩t ₩n ₩r ₩f ₩v]와 동일한 표현식\n",
    "  - ₩S: 공백문자가 아닌것과 매치 [^ ₩t ₩n ₩r ₩f ₩v]와 동일한 표현식\n",
    "  - \\w: 문자+숫자와 매치, [a-zA-Z0-9]\n",
    "  - \\W: 문자+숫자가 아닌 문자와 매치, [a-zA-Z0-9]\n",
    "  - 한글 여부 : [ㄱ-힣]"
   ]
  },
  {
   "attachments": {},
   "cell_type": "markdown",
   "metadata": {},
   "source": [
    "- Dot(.)\n",
    "    - Dot(.) 메타 문자는 줄바꿈 문자인 **\\n을 제외한 모든 문자와 매치**됨을 의미한다.\n",
    "    - [] 사이에.을 사용할 경우 문자 원래의 의미인 마침표가 된다.\n",
    "- 반복(*)\n",
    "    - *은 *바로 앞에 있는 문자가 **0부터 무한대로 반복**될 수 있다는 의미이다."
   ]
  },
  {
   "attachments": {},
   "cell_type": "markdown",
   "metadata": {},
   "source": [
    "- 반복(+)\n",
    "    - +는 최소 1번 이상 반복될때 사용한다\n",
    "- 반복 횟수 지정({m,n})\n",
    "    - {} 메타 문자는 **반복 횟수를 지정**할 수 있다. {m,n} 정규식을 사용하면 반복횟수가 m부터 n까지 매치할 수 있다.\n",
    "    m 또는 n을 생략하거나 정수 한개 만 쓸 수도 있다. {m,}이면 반복횟수가 m이상인 경우이고, {n,}이면 반복 횟수가 n이하를 의미한다."
   ]
  },
  {
   "attachments": {},
   "cell_type": "markdown",
   "metadata": {},
   "source": [
    "- ? 앞에 문자가 `하나 있거나 없을 떄` 매치된다.\n",
    "- $ 앞에 있는 문자로 끝나면 매치된다. 여러줄의 문자열일 경우 마지막 줄만 적용된다.\n",
    "- ^ 다음에 있는 문자로 시작하면 매치된다.\n",
    "- [^]: 안에서 사용되면 not"
   ]
  },
  {
   "attachments": {},
   "cell_type": "markdown",
   "metadata": {},
   "source": [
    "### re 모듈 사용\n",
    "- re모듈의 compile 함수를 이용하여 정규 표현식을 컴파일 한다.\n",
    "```python\n",
    "import re\n",
    "p = re.compile(\"ab\")\n",
    "```\n",
    "- 정규식을 사용한 문자열 검색\n",
    "  - 컴파일 된 객체를 이용하여 다음의 함수를 이용하여 문자열 검색을 할 수 있다.\n",
    "    - match(): 문자열의 처음시작부터 검색하여 일치하지 않는 부분이 나올 떄까지 찾는다.\n",
    "    - search(): 문자열 전체를 검색하여 처음으로 매치되는 문자열을 찾는다.\n",
    "    - findall(): 정규식과 매치되는 모든 문자열을 찾아 리스트로 반환한다.\n",
    "    - finditer(): 정규식과 매치되는 모든 문자열을 반복 가능한 객체로 반환한다.\n",
    "- 컴파일과 매치의 동시 수행\n",
    "match(패턴,찾고싶은 문자열)\n",
    "```python\n",
    "m = re.match('[a-z]+','python')\n",
    "```"
   ]
  },
  {
   "attachments": {},
   "cell_type": "markdown",
   "metadata": {},
   "source": [
    "# 2. 문자열 검색"
   ]
  },
  {
   "cell_type": "code",
   "execution_count": 3,
   "metadata": {},
   "outputs": [],
   "source": [
    "import re\n",
    "# 알파벳 소문자가 1개 이상이면 매칭\n",
    "p = re.compile('[a-z]+')"
   ]
  },
  {
   "attachments": {},
   "cell_type": "markdown",
   "metadata": {},
   "source": [
    "### match()\n",
    "- 문자열의 처음부터 정규식과 매치되는지 조사"
   ]
  },
  {
   "cell_type": "code",
   "execution_count": 8,
   "metadata": {},
   "outputs": [
    {
     "name": "stdout",
     "output_type": "stream",
     "text": [
      "<re.Match object; span=(0, 6), match='python'>\n",
      "<re.Match object; span=(0, 1), match='p'>\n",
      "None\n",
      "Match Found: python\n"
     ]
    }
   ],
   "source": [
    "m1 = p.match('python')\n",
    "print(m1)\n",
    "\n",
    "m2 = p.match('pYthon')\n",
    "print(m2)\n",
    "\n",
    "m3 = p.match('3 python')\n",
    "print(m3)\n",
    "\n",
    "m = p.match('python')\n",
    "if m:\n",
    "  print('Match Found:',m.group())\n",
    "else:\n",
    "  print('Not Match')"
   ]
  },
  {
   "attachments": {},
   "cell_type": "markdown",
   "metadata": {},
   "source": [
    "### search()\n",
    "- 문자열 전체를 검색하여 처음으로 매치되는 문자열을 찾는다."
   ]
  },
  {
   "cell_type": "code",
   "execution_count": 9,
   "metadata": {},
   "outputs": [
    {
     "name": "stdout",
     "output_type": "stream",
     "text": [
      "<re.Match object; span=(2, 8), match='python'>\n"
     ]
    }
   ],
   "source": [
    "m = p.search('3 python')\n",
    "print(m)"
   ]
  },
  {
   "attachments": {},
   "cell_type": "markdown",
   "metadata": {},
   "source": [
    "## [문제] 전화번호 추출하기\n",
    "- 다음의 전화번호 데이터에서 전화번호만 추출하는 정규표현식을 작성하시오.\n",
    "- phone = ['홍길동:010-1111-1111','우리집:02-555-5555']\n",
    "- 참고: \\d, {n}"
   ]
  },
  {
   "cell_type": "code",
   "execution_count": 24,
   "metadata": {},
   "outputs": [],
   "source": [
    "import re\n",
    "# 알파벳 소문자가 1개 이상이면 매칭\n",
    "p = re.compile('\\d{2,3}-\\d{3,4}-\\d{4}')"
   ]
  },
  {
   "cell_type": "code",
   "execution_count": 26,
   "metadata": {},
   "outputs": [
    {
     "name": "stdout",
     "output_type": "stream",
     "text": [
      "010-1111-1111\n",
      "02-555-5555\n"
     ]
    }
   ],
   "source": [
    "phone = ['홍길동:010-1111-1111','우리집:02-555-5555']\n",
    "\n",
    "for phone_num in phone:\n",
    "  m = re.search(p,phone_num).group()\n",
    "  print(m)\n"
   ]
  },
  {
   "attachments": {},
   "cell_type": "markdown",
   "metadata": {},
   "source": [
    "### findall()\n",
    "- 정규식과 매치되는 모든 문자열을 찾아 리스트로 반환한다."
   ]
  },
  {
   "cell_type": "code",
   "execution_count": 32,
   "metadata": {},
   "outputs": [
    {
     "name": "stdout",
     "output_type": "stream",
     "text": [
      "['life', 'is', 'too', 'short']\n"
     ]
    }
   ],
   "source": [
    "import re\n",
    "# 알파벳 소문자가 1개 이상이면 매칭\n",
    "p = re.compile('[a-z]+')\n",
    "\n",
    "result = p.findall('life is too short')\n",
    "print(result)"
   ]
  },
  {
   "attachments": {},
   "cell_type": "markdown",
   "metadata": {},
   "source": [
    "### finditer()\n",
    "- 정규식과 매치되는 모든 문자열을 반복 가능한 객체로 반환한다."
   ]
  },
  {
   "cell_type": "code",
   "execution_count": 35,
   "metadata": {},
   "outputs": [
    {
     "name": "stdout",
     "output_type": "stream",
     "text": [
      "<re.Match object; span=(0, 4), match='life'>\n",
      "<re.Match object; span=(5, 7), match='is'>\n",
      "<re.Match object; span=(8, 11), match='too'>\n",
      "<re.Match object; span=(12, 17), match='short'>\n"
     ]
    }
   ],
   "source": [
    "result = p.finditer('life is too short')\n",
    "for m in result:\n",
    "  print(m)"
   ]
  },
  {
   "attachments": {},
   "cell_type": "markdown",
   "metadata": {},
   "source": [
    "# Match 객체 함수"
   ]
  },
  {
   "cell_type": "code",
   "execution_count": 37,
   "metadata": {},
   "outputs": [
    {
     "name": "stdout",
     "output_type": "stream",
     "text": [
      "python\n",
      "0\n",
      "6\n",
      "(0, 6)\n"
     ]
    }
   ],
   "source": [
    "import re\n",
    "p = re.compile('[a-z]+')\n",
    "m = p.search('python')\n",
    "print(m.group())\n",
    "print(m.start())\n",
    "print(m.end())\n",
    "print(m.span())"
   ]
  },
  {
   "attachments": {},
   "cell_type": "markdown",
   "metadata": {},
   "source": [
    "# 4. 컴파일 옵션 "
   ]
  },
  {
   "attachments": {},
   "cell_type": "markdown",
   "metadata": {},
   "source": [
    "## DOTALL\n",
    "- dot(.) 메타 문자가 줄바꿈 문자(\\n)를 포함한 모든 문자와 매치된다."
   ]
  },
  {
   "cell_type": "code",
   "execution_count": 3,
   "metadata": {},
   "outputs": [
    {
     "name": "stdout",
     "output_type": "stream",
     "text": [
      "None\n",
      "<re.Match object; span=(0, 3), match='a\\nb'>\n"
     ]
    }
   ],
   "source": [
    "import re\n",
    "\n",
    "m = re.match('a.b','a\\nb')\n",
    "print(m)\n",
    "\n",
    "p = re.compile('a.b',re.DOTALL)\n",
    "m = p.match('a\\nb')\n",
    "print(m)"
   ]
  },
  {
   "cell_type": "code",
   "execution_count": 6,
   "metadata": {},
   "outputs": [
    {
     "name": "stdout",
     "output_type": "stream",
     "text": [
      "<re.Match object; span=(0, 12), match='hello\\npython'>\n"
     ]
    }
   ],
   "source": [
    "s = '''hello\n",
    "python'''\n",
    "\n",
    "p = re.compile('hello.python',re.DOTALL)\n",
    "m = p.match(s)\n",
    "print(m)"
   ]
  },
  {
   "attachments": {},
   "cell_type": "markdown",
   "metadata": {},
   "source": [
    "### IGNORECASE\n",
    "- 대소문자에 관계 없이 매치한다."
   ]
  },
  {
   "cell_type": "code",
   "execution_count": 7,
   "metadata": {},
   "outputs": [
    {
     "name": "stdout",
     "output_type": "stream",
     "text": [
      "<re.Match object; span=(0, 6), match='python'>\n",
      "<re.Match object; span=(0, 6), match='Python'>\n"
     ]
    }
   ],
   "source": [
    "p = re.compile('[a-z]+', re.IGNORECASE)\n",
    "m= p.match('python')\n",
    "print(m)\n",
    "\n",
    "m = p.match('Python')\n",
    "print(m)"
   ]
  },
  {
   "attachments": {},
   "cell_type": "markdown",
   "metadata": {},
   "source": [
    "### MULTILINE\n",
    "- 여러 줄의 문자열에 대해 ^,$ 메타문자를 적용할 수 있다."
   ]
  },
  {
   "cell_type": "code",
   "execution_count": 11,
   "metadata": {},
   "outputs": [
    {
     "name": "stdout",
     "output_type": "stream",
     "text": [
      "['python one', 'python two', 'python\\npython']\n"
     ]
    }
   ],
   "source": [
    "# ^ p로 시작하는지\n",
    "# p = re.compile('^python\\s\\w+')\n",
    "# MULTILINE 은 ^, $ 메타 문자를 문자열의 각 줄마다 적용한다.\n",
    "p = re.compile('python\\s\\w+',re.MULTILINE)\n",
    "\n",
    "text= '''python one\n",
    "life is too short\n",
    "python two\n",
    "you need python\n",
    "python three'''\n",
    "\n",
    "m = p.findall(text)\n",
    "print(m)"
   ]
  },
  {
   "attachments": {},
   "cell_type": "markdown",
   "metadata": {},
   "source": [
    "### 4.4 VERBOSE\n",
    "  - VERBOSE 옵션을 사용하면 패턴 문자열에 사용된 공백은 컴파일 시 제거된다.\n",
    "  - 패턴 문자열에 주석을 넣을 수 있다."
   ]
  },
  {
   "cell_type": "code",
   "execution_count": 13,
   "metadata": {},
   "outputs": [
    {
     "name": "stdout",
     "output_type": "stream",
     "text": [
      "re.compile('\\n&[#]     # start of a numeric entity reference\\n(\\n  0[0-7]+ # Octal form\\n  |[0-9]+ # Decimal form\\n)\\n', re.VERBOSE)\n"
     ]
    }
   ],
   "source": [
    "p = re.compile(r'''\n",
    "&[#]     # start of a numeric entity reference\n",
    "(\n",
    "  0[0-7]+ # Octal form\n",
    "  |[0-9]+ # Decimal form\n",
    ")\n",
    "''',re.VERBOSE)\n",
    "\n",
    "print(p)"
   ]
  },
  {
   "attachments": {},
   "cell_type": "markdown",
   "metadata": {},
   "source": [
    "### 5. 백슬레시 문제 "
   ]
  },
  {
   "cell_type": "code",
   "execution_count": 20,
   "metadata": {},
   "outputs": [
    {
     "name": "stdout",
     "output_type": "stream",
     "text": [
      "None\n",
      "<re.Match object; span=(8, 16), match='\\\\section'>\n"
     ]
    }
   ],
   "source": [
    "import re\n",
    "\n",
    "# '\\section'으로 해석된 문자열이 전달되어 [\\t\\n\\r\\f\\v] ection과 같은 의미로 해석\n",
    "p = re.compile('\\\\section')\n",
    "# \\section -> ection으로 수정하면 검색 됨\n",
    "m = p.search('What is \\section and example?')\n",
    "print(m)\n",
    "\n",
    "p = re.compile(r'\\\\section')\n",
    "m = p.search('What is \\section and example?')\n",
    "print(m)"
   ]
  },
  {
   "attachments": {},
   "cell_type": "markdown",
   "metadata": {},
   "source": [
    "# 6. 메타 문자\n",
    "### 6.1 \n",
    "- or 의 의미"
   ]
  },
  {
   "cell_type": "code",
   "execution_count": 21,
   "metadata": {},
   "outputs": [
    {
     "name": "stdout",
     "output_type": "stream",
     "text": [
      "<re.Match object; span=(0, 5), match='Servo'>\n"
     ]
    }
   ],
   "source": [
    "import re\n",
    "\n",
    "p = re.compile('Crow|Servo')\n",
    "m = p.match('ServoHello')\n",
    "print(m)"
   ]
  },
  {
   "attachments": {},
   "cell_type": "markdown",
   "metadata": {},
   "source": [
    "### 6.2 ^\n",
    "- ^다음에 나오는 문자열로 시작하는지 판단"
   ]
  },
  {
   "cell_type": "code",
   "execution_count": 22,
   "metadata": {},
   "outputs": [
    {
     "name": "stdout",
     "output_type": "stream",
     "text": [
      "<re.Match object; span=(0, 4), match='Life'>\n",
      "None\n"
     ]
    }
   ],
   "source": [
    "print(re.search('^Life','Life is too short'))\n",
    "print(re.search('^Life','My Life'))"
   ]
  },
  {
   "cell_type": "code",
   "execution_count": null,
   "metadata": {},
   "outputs": [],
   "source": []
  },
  {
   "attachments": {},
   "cell_type": "markdown",
   "metadata": {},
   "source": [
    "### 7. ₩A\n",
    "- 문자열의 처음과 일치함을 의미\n",
    "- MULTILINE 옵션 안먹힘\n",
    "- MULTILINE 옵션 안쓴 ^ 와 동일"
   ]
  },
  {
   "cell_type": "code",
   "execution_count": 29,
   "metadata": {},
   "outputs": [
    {
     "name": "stdout",
     "output_type": "stream",
     "text": [
      "['python one']\n"
     ]
    }
   ],
   "source": [
    "# \\A 처음과 일치해야만 찾아줌\n",
    "p = re.compile('\\Apython\\s\\w+',re.MULTILINE)\n",
    "text = '''python one\n",
    "life is too short\n",
    "python two\n",
    "you need python\n",
    "python three'''\n",
    "\n",
    "m= p.findall(text)\n",
    "print(m)"
   ]
  },
  {
   "attachments": {},
   "cell_type": "markdown",
   "metadata": {},
   "source": [
    "### ₩b\n",
    "- 단어 압뒤가 공백으로 구분되어 있는지 검사\n",
    "- 매치 결과로 공백을 포함하지 않는다.\n",
    "- \\s는 공백을 포함하고 있는지를 검사. 즉, 공백도 일치하는 문자열로 검색결과에 포함\n",
    "- Raw String 문자 r을 붙여줘야 한다."
   ]
  },
  {
   "cell_type": "code",
   "execution_count": 31,
   "metadata": {},
   "outputs": [
    {
     "name": "stdout",
     "output_type": "stream",
     "text": [
      "<re.Match object; span=(2, 9), match=' class '>\n",
      "None\n",
      "None\n"
     ]
    }
   ],
   "source": [
    "# p = re.compile(r'\\bclass\\b')\n",
    "\n",
    "# 공백을 포함한 매치 결과를 반환\n",
    "p = re.compile(r'\\sclass\\s')\n",
    "# 공백을 포함하지 않고 매치 결과를 반환\n",
    "print(p.search('no class at all'))\n",
    "print(p.search('the declassfied algorithm'))\n",
    "print(p.search('one subclass is'))\n"
   ]
  },
  {
   "attachments": {},
   "cell_type": "markdown",
   "metadata": {},
   "source": [
    "### ₩B\n",
    "- 단어 앞뒤가 공백으로 구분된 단어가 아닌 경우 일치"
   ]
  },
  {
   "cell_type": "code",
   "execution_count": 33,
   "metadata": {},
   "outputs": [
    {
     "name": "stdout",
     "output_type": "stream",
     "text": [
      "None\n",
      "<re.Match object; span=(6, 11), match='class'>\n",
      "None\n"
     ]
    }
   ],
   "source": [
    "p = re.compile(r'\\Bclass\\B')\n",
    "print(p.search('no class at all'))\n",
    "print(p.search('the declassfied algorithm'))\n",
    "print(p.search('one subclass is'))"
   ]
  },
  {
   "attachments": {},
   "cell_type": "markdown",
   "metadata": {},
   "source": [
    "### 8.1 ₩\n",
    "- 정규 표현식에서 사용하는 메타 문자를 문자 그대로 표현하려면 앞에 ₩를 붙임"
   ]
  },
  {
   "cell_type": "code",
   "execution_count": 34,
   "metadata": {},
   "outputs": [
    {
     "name": "stdout",
     "output_type": "stream",
     "text": [
      "<re.Match object; span=(4, 10), match='안녕하세요?'>\n"
     ]
    }
   ],
   "source": [
    "m = re.search('안녕하세요\\?', '여러분 안녕하세요?')\n",
    "print(m)"
   ]
  },
  {
   "attachments": {},
   "cell_type": "markdown",
   "metadata": {},
   "source": [
    "# 데이터의 가공\n",
    "### 파이선에서 정규 표현식 사용\n",
    "- 그룹핑\n",
    "  - () 메타 문자는 그룹을 만든다.\n",
    "  - 그룹을 만들면 group() 함수를 사용하여 그룹핑된 부분의 문자열만 뽑아낼 수 있다.\n",
    "  - group(0): 일치된 전체 문자열, group(0)과 동일\n",
    "  - group(1): 첫 번째 그룹에 해당하는 문자열\n",
    "  - group(n): n 번째 그룹에 해당하는 문자열\n",
    "  - '₩번호' 를 이용하면 번호에 해당하는 그룹을 재참조 한다. 표현식은 Raw String 으로 선언해야 한다.\n",
    "  - 그룹핑에 이름 붙이기\n",
    "    - (?P<그룹 이름>)"
   ]
  },
  {
   "attachments": {},
   "cell_type": "markdown",
   "metadata": {},
   "source": [
    "# 9. 그룹핑"
   ]
  },
  {
   "cell_type": "code",
   "execution_count": 49,
   "metadata": {},
   "outputs": [
    {
     "name": "stdout",
     "output_type": "stream",
     "text": [
      "<re.Match object; span=(0, 9), match='ABCABCABC'>\n",
      "ABCABCABC\n",
      "ABC\n"
     ]
    }
   ],
   "source": [
    "import re\n",
    "\n",
    "p = re.compile('(ABC)+')\n",
    "m = p.search('ABCABCABC OK?')\n",
    "print(m)\n",
    "print(m.group(0)) # 일치된 전체 문자열 반환\n",
    "print(m.group(1)) # 첫 번째 그룹에 해당하는 문자열"
   ]
  },
  {
   "attachments": {},
   "cell_type": "markdown",
   "metadata": {},
   "source": [
    "- 그룹이 중첩되어 있는 경우는 바깥쪽부터 시작하여 안쪽으로 들어갈수록 인덱스가 증가한다."
   ]
  },
  {
   "cell_type": "code",
   "execution_count": 54,
   "metadata": {},
   "outputs": [
    {
     "name": "stdout",
     "output_type": "stream",
     "text": [
      "010\n"
     ]
    }
   ],
   "source": [
    "# 모든단어 , 공백포함 , 숫자 , 숫자 , 숫자\n",
    "p = re.compile('(\\w+)\\s+((\\d+)[-]\\d+[-]\\d+)')\n",
    "m = p.search('park 010-1234-1234')\n",
    "print(m.group(3))"
   ]
  },
  {
   "attachments": {},
   "cell_type": "markdown",
   "metadata": {},
   "source": [
    "- ₩번호를 이용한 그룹 재참조\n",
    "- Raw String으로 표현해야 한다."
   ]
  },
  {
   "cell_type": "code",
   "execution_count": 56,
   "metadata": {},
   "outputs": [
    {
     "data": {
      "text/plain": [
       "<re.Match object; span=(0, 4), match='abab'>"
      ]
     },
     "execution_count": 56,
     "metadata": {},
     "output_type": "execute_result"
    }
   ],
   "source": [
    "re.match(r'(a)(b)\\1\\2','abab')"
   ]
  },
  {
   "cell_type": "code",
   "execution_count": 57,
   "metadata": {},
   "outputs": [
    {
     "data": {
      "text/plain": [
       "'the the'"
      ]
     },
     "execution_count": 57,
     "metadata": {},
     "output_type": "execute_result"
    }
   ],
   "source": [
    "# \n",
    "p = re.compile(r'(\\b\\w+)\\s+\\1')\n",
    "p.search('Paris is the the spring').group()"
   ]
  },
  {
   "attachments": {},
   "cell_type": "markdown",
   "metadata": {},
   "source": [
    "- 그룹에 이름 붙이기\n",
    "- (?P<그룹 이름>)"
   ]
  },
  {
   "cell_type": "code",
   "execution_count": 59,
   "metadata": {},
   "outputs": [
    {
     "name": "stdout",
     "output_type": "stream",
     "text": [
      "park\n"
     ]
    }
   ],
   "source": [
    "p = re.compile('(?P<name>\\w+)\\s+((\\d+)[-]\\d+[-]\\d+)')\n",
    "m = p.search('park 010-1234-1234')\n",
    "print(m.group('name'))"
   ]
  },
  {
   "attachments": {},
   "cell_type": "markdown",
   "metadata": {},
   "source": [
    "### 전방 탐색\n",
    "  - 표현식1(?=표현식2): 긍정 전방탐색\n",
    "    - 표현식1 뒤에 문자열이 표현식2와 매치되면 표현식1매치. 표션식2의 문자열은 결과로 반환하지 않는다.\n",
    "  - 표현식1(?!=표현식2): 부정 전방탐색\n",
    "    - 표현식1 뒤에 문자열이 표현식2와 매치되지 않으면  표현식1매치. 표션식2의 문자열은 결과로 반환하지 않는다.\n",
    "\n",
    "### 후방탐색\n",
    "- 텍스트를 반환하기 전에 뒤쪽으 탐색하는 것\n",
    "- (?<=표현식>) 표현식: 긍정 후방탐색\n",
    "- (?<!=표현식>) 표현식: 부정 후방탐색"
   ]
  },
  {
   "attachments": {},
   "cell_type": "markdown",
   "metadata": {},
   "source": [
    "# 전방탐색 / 후방탐색\n",
    "### 긍정 전방 탐색"
   ]
  },
  {
   "cell_type": "code",
   "execution_count": 67,
   "metadata": {},
   "outputs": [
    {
     "name": "stdout",
     "output_type": "stream",
     "text": [
      "()\n"
     ]
    }
   ],
   "source": [
    "import re\n",
    "\n",
    "# URL에서 프로토콜 이름만 검색\n",
    "p = re.compile('.+(?=:)')\n",
    "m = p.search('http://www.naver.com')\n",
    "print(m.groups(0))"
   ]
  },
  {
   "attachments": {},
   "cell_type": "markdown",
   "metadata": {},
   "source": [
    "### 10.2 부정 전방 탐색"
   ]
  },
  {
   "cell_type": "code",
   "execution_count": 68,
   "metadata": {},
   "outputs": [
    {
     "name": "stdout",
     "output_type": "stream",
     "text": [
      "python.exe\n",
      "sysinfo.cf\n"
     ]
    }
   ],
   "source": [
    "# 파일 이름의 확장자 중 bat 파일만 제외하고 추출하기\n",
    "filenames = ['autoexe.bat','python.exe','sysinfo.cf']\n",
    "p = re.compile('.+.[.](?!bat).+') # 뒤에 . + -> 확장자까지 일치 문자열로 찾기 위해\n",
    "for filename in filenames:\n",
    "  m= p.search(filename)\n",
    "  if m:\n",
    "    print(m.group())"
   ]
  },
  {
   "attachments": {},
   "cell_type": "markdown",
   "metadata": {},
   "source": [
    "### 10.3 후방탐색"
   ]
  },
  {
   "cell_type": "code",
   "execution_count": 70,
   "metadata": {},
   "outputs": [
    {
     "name": "stdout",
     "output_type": "stream",
     "text": [
      "23.45\n"
     ]
    }
   ],
   "source": [
    "p = re.compile('(?<=\\$)\\d+[.]\\d+')\n",
    "m = p.search('ABC01: $23.45')\n",
    "print(m.group())"
   ]
  },
  {
   "attachments": {},
   "cell_type": "markdown",
   "metadata": {},
   "source": [
    "# 11 문자열 바꾸기"
   ]
  },
  {
   "cell_type": "code",
   "execution_count": 74,
   "metadata": {},
   "outputs": [
    {
     "data": {
      "text/plain": [
       "'colur socks and colur socks'"
      ]
     },
     "execution_count": 74,
     "metadata": {},
     "output_type": "execute_result"
    }
   ],
   "source": [
    "p = re.compile('blue|white|red')\n",
    "#  count = 0 | 생략하면 전체를 다 바꾼다.\n",
    "p.sub('colur','blue socks and red socks') #, count = 0)"
   ]
  },
  {
   "attachments": {},
   "cell_type": "markdown",
   "metadata": {},
   "source": [
    "# 12 정규 표현식 실습\n",
    "### 12.1 한글 찾기 / 한글 제거"
   ]
  },
  {
   "cell_type": "code",
   "execution_count": 82,
   "metadata": {},
   "outputs": [
    {
     "name": "stdout",
     "output_type": "stream",
     "text": [
      "['한글이에요', '안녕하세요']\n",
      "['good', 'morning']\n"
     ]
    }
   ],
   "source": [
    "s = '한글이에요. good morning. 안녕하세요'\n",
    "m = re.findall('[ㄱ-힣]+',s)\n",
    "print(m)\n",
    "m = re.findall('[^\\.\\sㄱ-힣]+',s)\n",
    "print(m)"
   ]
  },
  {
   "attachments": {},
   "cell_type": "markdown",
   "metadata": {},
   "source": [
    "### 12.2 대문자로 시작하는 단어 찾기"
   ]
  },
  {
   "cell_type": "code",
   "execution_count": 94,
   "metadata": {},
   "outputs": [
    {
     "name": "stdout",
     "output_type": "stream",
     "text": [
      "['Lorem', 'PCRE', 'In', 'Blanditiis']\n",
      "['Lorem', 'In', 'Blanditiis']\n"
     ]
    }
   ],
   "source": [
    "text = 'Lorem ipsum dolor sit amet PCRE consectetur adipisicing elit. In architecto odio repudiandae ut quibusdam iste inventore! Blanditiis, autem quaerat sit possimus saepe unde corporis facere enim expedita nulla cumque suscipit.'\n",
    "\n",
    "m1 = re.findall('[A-Z]\\w+',text)\n",
    "m2 = re.findall('[A-Z][a-z]+',text)\n",
    "\n",
    "print(m1)\n",
    "print(m2)"
   ]
  },
  {
   "attachments": {},
   "cell_type": "markdown",
   "metadata": {},
   "source": [
    "### 12.3 문장 안에 이메일 주소 추출하기"
   ]
  },
  {
   "cell_type": "code",
   "execution_count": 104,
   "metadata": {},
   "outputs": [
    {
     "name": "stdout",
     "output_type": "stream",
     "text": [
      "['john.d@yahoo.com', 'ryan.arjun@gmail.com', 'rosy.gray@amazon.com.co']\n",
      "['john.d@yahoo.com', 'ryan.arjun@gmail.com', 'rosy.gray@amazon.com.co.uk']\n"
     ]
    }
   ],
   "source": [
    "text = '''Ryan has sent an invoice email to john.d@yahoo.com by using\n",
    "his email id ryan.arjun@gmail.com and he also shared a copy to his boss\n",
    "rosy.gray@amazon.com.co.uk on the cc part.'''\n",
    "\n",
    "p = re.compile('[a-zA-Z]\\w*[.]?\\w*@[a-zA-Z]\\w*[.]\\w*[.]?\\w*')\n",
    "m1 = re.findall(p,text)\n",
    "m2 = re.findall(r'\\b[A-Za-z0-9._%+-]+@[A-Za-z0-9.-]+\\.[A-Za-z]{2,}\\b',text)\n",
    "print(m1)\n",
    "print(m2)"
   ]
  },
  {
   "attachments": {},
   "cell_type": "markdown",
   "metadata": {},
   "source": [
    "### 12.4 입력 받은 주민번호의 유효성 검증"
   ]
  },
  {
   "cell_type": "code",
   "execution_count": 109,
   "metadata": {},
   "outputs": [
    {
     "name": "stdout",
     "output_type": "stream",
     "text": [
      "유효하지 않음\n"
     ]
    }
   ],
   "source": [
    "import re\n",
    "\n",
    "jumin = input(\"주민등록번호 입력: \")\n",
    "p = re.compile('\\d{2}[0-1]\\d{1}[0-3]\\d{1}-[1-4]\\d{6}')\n",
    "m = p.match(jumin)\n",
    "\n",
    "if m:\n",
    "    print(\"유효함\")\n",
    "else:\n",
    "    print(\"유효하지 않음\")"
   ]
  },
  {
   "attachments": {},
   "cell_type": "markdown",
   "metadata": {},
   "source": [
    "# 2. BeautifulSoup 모듈\n",
    "- 홈페이지 내 데이터를 쉽게 추출할 수 있도록 도와주는 파이선 외부 라이브러리\n",
    "- DOM Tree 형태로 구조화된 웹 페이지의 특정 요소를 이용하여 데이터를 추출하는 방법이 훨씬 유용\n",
    "  - DOM Tree 부터 데이터를 추출해 올 수 있는 다양한 기능을 제공"
   ]
  },
  {
   "attachments": {},
   "cell_type": "markdown",
   "metadata": {},
   "source": [
    "### 2.1 Parser별 출력 결과 비교"
   ]
  },
  {
   "cell_type": "code",
   "execution_count": 2,
   "metadata": {},
   "outputs": [
    {
     "name": "stdout",
     "output_type": "stream",
     "text": [
      "html.parser\n",
      "<a></a>\n",
      "----------------------------------------\n",
      "lxml\n",
      "<html><body><a></a></body></html>\n",
      "----------------------------------------\n",
      "xml\n",
      "<?xml version=\"1.0\" encoding=\"utf-8\"?>\n",
      "<a/>\n",
      "----------------------------------------\n",
      "html5lib\n",
      "<html><head></head><body><a><p></p></a></body></html>\n",
      "----------------------------------------\n"
     ]
    }
   ],
   "source": [
    "from bs4 import BeautifulSoup\n",
    "\n",
    "soup = BeautifulSoup('<a></p>','html.parser')\n",
    "print('html.parser')\n",
    "print(soup)\n",
    "print('-'*40)\n",
    "\n",
    "soup = BeautifulSoup('<a></p>',features='lxml')\n",
    "print('lxml')\n",
    "print(soup)\n",
    "print('-'*40)\n",
    "\n",
    "soup = BeautifulSoup('<a></p>','xml')\n",
    "print('xml')\n",
    "print(soup)\n",
    "print('-'*40)\n",
    "\n",
    "soup = BeautifulSoup('<a></p>','html5lib')\n",
    "print('html5lib')\n",
    "print(soup)\n",
    "print('-'*40)"
   ]
  },
  {
   "cell_type": "code",
   "execution_count": 3,
   "metadata": {},
   "outputs": [
    {
     "name": "stdout",
     "output_type": "stream",
     "text": [
      "<title>웹 크롤러 - 위키백과, 우리 모두의 백과사전</title>\n",
      "<li id=\"footer-info-lastmod\"> 이 문서는 2023년 4월 30일 (일) 18:34에 마지막으로 편집되었습니다.</li>\n",
      "<a href=\"/wiki/%EA%B5%AC%EA%B8%80%EB%B4%87\" title=\"구글봇\">구글봇</a>\n",
      "<a href=\"/wiki/%EA%B5%AC%EA%B8%80%EB%B4%87\" title=\"구글봇\">구글봇</a>\n"
     ]
    }
   ],
   "source": [
    "import requests\n",
    "from bs4 import BeautifulSoup\n",
    "\n",
    "URL = 'https://ko.wikipedia.org/wiki/%EC%9B%B9_%ED%81%AC%EB%A1%A4%EB%9F%AC'\n",
    "res = requests.get(URL)\n",
    "\n",
    "soup = BeautifulSoup(res.text,'html.parser')\n",
    "\n",
    "#태그를 이용한 접근\n",
    "print(soup.title)\n",
    "print(soup.footer.ul.li)\n",
    "\n",
    "#태그와 속성을 이용한 접근 (만약 속성이 존재하지 않으면 에러 발생)\n",
    "# print(soup.a['id'])\n",
    "\n",
    "#함수는 이용한 태그 내의 다양한 속성을 이용한 접근\n",
    "print(soup.find('a',attrs={'title':'구글봇'}))\n",
    "# title 속성 값이 '구글봇'인 어떤 element를 찾아 출력\n",
    "print(soup.find(attrs={'title':'구글봇'}))\n",
    "\n",
    "\n"
   ]
  },
  {
   "cell_type": "code",
   "execution_count": 4,
   "metadata": {},
   "outputs": [
    {
     "name": "stdout",
     "output_type": "stream",
     "text": [
      "<title>NAVER</title>\n",
      "title\n",
      "NAVER\n",
      "<img alt=\"스승의 날\" class=\"special_img\" height=\"160\" src=\"https://s.pstatic.net/static/www/mobile/edit/20230515/mobile_000957580983.gif\" width=\"415\"/>\n",
      "https://s.pstatic.net/static/www/mobile/edit/20230515/mobile_000957580983.gif\n"
     ]
    }
   ],
   "source": [
    "### 2.3 검색: 태그\n",
    "import requests as req\n",
    "from bs4 import BeautifulSoup\n",
    "\n",
    "res = req.get('https://www.naver.com')\n",
    "soup = BeautifulSoup(res.text,'html.parser')\n",
    "\n",
    "print(soup.title)\n",
    "print(soup.title.name) # 태그의 이름\n",
    "print(soup.title.string) # 태그 내의 문자열, soup.title.text 가능\n",
    "\n",
    "print(soup.img)\n",
    "print(soup.img['src']) # 이미지 태그의 src 속성값\n"
   ]
  }
 ],
 "metadata": {
  "kernelspec": {
   "display_name": "Python 3",
   "language": "python",
   "name": "python3"
  },
  "language_info": {
   "codemirror_mode": {
    "name": "ipython",
    "version": 3
   },
   "file_extension": ".py",
   "mimetype": "text/x-python",
   "name": "python",
   "nbconvert_exporter": "python",
   "pygments_lexer": "ipython3",
   "version": "3.11.3"
  },
  "orig_nbformat": 4
 },
 "nbformat": 4,
 "nbformat_minor": 2
}
