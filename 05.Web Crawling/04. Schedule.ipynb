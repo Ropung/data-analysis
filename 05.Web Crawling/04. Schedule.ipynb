{
 "cells": [
  {
   "attachments": {},
   "cell_type": "markdown",
   "metadata": {},
   "source": [
    "# 1. Schedule 모듈\n",
    "- pip install schedule"
   ]
  },
  {
   "attachments": {},
   "cell_type": "markdown",
   "metadata": {},
   "source": [
    "### schedule 모듈 활용\n",
    "- while 반복문을 활용하여 꾸준히 스케쥴을 유지\n",
    "- 특정 조건에 만족하는 스케쥴이 있을 때마다 해당 함수 실행\n",
    "- schedule.every(20).minutes.do(job): 매 20분마다 실행,\n",
    "- job: 스케쥴에 의해 실행될 내용을 정의해 놓은 함수의 이름\n",
    "- schedule.every().hour.do(job): 매 시간 실행\n",
    "- schedule.every().day.at('10:30'): 매일 10시 30분에 실행\n",
    "- schedule.every().monday.do(job): 매주 월요일 실행\n",
    "- schedule.every().wednesday.at(\"13:15\").do(job): 매주 수요일 13시 15분에 실행"
   ]
  },
  {
   "attachments": {},
   "cell_type": "markdown",
   "metadata": {},
   "source": [
    "### 1.2 시간별 스케쥴 잡 실행하기"
   ]
  },
  {
   "cell_type": "code",
   "execution_count": 1,
   "metadata": {},
   "outputs": [
    {
     "name": "stdout",
     "output_type": "stream",
     "text": [
      "1684217406.560468\n",
      "1684217416.560601\n",
      "1684217426.560698\n"
     ]
    },
    {
     "ename": "KeyboardInterrupt",
     "evalue": "",
     "output_type": "error",
     "traceback": [
      "\u001b[0;31m---------------------------------------------------------------------------\u001b[0m",
      "\u001b[0;31mKeyboardInterrupt\u001b[0m                         Traceback (most recent call last)",
      "Cell \u001b[0;32mIn[1], line 10\u001b[0m\n\u001b[1;32m      7\u001b[0m schedule\u001b[39m.\u001b[39mevery(\u001b[39m10\u001b[39m)\u001b[39m.\u001b[39mseconds\u001b[39m.\u001b[39mdo(job)\n\u001b[1;32m      9\u001b[0m \u001b[39mwhile\u001b[39;00m \u001b[39mTrue\u001b[39;00m:\n\u001b[0;32m---> 10\u001b[0m   schedule\u001b[39m.\u001b[39;49mrun_pending()\n",
      "File \u001b[0;32m/Library/Frameworks/Python.framework/Versions/3.11/lib/python3.11/site-packages/schedule/__init__.py:822\u001b[0m, in \u001b[0;36mrun_pending\u001b[0;34m()\u001b[0m\n\u001b[1;32m    818\u001b[0m \u001b[39mdef\u001b[39;00m \u001b[39mrun_pending\u001b[39m() \u001b[39m-\u001b[39m\u001b[39m>\u001b[39m \u001b[39mNone\u001b[39;00m:\n\u001b[1;32m    819\u001b[0m \u001b[39m    \u001b[39m\u001b[39m\"\"\"Calls :meth:`run_pending <Scheduler.run_pending>` on the\u001b[39;00m\n\u001b[1;32m    820\u001b[0m \u001b[39m    :data:`default scheduler instance <default_scheduler>`.\u001b[39;00m\n\u001b[1;32m    821\u001b[0m \u001b[39m    \"\"\"\u001b[39;00m\n\u001b[0;32m--> 822\u001b[0m     default_scheduler\u001b[39m.\u001b[39;49mrun_pending()\n",
      "File \u001b[0;32m/Library/Frameworks/Python.framework/Versions/3.11/lib/python3.11/site-packages/schedule/__init__.py:99\u001b[0m, in \u001b[0;36mScheduler.run_pending\u001b[0;34m(self)\u001b[0m\n\u001b[1;32m     89\u001b[0m \u001b[39m\u001b[39m\u001b[39m\"\"\"\u001b[39;00m\n\u001b[1;32m     90\u001b[0m \u001b[39mRun all jobs that are scheduled to run.\u001b[39;00m\n\u001b[1;32m     91\u001b[0m \n\u001b[0;32m   (...)\u001b[0m\n\u001b[1;32m     96\u001b[0m \u001b[39mbetween but only once.\u001b[39;00m\n\u001b[1;32m     97\u001b[0m \u001b[39m\"\"\"\u001b[39;00m\n\u001b[1;32m     98\u001b[0m runnable_jobs \u001b[39m=\u001b[39m (job \u001b[39mfor\u001b[39;00m job \u001b[39min\u001b[39;00m \u001b[39mself\u001b[39m\u001b[39m.\u001b[39mjobs \u001b[39mif\u001b[39;00m job\u001b[39m.\u001b[39mshould_run)\n\u001b[0;32m---> 99\u001b[0m \u001b[39mfor\u001b[39;00m job \u001b[39min\u001b[39;00m \u001b[39msorted\u001b[39m(runnable_jobs):\n\u001b[1;32m    100\u001b[0m     \u001b[39mself\u001b[39m\u001b[39m.\u001b[39m_run_job(job)\n",
      "File \u001b[0;32m/Library/Frameworks/Python.framework/Versions/3.11/lib/python3.11/site-packages/schedule/__init__.py:98\u001b[0m, in \u001b[0;36m<genexpr>\u001b[0;34m(.0)\u001b[0m\n\u001b[1;32m     88\u001b[0m \u001b[39mdef\u001b[39;00m \u001b[39mrun_pending\u001b[39m(\u001b[39mself\u001b[39m) \u001b[39m-\u001b[39m\u001b[39m>\u001b[39m \u001b[39mNone\u001b[39;00m:\n\u001b[1;32m     89\u001b[0m \u001b[39m    \u001b[39m\u001b[39m\"\"\"\u001b[39;00m\n\u001b[1;32m     90\u001b[0m \u001b[39m    Run all jobs that are scheduled to run.\u001b[39;00m\n\u001b[1;32m     91\u001b[0m \n\u001b[0;32m   (...)\u001b[0m\n\u001b[1;32m     96\u001b[0m \u001b[39m    between but only once.\u001b[39;00m\n\u001b[1;32m     97\u001b[0m \u001b[39m    \"\"\"\u001b[39;00m\n\u001b[0;32m---> 98\u001b[0m     runnable_jobs \u001b[39m=\u001b[39m (job \u001b[39mfor\u001b[39;00m job \u001b[39min\u001b[39;00m \u001b[39mself\u001b[39m\u001b[39m.\u001b[39mjobs \u001b[39mif\u001b[39;00m job\u001b[39m.\u001b[39;49mshould_run)\n\u001b[1;32m     99\u001b[0m     \u001b[39mfor\u001b[39;00m job \u001b[39min\u001b[39;00m \u001b[39msorted\u001b[39m(runnable_jobs):\n\u001b[1;32m    100\u001b[0m         \u001b[39mself\u001b[39m\u001b[39m.\u001b[39m_run_job(job)\n",
      "File \u001b[0;32m/Library/Frameworks/Python.framework/Versions/3.11/lib/python3.11/site-packages/schedule/__init__.py:674\u001b[0m, in \u001b[0;36mJob.should_run\u001b[0;34m(self)\u001b[0m\n\u001b[1;32m    670\u001b[0m \u001b[39m\u001b[39m\u001b[39m\"\"\"\u001b[39;00m\n\u001b[1;32m    671\u001b[0m \u001b[39m:return: ``True`` if the job should be run now.\u001b[39;00m\n\u001b[1;32m    672\u001b[0m \u001b[39m\"\"\"\u001b[39;00m\n\u001b[1;32m    673\u001b[0m \u001b[39massert\u001b[39;00m \u001b[39mself\u001b[39m\u001b[39m.\u001b[39mnext_run \u001b[39mis\u001b[39;00m \u001b[39mnot\u001b[39;00m \u001b[39mNone\u001b[39;00m, \u001b[39m\"\u001b[39m\u001b[39mmust run _schedule_next_run before\u001b[39m\u001b[39m\"\u001b[39m\n\u001b[0;32m--> 674\u001b[0m \u001b[39mreturn\u001b[39;00m datetime\u001b[39m.\u001b[39;49mdatetime\u001b[39m.\u001b[39;49mnow() \u001b[39m>\u001b[39m\u001b[39m=\u001b[39m \u001b[39mself\u001b[39m\u001b[39m.\u001b[39mnext_run\n",
      "\u001b[0;31mKeyboardInterrupt\u001b[0m: "
     ]
    }
   ],
   "source": [
    "import schedule\n",
    "import time\n",
    "\n",
    "def job():\n",
    "  print(time.time())\n",
    "\n",
    "schedule.every(10).seconds.do(job)\n",
    "\n",
    "while True:\n",
    "  schedule.run_pending()"
   ]
  },
  {
   "cell_type": "code",
   "execution_count": null,
   "metadata": {},
   "outputs": [],
   "source": [
    "def job():\n",
    "  print(\"i'm working\")\n",
    "  \n",
    "# 매 3 초 / 분 /시간 /일 / 주 마다\n",
    "schedule.every(3).second.do(job)\n",
    "schedule.every(3).minute.do(job)\n",
    "schedule.every(3).hour.do(job)\n",
    "schedule.every(3).days.do(job)\n",
    "schedule.every(3).weeks.do(job)\n",
    "\n",
    "# 매 분 23초마다 job 함수 실행\n",
    "schedule.every().minute.at(':23').do(job)\n",
    "\n",
    "# 매 시 42분마다 job 함수 실행\n",
    "schedule.every().hour.at(':42').do(job)\n",
    "\n",
    "# 매 5시간째 20분 30초 마다 job 함수 실행\n",
    "# 만약 현재 시간이 02:00이면 첫 실행은 06:20:30 에 실행\n",
    "# (5시간째가 되는 6시 30분에 실행)\n",
    "schedule.every(5).hour.at('20:30').do(job)\n",
    "\n"
   ]
  }
 ],
 "metadata": {
  "kernelspec": {
   "display_name": "Python 3",
   "language": "python",
   "name": "python3"
  },
  "language_info": {
   "codemirror_mode": {
    "name": "ipython",
    "version": 3
   },
   "file_extension": ".py",
   "mimetype": "text/x-python",
   "name": "python",
   "nbconvert_exporter": "python",
   "pygments_lexer": "ipython3",
   "version": "3.11.3"
  },
  "orig_nbformat": 4
 },
 "nbformat": 4,
 "nbformat_minor": 2
}
