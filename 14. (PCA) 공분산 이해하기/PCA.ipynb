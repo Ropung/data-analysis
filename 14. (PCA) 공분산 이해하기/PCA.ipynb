{
 "cells": [
  {
   "attachments": {},
   "cell_type": "markdown",
   "metadata": {},
   "source": [
    "### 공분산 행렬이란?\n",
    "  - 하나의 특성 값 사이에서의 변동을 분산이라고 하며, 두개 이상의 특성 값 사이에서의 변동은 공분산 이라고 한다.\n",
    "  - 데이터 구조를 설명해주며, 특히 특성들 간의 변동이 얼마나 닮았는가를 나타내는 행렬이다.\n",
    "  - 예를 들어 x와 y 특성 변수가 있을 때 x가 커질 때 y도 함께 커지거나, x가 작아질 때 y도 같이 작아지면 두 값을 곱했을 때 양수가 된다. 반면에 x가 커질 때 y는 작아지거나, x가 작아질 때 y가 커지면 두 값을 곱했을 때 음수가 된다.\n",
    "  - 이와 같이 숫자의 크기와 부호를 이용해서 관계의 방향과 크기를 알려주는 것이 공분산이다.\n",
    "  - 공분산 행렬은 정방행렬이며 대칭행렬이다.\n",
    "  - 대각 성분에는 자기 자신의 분산이며 나머지 성분은 서로 다른 두 변수간의 공분산 값이다."
   ]
  },
  {
   "attachments": {},
   "cell_type": "markdown",
   "metadata": {},
   "source": [
    "### 1. 육상 선수 종목별 기록 데이터"
   ]
  },
  {
   "cell_type": "code",
   "execution_count": 2,
   "metadata": {},
   "outputs": [
    {
     "data": {
      "text/plain": [
       "array([[ 3.73,  1.86, 15.8 ,  4.05,  7.27, 45.66, 34.92],\n",
       "       [ 3.57,  1.8 , 16.23,  2.96,  6.71, 42.56, 37.31],\n",
       "       [ 3.22,  1.83, 14.2 ,  3.51,  6.68, 44.54, 39.23],\n",
       "       [ 2.81,  1.8 , 15.23,  2.69,  6.25, 42.78, 31.19],\n",
       "       [ 2.91,  1.74, 14.76,  2.68,  6.32, 47.46, 35.53],\n",
       "       [ 2.67,  1.83, 13.5 ,  1.96,  6.33, 42.82, 37.64]])"
      ]
     },
     "execution_count": 2,
     "metadata": {},
     "output_type": "execute_result"
    }
   ],
   "source": [
    "import numpy as np\n",
    "\n",
    "A = np.array([\n",
    "              [3.73, 1.86, 15.8, 4.05, 7.27, 45.66, 34.92 ],\n",
    "              [3.57, 1.80, 16.23, 2.96, 6.71, 42.56, 37.31],\n",
    "              [3.22, 1.83, 14.20, 3.51, 6.68, 44.54, 39.23],\n",
    "              [2.81, 1.80, 15.23, 2.69, 6.25, 42.78, 31.19],\n",
    "              [2.91, 1.74, 14.76, 2.68, 6.32, 47.46, 35.53],\n",
    "              [2.67, 1.83, 13.50, 1.96, 6.33, 42.82, 37.64]\n",
    "])\n",
    "A"
   ]
  },
  {
   "attachments": {},
   "cell_type": "markdown",
   "metadata": {},
   "source": [
    "# 2. 허들 종목 기록 데이터 및 통계지표"
   ]
  },
  {
   "cell_type": "code",
   "execution_count": 15,
   "metadata": {},
   "outputs": [
    {
     "name": "stdout",
     "output_type": "stream",
     "text": [
      "허들종목 기록 데이터\n",
      "[3.73 3.57 3.22 2.81 2.91 2.67]\n",
      "3.152\n",
      "0.184\n",
      "0.392\n"
     ]
    }
   ],
   "source": [
    "print('허들종목 기록 데이터')\n",
    "hurdles = A[:,0]\n",
    "print(hurdles)\n",
    "# 평균\n",
    "average =round(np.mean(hurdles),3)\n",
    "print(average)\n",
    "# 분산 (N - ddof)값으로 나눈 평균을 계산\n",
    "var = round(np.var(hurdles, ddof=1),3)\n",
    "print(var)\n",
    "# 표준편차\n",
    "std = round(np.std(hurdles),3)\n",
    "print(std)\n",
    "\n",
    "\n"
   ]
  }
 ],
 "metadata": {
  "kernelspec": {
   "display_name": "Python 3",
   "language": "python",
   "name": "python3"
  },
  "language_info": {
   "codemirror_mode": {
    "name": "ipython",
    "version": 3
   },
   "file_extension": ".py",
   "mimetype": "text/x-python",
   "name": "python",
   "nbconvert_exporter": "python",
   "pygments_lexer": "ipython3",
   "version": "3.11.3"
  },
  "orig_nbformat": 4
 },
 "nbformat": 4,
 "nbformat_minor": 2
}
